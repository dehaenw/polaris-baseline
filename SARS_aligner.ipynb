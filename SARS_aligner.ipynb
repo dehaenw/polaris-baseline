{
 "cells": [
  {
   "cell_type": "code",
   "execution_count": 1,
   "id": "133d014c-d648-47ba-8b6e-0541c27b9c50",
   "metadata": {},
   "outputs": [
    {
     "data": {
      "text/html": [
       "<pre style=\"white-space:pre;overflow-x:auto;line-height:normal;font-family:Menlo,'DejaVu Sans Mono',consolas,'Courier New',monospace\"><span style=\"color: #7fbfbf; text-decoration-color: #7fbfbf\">[2025-03-12 15:27:39] </span><span style=\"color: #000080; text-decoration-color: #000080\">INFO    </span> The version of Polaris that was used to create the artifact <span style=\"font-weight: bold\">(</span><span style=\"color: #008080; text-decoration-color: #008080; font-weight: bold\">0.11</span>.<span style=\"color: #008080; text-decoration-color: #008080; font-weight: bold\">0</span><span style=\"font-weight: bold\">)</span> <a href=\"file:///home/wim/anaconda3/envs/my-rdkit-env/lib/python3.12/site-packages/polaris/_artifact.py\" target=\"_blank\"><span style=\"color: #7f7f7f; text-decoration-color: #7f7f7f\">_artifact.py</span></a><span style=\"color: #7f7f7f; text-decoration-color: #7f7f7f\">:</span><a href=\"file:///home/wim/anaconda3/envs/my-rdkit-env/lib/python3.12/site-packages/polaris/_artifact.py#92\" target=\"_blank\"><span style=\"color: #7f7f7f; text-decoration-color: #7f7f7f\">92</span></a>\n",
       "<span style=\"color: #7fbfbf; text-decoration-color: #7fbfbf\">                      </span>         is different from the currently installed version of Polaris         <span style=\"color: #7f7f7f; text-decoration-color: #7f7f7f\">               </span>\n",
       "<span style=\"color: #7fbfbf; text-decoration-color: #7fbfbf\">                      </span>         <span style=\"font-weight: bold\">(</span><span style=\"color: #008080; text-decoration-color: #008080; font-weight: bold\">0.11</span>.<span style=\"color: #008080; text-decoration-color: #008080; font-weight: bold\">9</span><span style=\"font-weight: bold\">)</span>.                                                            <span style=\"color: #7f7f7f; text-decoration-color: #7f7f7f\">               </span>\n",
       "</pre>\n"
      ],
      "text/plain": [
       "\u001b[2;36m[2025-03-12 15:27:39]\u001b[0m\u001b[2;36m \u001b[0m\u001b[34mINFO    \u001b[0m The version of Polaris that was used to create the artifact \u001b[1m(\u001b[0m\u001b[1;36m0.11\u001b[0m.\u001b[1;36m0\u001b[0m\u001b[1m)\u001b[0m \u001b]8;id=734225;file:///home/wim/anaconda3/envs/my-rdkit-env/lib/python3.12/site-packages/polaris/_artifact.py\u001b\\\u001b[2m_artifact.py\u001b[0m\u001b]8;;\u001b\\\u001b[2m:\u001b[0m\u001b]8;id=556889;file:///home/wim/anaconda3/envs/my-rdkit-env/lib/python3.12/site-packages/polaris/_artifact.py#92\u001b\\\u001b[2m92\u001b[0m\u001b]8;;\u001b\\\n",
       "\u001b[2;36m                      \u001b[0m         is different from the currently installed version of Polaris         \u001b[2m               \u001b[0m\n",
       "\u001b[2;36m                      \u001b[0m         \u001b[1m(\u001b[0m\u001b[1;36m0.11\u001b[0m.\u001b[1;36m9\u001b[0m\u001b[1m)\u001b[0m.                                                            \u001b[2m               \u001b[0m\n"
      ]
     },
     "metadata": {},
     "output_type": "display_data"
    },
    {
     "data": {
      "text/html": [
       "<pre style=\"white-space:pre;overflow-x:auto;line-height:normal;font-family:Menlo,'DejaVu Sans Mono',consolas,'Courier New',monospace\"><span style=\"color: #7fbfbf; text-decoration-color: #7fbfbf\">                      </span><span style=\"color: #808000; text-decoration-color: #808000\">WARNING </span> You're loading data from a remote location. If the dataset is small     <a href=\"file:///home/wim/anaconda3/envs/my-rdkit-env/lib/python3.12/site-packages/polaris/dataset/_base.py\" target=\"_blank\"><span style=\"color: #7f7f7f; text-decoration-color: #7f7f7f\">_base.py</span></a><span style=\"color: #7f7f7f; text-decoration-color: #7f7f7f\">:</span><a href=\"file:///home/wim/anaconda3/envs/my-rdkit-env/lib/python3.12/site-packages/polaris/dataset/_base.py#181\" target=\"_blank\"><span style=\"color: #7f7f7f; text-decoration-color: #7f7f7f\">181</span></a>\n",
       "<span style=\"color: #7fbfbf; text-decoration-color: #7fbfbf\">                      </span>         enough, consider caching the dataset first using                        <span style=\"color: #7f7f7f; text-decoration-color: #7f7f7f\">            </span>\n",
       "<span style=\"color: #7fbfbf; text-decoration-color: #7fbfbf\">                      </span>         <span style=\"color: #800080; text-decoration-color: #800080; font-weight: bold\">CompetitionSpecification.cache</span><span style=\"font-weight: bold\">()</span> for more performant data access.       <span style=\"color: #7f7f7f; text-decoration-color: #7f7f7f\">            </span>\n",
       "</pre>\n"
      ],
      "text/plain": [
       "\u001b[2;36m                     \u001b[0m\u001b[2;36m \u001b[0m\u001b[33mWARNING \u001b[0m You're loading data from a remote location. If the dataset is small     \u001b]8;id=360017;file:///home/wim/anaconda3/envs/my-rdkit-env/lib/python3.12/site-packages/polaris/dataset/_base.py\u001b\\\u001b[2m_base.py\u001b[0m\u001b]8;;\u001b\\\u001b[2m:\u001b[0m\u001b]8;id=213814;file:///home/wim/anaconda3/envs/my-rdkit-env/lib/python3.12/site-packages/polaris/dataset/_base.py#181\u001b\\\u001b[2m181\u001b[0m\u001b]8;;\u001b\\\n",
       "\u001b[2;36m                      \u001b[0m         enough, consider caching the dataset first using                        \u001b[2m            \u001b[0m\n",
       "\u001b[2;36m                      \u001b[0m         \u001b[1;35mCompetitionSpecification.cache\u001b[0m\u001b[1m(\u001b[0m\u001b[1m)\u001b[0m for more performant data access.       \u001b[2m            \u001b[0m\n"
      ]
     },
     "metadata": {},
     "output_type": "display_data"
    },
    {
     "data": {
      "application/vnd.jupyter.widget-view+json": {
       "model_id": "5b83fbd0b99e489383b2e65ac4abce7c",
       "version_major": 2,
       "version_minor": 0
      },
      "text/plain": [
       "Output()"
      ]
     },
     "metadata": {},
     "output_type": "display_data"
    },
    {
     "data": {
      "text/html": [
       "<pre style=\"white-space:pre;overflow-x:auto;line-height:normal;font-family:Menlo,'DejaVu Sans Mono',consolas,'Courier New',monospace\"><span style=\"color: #7fbfbf; text-decoration-color: #7fbfbf\">[15:27:40] </span><span style=\"color: #008000; text-decoration-color: #008000\">Copying to destination </span>                                                                     <a href=\"file:///home/wim/anaconda3/envs/my-rdkit-env/lib/python3.12/site-packages/polaris/dataset/_base.py\" target=\"_blank\"><span style=\"color: #7f7f7f; text-decoration-color: #7f7f7f\">_base.py</span></a><span style=\"color: #7f7f7f; text-decoration-color: #7f7f7f\">:</span><a href=\"file:///home/wim/anaconda3/envs/my-rdkit-env/lib/python3.12/site-packages/polaris/dataset/_base.py#380\" target=\"_blank\"><span style=\"color: #7f7f7f; text-decoration-color: #7f7f7f\">380</span></a>\n",
       "<span style=\"color: #7fbfbf; text-decoration-color: #7fbfbf\">           </span><span style=\"color: #008000; text-decoration-color: #008000\">/home/wim/.cache/polaris/datasets/a66af4e0-ce18-4ebb-8fd6-a0c89c230c91/data.zarr</span>            <span style=\"color: #7f7f7f; text-decoration-color: #7f7f7f\">            </span>\n",
       "</pre>\n"
      ],
      "text/plain": [
       "\u001b[2;36m[15:27:40]\u001b[0m\u001b[2;36m \u001b[0m\u001b[32mCopying to destination \u001b[0m                                                                     \u001b]8;id=817561;file:///home/wim/anaconda3/envs/my-rdkit-env/lib/python3.12/site-packages/polaris/dataset/_base.py\u001b\\\u001b[2m_base.py\u001b[0m\u001b]8;;\u001b\\\u001b[2m:\u001b[0m\u001b]8;id=348142;file:///home/wim/anaconda3/envs/my-rdkit-env/lib/python3.12/site-packages/polaris/dataset/_base.py#380\u001b\\\u001b[2m380\u001b[0m\u001b]8;;\u001b\\\n",
       "\u001b[2;36m           \u001b[0m\u001b[32m/home/wim/.cache/polaris/datasets/a66af4e0-ce18-4ebb-8fd6-a0c89c230c91/\u001b[0m\u001b[32mdata.zarr\u001b[0m            \u001b[2m            \u001b[0m\n"
      ]
     },
     "metadata": {},
     "output_type": "display_data"
    },
    {
     "data": {
      "text/html": [
       "<pre style=\"white-space:pre;overflow-x:auto;line-height:normal;font-family:Menlo,'DejaVu Sans Mono',consolas,'Courier New',monospace\"><span style=\"color: #7fbfbf; text-decoration-color: #7fbfbf\">           </span><span style=\"color: #808000; text-decoration-color: #808000\">For large Zarr archives, this may take a while.</span>                                             <a href=\"file:///home/wim/anaconda3/envs/my-rdkit-env/lib/python3.12/site-packages/polaris/dataset/_base.py\" target=\"_blank\"><span style=\"color: #7f7f7f; text-decoration-color: #7f7f7f\">_base.py</span></a><span style=\"color: #7f7f7f; text-decoration-color: #7f7f7f\">:</span><a href=\"file:///home/wim/anaconda3/envs/my-rdkit-env/lib/python3.12/site-packages/polaris/dataset/_base.py#381\" target=\"_blank\"><span style=\"color: #7f7f7f; text-decoration-color: #7f7f7f\">381</span></a>\n",
       "</pre>\n"
      ],
      "text/plain": [
       "\u001b[2;36m          \u001b[0m\u001b[2;36m \u001b[0m\u001b[33mFor large Zarr archives, this may take a while.\u001b[0m                                             \u001b]8;id=772805;file:///home/wim/anaconda3/envs/my-rdkit-env/lib/python3.12/site-packages/polaris/dataset/_base.py\u001b\\\u001b[2m_base.py\u001b[0m\u001b]8;;\u001b\\\u001b[2m:\u001b[0m\u001b]8;id=396624;file:///home/wim/anaconda3/envs/my-rdkit-env/lib/python3.12/site-packages/polaris/dataset/_base.py#381\u001b\\\u001b[2m381\u001b[0m\u001b]8;;\u001b\\\n"
      ]
     },
     "metadata": {},
     "output_type": "display_data"
    },
    {
     "data": {
      "text/html": [
       "<pre style=\"white-space:pre;overflow-x:auto;line-height:normal;font-family:Menlo,'DejaVu Sans Mono',consolas,'Courier New',monospace\"><span style=\"color: #7fbfbf; text-decoration-color: #7fbfbf\">[15:28:05] </span><span style=\"color: #008000; text-decoration-color: #008000\"> Success: Copying Zarr keys</span>                                                                <a href=\"file:///home/wim/anaconda3/envs/my-rdkit-env/lib/python3.12/site-packages/polaris/utils/context.py\" target=\"_blank\"><span style=\"color: #7f7f7f; text-decoration-color: #7f7f7f\">context.py</span></a><span style=\"color: #7f7f7f; text-decoration-color: #7f7f7f\">:</span><a href=\"file:///home/wim/anaconda3/envs/my-rdkit-env/lib/python3.12/site-packages/polaris/utils/context.py#53\" target=\"_blank\"><span style=\"color: #7f7f7f; text-decoration-color: #7f7f7f\">53</span></a>\n",
       "</pre>\n"
      ],
      "text/plain": [
       "\u001b[2;36m[15:28:05]\u001b[0m\u001b[2;36m \u001b[0m\u001b[32m Success: Copying Zarr keys\u001b[0m                                                                \u001b]8;id=950856;file:///home/wim/anaconda3/envs/my-rdkit-env/lib/python3.12/site-packages/polaris/utils/context.py\u001b\\\u001b[2mcontext.py\u001b[0m\u001b]8;;\u001b\\\u001b[2m:\u001b[0m\u001b]8;id=291644;file:///home/wim/anaconda3/envs/my-rdkit-env/lib/python3.12/site-packages/polaris/utils/context.py#53\u001b\\\u001b[2m53\u001b[0m\u001b]8;;\u001b\\\n"
      ]
     },
     "metadata": {},
     "output_type": "display_data"
    },
    {
     "data": {
      "text/html": [
       "<pre style=\"white-space:pre;overflow-x:auto;line-height:normal;font-family:Menlo,'DejaVu Sans Mono',consolas,'Courier New',monospace\"><span style=\"color: #7fbfbf; text-decoration-color: #7fbfbf\">           </span><span style=\"color: #008000; text-decoration-color: #008000\"> Success: Copying Zarr archive</span>                                                             <a href=\"file:///home/wim/anaconda3/envs/my-rdkit-env/lib/python3.12/site-packages/polaris/utils/context.py\" target=\"_blank\"><span style=\"color: #7f7f7f; text-decoration-color: #7f7f7f\">context.py</span></a><span style=\"color: #7f7f7f; text-decoration-color: #7f7f7f\">:</span><a href=\"file:///home/wim/anaconda3/envs/my-rdkit-env/lib/python3.12/site-packages/polaris/utils/context.py#53\" target=\"_blank\"><span style=\"color: #7f7f7f; text-decoration-color: #7f7f7f\">53</span></a>\n",
       "</pre>\n"
      ],
      "text/plain": [
       "\u001b[2;36m          \u001b[0m\u001b[2;36m \u001b[0m\u001b[32m Success: Copying Zarr archive\u001b[0m                                                             \u001b]8;id=410849;file:///home/wim/anaconda3/envs/my-rdkit-env/lib/python3.12/site-packages/polaris/utils/context.py\u001b\\\u001b[2mcontext.py\u001b[0m\u001b]8;;\u001b\\\u001b[2m:\u001b[0m\u001b]8;id=766763;file:///home/wim/anaconda3/envs/my-rdkit-env/lib/python3.12/site-packages/polaris/utils/context.py#53\u001b\\\u001b[2m53\u001b[0m\u001b]8;;\u001b\\\n"
      ]
     },
     "metadata": {},
     "output_type": "display_data"
    },
    {
     "data": {
      "text/html": [
       "<pre style=\"white-space:pre;overflow-x:auto;line-height:normal;font-family:Menlo,'DejaVu Sans Mono',consolas,'Courier New',monospace\"></pre>\n"
      ],
      "text/plain": []
     },
     "metadata": {},
     "output_type": "display_data"
    }
   ],
   "source": [
    "import polaris as po\n",
    "import numpy as np\n",
    "\n",
    "# Load the competition from the Hub\n",
    "competition = po.load_competition(\"asap-discovery/antiviral-ligand-poses-2025\")\n",
    "\n",
    "#recommended\n",
    "competition.cache()\n",
    "\n",
    "# Get the train and test data-loaders\n",
    "train, test = competition.get_train_test_split()"
   ]
  },
  {
   "cell_type": "code",
   "execution_count": 2,
   "id": "6bddbd2c-58ef-4363-a2ab-8cb6723f7bd3",
   "metadata": {},
   "outputs": [
    {
     "name": "stdout",
     "output_type": "stream",
     "text": [
      "['SER' 'SER' 'SER' ... 'UNK' 'UNK' 'UNK']\n"
     ]
    },
    {
     "name": "stderr",
     "output_type": "stream",
     "text": [
      "[15:28:09] WARNING: More than one matching pattern found - picking one\n",
      "\n"
     ]
    },
    {
     "name": "stdout",
     "output_type": "stream",
     "text": [
      "0\n",
      "['SER' 'SER' 'SER' ... 'UNK' 'UNK' 'UNK']\n",
      "1\n",
      "['SER' 'SER' 'SER' ... 'UNK' 'UNK' 'UNK']\n"
     ]
    },
    {
     "name": "stderr",
     "output_type": "stream",
     "text": [
      "[15:28:12] WARNING: More than one matching pattern found - picking one\n",
      "\n"
     ]
    },
    {
     "name": "stdout",
     "output_type": "stream",
     "text": [
      "2\n",
      "['SER' 'SER' 'SER' ... 'UNK' 'UNK' 'UNK']\n",
      "3\n",
      "['SER' 'SER' 'SER' ... 'UNK' 'UNK' 'UNK']\n"
     ]
    },
    {
     "name": "stderr",
     "output_type": "stream",
     "text": [
      "[15:28:15] WARNING: More than one matching pattern found - picking one\n",
      "\n"
     ]
    },
    {
     "name": "stdout",
     "output_type": "stream",
     "text": [
      "4\n",
      "['SER' 'SER' 'SER' ... 'UNK' 'UNK' 'UNK']\n"
     ]
    },
    {
     "name": "stderr",
     "output_type": "stream",
     "text": [
      "[15:28:17] WARNING: More than one matching pattern found - picking one\n",
      "\n"
     ]
    },
    {
     "name": "stdout",
     "output_type": "stream",
     "text": [
      "5\n",
      "['SER' 'SER' 'SER' ... 'UNK' 'UNK' 'UNK']\n"
     ]
    },
    {
     "name": "stderr",
     "output_type": "stream",
     "text": [
      "[15:28:18] WARNING: More than one matching pattern found - picking one\n",
      "\n"
     ]
    },
    {
     "name": "stdout",
     "output_type": "stream",
     "text": [
      "6\n",
      "['SER' 'SER' 'SER' ... 'UNK' 'UNK' 'UNK']\n"
     ]
    },
    {
     "name": "stderr",
     "output_type": "stream",
     "text": [
      "[15:28:20] WARNING: More than one matching pattern found - picking one\n",
      "\n"
     ]
    },
    {
     "name": "stdout",
     "output_type": "stream",
     "text": [
      "7\n",
      "['SER' 'SER' 'SER' ... 'UNK' 'UNK' 'UNK']\n"
     ]
    },
    {
     "name": "stderr",
     "output_type": "stream",
     "text": [
      "[15:28:22] WARNING: More than one matching pattern found - picking one\n",
      "\n"
     ]
    },
    {
     "name": "stdout",
     "output_type": "stream",
     "text": [
      "8\n",
      "['SER' 'SER' 'SER' ... 'UNK' 'UNK' 'UNK']\n"
     ]
    },
    {
     "name": "stderr",
     "output_type": "stream",
     "text": [
      "[15:28:23] WARNING: More than one matching pattern found - picking one\n",
      "\n"
     ]
    },
    {
     "name": "stdout",
     "output_type": "stream",
     "text": [
      "9\n",
      "['SER' 'SER' 'SER' ... 'UNK' 'UNK' 'UNK']\n"
     ]
    },
    {
     "name": "stderr",
     "output_type": "stream",
     "text": [
      "[15:28:25] WARNING: More than one matching pattern found - picking one\n",
      "\n"
     ]
    },
    {
     "name": "stdout",
     "output_type": "stream",
     "text": [
      "10\n",
      "['SER' 'SER' 'SER' ... 'UNK' 'UNK' 'UNK']\n"
     ]
    },
    {
     "name": "stderr",
     "output_type": "stream",
     "text": [
      "[15:28:26] WARNING: More than one matching pattern found - picking one\n",
      "\n"
     ]
    },
    {
     "name": "stdout",
     "output_type": "stream",
     "text": [
      "11\n",
      "['SER' 'SER' 'SER' ... 'UNK' 'UNK' 'UNK']\n",
      "12\n",
      "['SER' 'SER' 'SER' ... 'UNK' 'UNK' 'UNK']\n"
     ]
    },
    {
     "name": "stderr",
     "output_type": "stream",
     "text": [
      "[15:28:29] WARNING: More than one matching pattern found - picking one\n",
      "\n"
     ]
    },
    {
     "name": "stdout",
     "output_type": "stream",
     "text": [
      "13\n",
      "['SER' 'SER' 'SER' ... 'UNK' 'UNK' 'UNK']\n",
      "14\n",
      "['SER' 'SER' 'SER' ... 'UNK' 'UNK' 'UNK']\n",
      "15\n",
      "['SER' 'SER' 'SER' ... 'UNK' 'UNK' 'UNK']\n",
      "16\n",
      "['SER' 'SER' 'SER' ... 'UNK' 'UNK' 'UNK']\n"
     ]
    },
    {
     "name": "stderr",
     "output_type": "stream",
     "text": [
      "[15:28:36] WARNING: More than one matching pattern found - picking one\n",
      "\n"
     ]
    },
    {
     "name": "stdout",
     "output_type": "stream",
     "text": [
      "17\n",
      "['SER' 'SER' 'SER' ... 'UNK' 'UNK' 'UNK']\n"
     ]
    },
    {
     "name": "stderr",
     "output_type": "stream",
     "text": [
      "[15:28:37] WARNING: More than one matching pattern found - picking one\n",
      "\n"
     ]
    },
    {
     "name": "stdout",
     "output_type": "stream",
     "text": [
      "18\n",
      "['SER' 'SER' 'SER' ... 'UNK' 'UNK' 'UNK']\n"
     ]
    },
    {
     "name": "stderr",
     "output_type": "stream",
     "text": [
      "[15:28:39] WARNING: More than one matching pattern found - picking one\n",
      "\n"
     ]
    },
    {
     "name": "stdout",
     "output_type": "stream",
     "text": [
      "19\n",
      "['SER' 'SER' 'SER' ... 'UNK' 'UNK' 'UNK']\n"
     ]
    },
    {
     "name": "stderr",
     "output_type": "stream",
     "text": [
      "[15:28:41] WARNING: More than one matching pattern found - picking one\n",
      "\n"
     ]
    },
    {
     "name": "stdout",
     "output_type": "stream",
     "text": [
      "20\n",
      "['SER' 'SER' 'SER' ... 'UNK' 'UNK' 'UNK']\n",
      "21\n",
      "['SER' 'SER' 'SER' ... 'UNK' 'UNK' 'UNK']\n",
      "22\n",
      "['SER' 'SER' 'SER' ... 'UNK' 'UNK' 'UNK']\n"
     ]
    },
    {
     "name": "stderr",
     "output_type": "stream",
     "text": [
      "[15:28:45] WARNING: More than one matching pattern found - picking one\n",
      "\n"
     ]
    },
    {
     "name": "stdout",
     "output_type": "stream",
     "text": [
      "23\n",
      "['SER' 'SER' 'SER' ... 'UNK' 'UNK' 'UNK']\n",
      "24\n",
      "['SER' 'SER' 'SER' ... 'UNK' 'UNK' 'UNK']\n"
     ]
    },
    {
     "name": "stderr",
     "output_type": "stream",
     "text": [
      "[15:28:49] WARNING: More than one matching pattern found - picking one\n",
      "\n"
     ]
    },
    {
     "name": "stdout",
     "output_type": "stream",
     "text": [
      "25\n",
      "['SER' 'SER' 'SER' ... 'UNK' 'UNK' 'UNK']\n",
      "26\n",
      "['SER' 'SER' 'SER' ... 'UNK' 'UNK' 'UNK']\n",
      "27\n",
      "['SER' 'SER' 'SER' ... 'UNK' 'UNK' 'UNK']\n"
     ]
    },
    {
     "name": "stderr",
     "output_type": "stream",
     "text": [
      "[15:28:53] WARNING: More than one matching pattern found - picking one\n",
      "\n"
     ]
    },
    {
     "name": "stdout",
     "output_type": "stream",
     "text": [
      "28\n",
      "['SER' 'SER' 'SER' ... 'UNK' 'UNK' 'UNK']\n",
      "29\n",
      "['SER' 'SER' 'SER' ... 'UNK' 'UNK' 'UNK']\n",
      "30\n",
      "['SER' 'SER' 'SER' ... 'UNK' 'UNK' 'UNK']\n"
     ]
    },
    {
     "name": "stderr",
     "output_type": "stream",
     "text": [
      "[15:28:58] WARNING: More than one matching pattern found - picking one\n",
      "\n"
     ]
    },
    {
     "name": "stdout",
     "output_type": "stream",
     "text": [
      "31\n",
      "['SER' 'SER' 'SER' ... 'UNK' 'UNK' 'UNK']\n"
     ]
    },
    {
     "name": "stderr",
     "output_type": "stream",
     "text": [
      "[15:29:00] WARNING: More than one matching pattern found - picking one\n",
      "\n"
     ]
    },
    {
     "name": "stdout",
     "output_type": "stream",
     "text": [
      "32\n",
      "['SER' 'SER' 'SER' ... 'UNK' 'UNK' 'UNK']\n",
      "33\n",
      "['SER' 'SER' 'SER' ... 'UNK' 'UNK' 'UNK']\n",
      "34\n",
      "['SER' 'SER' 'SER' ... 'UNK' 'UNK' 'UNK']\n"
     ]
    },
    {
     "name": "stderr",
     "output_type": "stream",
     "text": [
      "[15:29:04] WARNING: More than one matching pattern found - picking one\n",
      "\n"
     ]
    },
    {
     "name": "stdout",
     "output_type": "stream",
     "text": [
      "35\n",
      "['SER' 'SER' 'SER' ... 'UNK' 'UNK' 'UNK']\n",
      "36\n",
      "['SER' 'SER' 'SER' ... 'UNK' 'UNK' 'UNK']\n",
      "37\n"
     ]
    },
    {
     "name": "stderr",
     "output_type": "stream",
     "text": [
      "[15:29:08] WARNING: More than one matching pattern found - picking one\n",
      "\n"
     ]
    },
    {
     "name": "stdout",
     "output_type": "stream",
     "text": [
      "['SER' 'SER' 'SER' ... 'UNK' 'UNK' 'UNK']\n"
     ]
    },
    {
     "name": "stderr",
     "output_type": "stream",
     "text": [
      "[15:29:09] WARNING: More than one matching pattern found - picking one\n",
      "\n"
     ]
    },
    {
     "name": "stdout",
     "output_type": "stream",
     "text": [
      "38\n",
      "['SER' 'SER' 'SER' ... 'UNK' 'UNK' 'UNK']\n"
     ]
    },
    {
     "name": "stderr",
     "output_type": "stream",
     "text": [
      "[15:29:11] WARNING: More than one matching pattern found - picking one\n",
      "\n"
     ]
    },
    {
     "name": "stdout",
     "output_type": "stream",
     "text": [
      "39\n",
      "['SER' 'SER' 'SER' ... 'UNK' 'UNK' 'UNK']\n",
      "40\n",
      "['SER' 'SER' 'SER' ... 'UNK' 'UNK' 'UNK']\n"
     ]
    },
    {
     "name": "stderr",
     "output_type": "stream",
     "text": [
      "[15:29:14] WARNING: More than one matching pattern found - picking one\n",
      "\n"
     ]
    },
    {
     "name": "stdout",
     "output_type": "stream",
     "text": [
      "41\n",
      "['SER' 'SER' 'SER' ... 'UNK' 'UNK' 'UNK']\n"
     ]
    },
    {
     "name": "stderr",
     "output_type": "stream",
     "text": [
      "[15:29:15] WARNING: More than one matching pattern found - picking one\n",
      "\n"
     ]
    },
    {
     "name": "stdout",
     "output_type": "stream",
     "text": [
      "42\n",
      "['SER' 'SER' 'SER' ... 'UNK' 'UNK' 'UNK']\n"
     ]
    },
    {
     "name": "stderr",
     "output_type": "stream",
     "text": [
      "[15:29:17] WARNING: More than one matching pattern found - picking one\n",
      "\n"
     ]
    },
    {
     "name": "stdout",
     "output_type": "stream",
     "text": [
      "43\n",
      "['SER' 'SER' 'SER' ... 'UNK' 'UNK' 'UNK']\n"
     ]
    },
    {
     "name": "stderr",
     "output_type": "stream",
     "text": [
      "[15:29:19] WARNING: More than one matching pattern found - picking one\n",
      "\n"
     ]
    },
    {
     "name": "stdout",
     "output_type": "stream",
     "text": [
      "44\n",
      "['SER' 'SER' 'SER' ... 'UNK' 'UNK' 'UNK']\n",
      "45\n",
      "['SER' 'SER' 'SER' ... 'UNK' 'UNK' 'UNK']\n"
     ]
    },
    {
     "name": "stderr",
     "output_type": "stream",
     "text": [
      "[15:29:22] WARNING: More than one matching pattern found - picking one\n",
      "\n"
     ]
    },
    {
     "name": "stdout",
     "output_type": "stream",
     "text": [
      "46\n",
      "['SER' 'SER' 'SER' ... 'UNK' 'UNK' 'UNK']\n",
      "47\n",
      "['SER' 'SER' 'SER' ... 'UNK' 'UNK' 'UNK']\n",
      "48\n",
      "['SER' 'SER' 'SER' ... 'UNK' 'UNK' 'UNK']\n"
     ]
    },
    {
     "name": "stderr",
     "output_type": "stream",
     "text": [
      "[15:29:27] WARNING: More than one matching pattern found - picking one\n",
      "\n"
     ]
    },
    {
     "name": "stdout",
     "output_type": "stream",
     "text": [
      "49\n",
      "['SER' 'SER' 'SER' ... 'UNK' 'UNK' 'UNK']\n",
      "50\n",
      "['SER' 'SER' 'SER' ... 'UNK' 'UNK' 'UNK']\n",
      "51\n",
      "['SER' 'SER' 'SER' ... 'UNK' 'UNK' 'UNK']\n",
      "52\n",
      "['SER' 'SER' 'SER' ... 'UNK' 'UNK' 'UNK']\n",
      "53\n",
      "['SER' 'SER' 'SER' ... 'UNK' 'UNK' 'UNK']\n"
     ]
    },
    {
     "name": "stderr",
     "output_type": "stream",
     "text": [
      "[15:29:35] WARNING: More than one matching pattern found - picking one\n",
      "\n"
     ]
    },
    {
     "name": "stdout",
     "output_type": "stream",
     "text": [
      "54\n",
      "['SER' 'SER' 'SER' ... 'UNK' 'UNK' 'UNK']\n",
      "55\n",
      "['SER' 'SER' 'SER' ... 'UNK' 'UNK' 'UNK']\n",
      "56\n",
      "['SER' 'SER' 'SER' ... 'UNK' 'UNK' 'UNK']\n",
      "57\n",
      "['SER' 'SER' 'SER' ... 'UNK' 'UNK' 'UNK']\n"
     ]
    },
    {
     "name": "stderr",
     "output_type": "stream",
     "text": [
      "[15:29:41] WARNING: More than one matching pattern found - picking one\n",
      "\n"
     ]
    },
    {
     "name": "stdout",
     "output_type": "stream",
     "text": [
      "58\n",
      "['SER' 'SER' 'SER' ... 'UNK' 'UNK' 'UNK']\n",
      "59\n",
      "['SER' 'SER' 'SER' ... 'UNK' 'UNK' 'UNK']\n"
     ]
    },
    {
     "name": "stderr",
     "output_type": "stream",
     "text": [
      "[15:29:44] WARNING: More than one matching pattern found - picking one\n",
      "\n"
     ]
    },
    {
     "name": "stdout",
     "output_type": "stream",
     "text": [
      "60\n",
      "['SER' 'SER' 'SER' ... 'UNK' 'UNK' 'UNK']\n",
      "61\n",
      "['SER' 'SER' 'SER' ... 'UNK' 'UNK' 'UNK']\n"
     ]
    },
    {
     "name": "stderr",
     "output_type": "stream",
     "text": [
      "[15:29:48] WARNING: More than one matching pattern found - picking one\n",
      "\n"
     ]
    },
    {
     "name": "stdout",
     "output_type": "stream",
     "text": [
      "62\n",
      "['SER' 'SER' 'SER' ... 'UNK' 'UNK' 'UNK']\n",
      "63\n",
      "['SER' 'SER' 'SER' ... 'UNK' 'UNK' 'UNK']\n"
     ]
    },
    {
     "name": "stderr",
     "output_type": "stream",
     "text": [
      "[15:29:51] WARNING: More than one matching pattern found - picking one\n",
      "\n"
     ]
    },
    {
     "name": "stdout",
     "output_type": "stream",
     "text": [
      "64\n",
      "['SER' 'SER' 'SER' ... 'UNK' 'UNK' 'UNK']\n",
      "65\n",
      "['SER' 'SER' 'SER' ... 'UNK' 'UNK' 'UNK']\n"
     ]
    },
    {
     "name": "stderr",
     "output_type": "stream",
     "text": [
      "[15:29:54] WARNING: More than one matching pattern found - picking one\n",
      "\n"
     ]
    },
    {
     "name": "stdout",
     "output_type": "stream",
     "text": [
      "66\n",
      "['SER' 'SER' 'SER' ... 'UNK' 'UNK' 'UNK']\n",
      "67\n",
      "['SER' 'SER' 'SER' ... 'UNK' 'UNK' 'UNK']\n"
     ]
    },
    {
     "name": "stderr",
     "output_type": "stream",
     "text": [
      "[15:29:57] WARNING: More than one matching pattern found - picking one\n",
      "\n"
     ]
    },
    {
     "name": "stdout",
     "output_type": "stream",
     "text": [
      "68\n",
      "['SER' 'SER' 'SER' ... 'UNK' 'UNK' 'UNK']\n",
      "69\n",
      "['SER' 'SER' 'SER' ... 'UNK' 'UNK' 'UNK']\n"
     ]
    },
    {
     "name": "stderr",
     "output_type": "stream",
     "text": [
      "[15:30:00] WARNING: More than one matching pattern found - picking one\n",
      "\n"
     ]
    },
    {
     "name": "stdout",
     "output_type": "stream",
     "text": [
      "70\n",
      "['SER' 'SER' 'SER' ... 'UNK' 'UNK' 'UNK']\n",
      "71\n",
      "['SER' 'SER' 'SER' ... 'UNK' 'UNK' 'UNK']\n",
      "72\n",
      "['SER' 'SER' 'SER' ... 'UNK' 'UNK' 'UNK']\n"
     ]
    },
    {
     "name": "stderr",
     "output_type": "stream",
     "text": [
      "[15:30:05] WARNING: More than one matching pattern found - picking one\n",
      "\n"
     ]
    },
    {
     "name": "stdout",
     "output_type": "stream",
     "text": [
      "73\n",
      "['SER' 'SER' 'SER' ... 'UNK' 'UNK' 'UNK']\n",
      "74\n",
      "['SER' 'SER' 'SER' ... 'UNK' 'UNK' 'UNK']\n",
      "75\n",
      "['SER' 'SER' 'SER' ... 'UNK' 'UNK' 'UNK']\n"
     ]
    },
    {
     "name": "stderr",
     "output_type": "stream",
     "text": [
      "[15:30:10] WARNING: More than one matching pattern found - picking one\n",
      "\n"
     ]
    },
    {
     "name": "stdout",
     "output_type": "stream",
     "text": [
      "76\n",
      "['SER' 'SER' 'SER' ... 'UNK' 'UNK' 'UNK']\n"
     ]
    },
    {
     "name": "stderr",
     "output_type": "stream",
     "text": [
      "[15:30:12] WARNING: More than one matching pattern found - picking one\n",
      "\n"
     ]
    },
    {
     "name": "stdout",
     "output_type": "stream",
     "text": [
      "77\n",
      "['SER' 'SER' 'SER' ... 'UNK' 'UNK' 'UNK']\n"
     ]
    },
    {
     "name": "stderr",
     "output_type": "stream",
     "text": [
      "[15:30:13] WARNING: More than one matching pattern found - picking one\n",
      "\n"
     ]
    },
    {
     "name": "stdout",
     "output_type": "stream",
     "text": [
      "78\n",
      "['SER' 'SER' 'SER' ... 'UNK' 'UNK' 'UNK']\n"
     ]
    },
    {
     "name": "stderr",
     "output_type": "stream",
     "text": [
      "[15:30:15] WARNING: More than one matching pattern found - picking one\n",
      "\n"
     ]
    },
    {
     "name": "stdout",
     "output_type": "stream",
     "text": [
      "79\n",
      "['SER' 'SER' 'SER' ... 'UNK' 'UNK' 'UNK']\n",
      "80\n",
      "['SER' 'SER' 'SER' ... 'UNK' 'UNK' 'UNK']\n",
      "81\n",
      "['SER' 'SER' 'SER' ... 'UNK' 'UNK' 'UNK']\n",
      "82\n",
      "['SER' 'SER' 'SER' ... 'UNK' 'UNK' 'UNK']\n"
     ]
    },
    {
     "name": "stderr",
     "output_type": "stream",
     "text": [
      "[15:30:21] WARNING: More than one matching pattern found - picking one\n",
      "\n"
     ]
    },
    {
     "name": "stdout",
     "output_type": "stream",
     "text": [
      "83\n",
      "['SER' 'SER' 'SER' ... 'UNK' 'UNK' 'UNK']\n",
      "84\n",
      "['SER' 'SER' 'SER' ... 'UNK' 'UNK' 'UNK']\n"
     ]
    },
    {
     "name": "stderr",
     "output_type": "stream",
     "text": [
      "[15:30:24] WARNING: More than one matching pattern found - picking one\n",
      "\n"
     ]
    },
    {
     "name": "stdout",
     "output_type": "stream",
     "text": [
      "85\n",
      "['SER' 'SER' 'SER' ... 'UNK' 'UNK' 'UNK']\n"
     ]
    },
    {
     "name": "stderr",
     "output_type": "stream",
     "text": [
      "[15:30:26] WARNING: More than one matching pattern found - picking one\n",
      "\n"
     ]
    },
    {
     "name": "stdout",
     "output_type": "stream",
     "text": [
      "86\n",
      "['SER' 'SER' 'SER' ... 'UNK' 'UNK' 'UNK']\n"
     ]
    },
    {
     "name": "stderr",
     "output_type": "stream",
     "text": [
      "[15:30:28] WARNING: More than one matching pattern found - picking one\n",
      "\n"
     ]
    },
    {
     "name": "stdout",
     "output_type": "stream",
     "text": [
      "87\n",
      "['SER' 'SER' 'SER' ... 'UNK' 'UNK' 'UNK']\n",
      "88\n",
      "['SER' 'SER' 'SER' ... 'UNK' 'UNK' 'UNK']\n"
     ]
    },
    {
     "name": "stderr",
     "output_type": "stream",
     "text": [
      "[15:30:31] WARNING: More than one matching pattern found - picking one\n",
      "\n"
     ]
    },
    {
     "name": "stdout",
     "output_type": "stream",
     "text": [
      "89\n",
      "['SER' 'SER' 'SER' ... 'UNK' 'UNK' 'UNK']\n"
     ]
    },
    {
     "name": "stderr",
     "output_type": "stream",
     "text": [
      "[15:30:32] WARNING: More than one matching pattern found - picking one\n",
      "\n"
     ]
    },
    {
     "name": "stdout",
     "output_type": "stream",
     "text": [
      "90\n",
      "['SER' 'SER' 'SER' ... 'UNK' 'UNK' 'UNK']\n"
     ]
    },
    {
     "name": "stderr",
     "output_type": "stream",
     "text": [
      "[15:30:34] WARNING: More than one matching pattern found - picking one\n",
      "\n"
     ]
    },
    {
     "name": "stdout",
     "output_type": "stream",
     "text": [
      "91\n",
      "['SER' 'SER' 'SER' ... 'UNK' 'UNK' 'UNK']\n",
      "92\n",
      "['SER' 'SER' 'SER' ... 'UNK' 'UNK' 'UNK']\n"
     ]
    },
    {
     "name": "stderr",
     "output_type": "stream",
     "text": [
      "[15:30:37] WARNING: More than one matching pattern found - picking one\n",
      "\n"
     ]
    },
    {
     "name": "stdout",
     "output_type": "stream",
     "text": [
      "93\n",
      "['SER' 'SER' 'SER' ... 'UNK' 'UNK' 'UNK']\n"
     ]
    },
    {
     "name": "stderr",
     "output_type": "stream",
     "text": [
      "[15:30:39] WARNING: More than one matching pattern found - picking one\n",
      "\n"
     ]
    },
    {
     "name": "stdout",
     "output_type": "stream",
     "text": [
      "94\n",
      "['SER' 'SER' 'SER' ... 'UNK' 'UNK' 'UNK']\n"
     ]
    },
    {
     "name": "stderr",
     "output_type": "stream",
     "text": [
      "[15:30:40] WARNING: More than one matching pattern found - picking one\n",
      "\n"
     ]
    },
    {
     "name": "stdout",
     "output_type": "stream",
     "text": [
      "95\n",
      "['SER' 'SER' 'SER' ... 'UNK' 'UNK' 'UNK']\n"
     ]
    },
    {
     "name": "stderr",
     "output_type": "stream",
     "text": [
      "[15:30:42] WARNING: More than one matching pattern found - picking one\n",
      "\n"
     ]
    },
    {
     "name": "stdout",
     "output_type": "stream",
     "text": [
      "96\n",
      "['SER' 'SER' 'SER' ... 'UNK' 'UNK' 'UNK']\n",
      "97\n",
      "['SER' 'SER' 'SER' ... 'UNK' 'UNK' 'UNK']\n",
      "98\n",
      "['SER' 'SER' 'SER' ... 'UNK' 'UNK' 'UNK']\n"
     ]
    },
    {
     "name": "stderr",
     "output_type": "stream",
     "text": [
      "[15:30:47] WARNING: More than one matching pattern found - picking one\n",
      "\n"
     ]
    },
    {
     "name": "stdout",
     "output_type": "stream",
     "text": [
      "99\n",
      "['SER' 'SER' 'SER' ... 'UNK' 'UNK' 'UNK']\n",
      "100\n",
      "['SER' 'SER' 'SER' ... 'UNK' 'UNK' 'UNK']\n",
      "101\n",
      "['SER' 'SER' 'SER' ... 'UNK' 'UNK' 'UNK']\n",
      "102\n",
      "['SER' 'SER' 'SER' ... 'UNK' 'UNK' 'UNK']\n",
      "103\n",
      "['SER' 'SER' 'SER' ... 'UNK' 'UNK' 'UNK']\n",
      "104\n",
      "['SER' 'SER' 'SER' ... 'UNK' 'UNK' 'UNK']\n",
      "105\n",
      "['SER' 'SER' 'SER' ... 'UNK' 'UNK' 'UNK']\n"
     ]
    },
    {
     "name": "stderr",
     "output_type": "stream",
     "text": [
      "[15:30:58] WARNING: More than one matching pattern found - picking one\n",
      "\n"
     ]
    },
    {
     "name": "stdout",
     "output_type": "stream",
     "text": [
      "106\n",
      "['SER' 'SER' 'SER' ... 'UNK' 'UNK' 'UNK']\n",
      "107\n",
      "['SER' 'SER' 'SER' ... 'UNK' 'UNK' 'UNK']\n"
     ]
    },
    {
     "name": "stderr",
     "output_type": "stream",
     "text": [
      "[15:31:02] WARNING: More than one matching pattern found - picking one\n",
      "\n"
     ]
    },
    {
     "name": "stdout",
     "output_type": "stream",
     "text": [
      "108\n",
      "['SER' 'SER' 'SER' ... 'UNK' 'UNK' 'UNK']\n",
      "109\n",
      "['SER' 'SER' 'SER' ... 'UNK' 'UNK' 'UNK']\n",
      "110\n",
      "['SER' 'SER' 'SER' ... 'UNK' 'UNK' 'UNK']\n"
     ]
    },
    {
     "name": "stderr",
     "output_type": "stream",
     "text": [
      "[15:31:06] WARNING: More than one matching pattern found - picking one\n",
      "\n"
     ]
    },
    {
     "name": "stdout",
     "output_type": "stream",
     "text": [
      "111\n",
      "['SER' 'SER' 'SER' ... 'UNK' 'UNK' 'UNK']\n",
      "112\n",
      "['SER' 'SER' 'SER' ... 'UNK' 'UNK' 'UNK']\n",
      "113\n",
      "['SER' 'SER' 'SER' ... 'UNK' 'UNK' 'UNK']\n"
     ]
    },
    {
     "name": "stderr",
     "output_type": "stream",
     "text": [
      "[15:31:11] WARNING: More than one matching pattern found - picking one\n",
      "\n"
     ]
    },
    {
     "name": "stdout",
     "output_type": "stream",
     "text": [
      "114\n",
      "['SER' 'SER' 'SER' ... 'UNK' 'UNK' 'UNK']\n"
     ]
    },
    {
     "name": "stderr",
     "output_type": "stream",
     "text": [
      "[15:31:13] WARNING: More than one matching pattern found - picking one\n",
      "\n"
     ]
    },
    {
     "name": "stdout",
     "output_type": "stream",
     "text": [
      "115\n",
      "['SER' 'SER' 'SER' ... 'UNK' 'UNK' 'UNK']\n",
      "116\n",
      "['SER' 'SER' 'SER' ... 'UNK' 'UNK' 'UNK']\n",
      "117\n",
      "['SER' 'SER' 'SER' ... 'UNK' 'UNK' 'UNK']\n",
      "118\n",
      "['SER' 'SER' 'SER' ... 'UNK' 'UNK' 'UNK']\n"
     ]
    },
    {
     "name": "stderr",
     "output_type": "stream",
     "text": [
      "[15:31:19] WARNING: More than one matching pattern found - picking one\n",
      "\n"
     ]
    },
    {
     "name": "stdout",
     "output_type": "stream",
     "text": [
      "119\n",
      "['SER' 'SER' 'SER' ... 'UNK' 'UNK' 'UNK']\n",
      "120\n",
      "['SER' 'SER' 'SER' ... 'UNK' 'UNK' 'UNK']\n"
     ]
    },
    {
     "name": "stderr",
     "output_type": "stream",
     "text": [
      "[15:31:22] WARNING: More than one matching pattern found - picking one\n",
      "\n"
     ]
    },
    {
     "name": "stdout",
     "output_type": "stream",
     "text": [
      "121\n",
      "['SER' 'SER' 'SER' ... 'UNK' 'UNK' 'UNK']\n"
     ]
    },
    {
     "name": "stderr",
     "output_type": "stream",
     "text": [
      "[15:31:24] WARNING: More than one matching pattern found - picking one\n",
      "\n"
     ]
    },
    {
     "name": "stdout",
     "output_type": "stream",
     "text": [
      "122\n",
      "['SER' 'SER' 'SER' ... 'UNK' 'UNK' 'UNK']\n",
      "123\n",
      "['SER' 'SER' 'SER' ... 'UNK' 'UNK' 'UNK']\n",
      "124\n",
      "['SER' 'SER' 'SER' ... 'UNK' 'UNK' 'UNK']\n"
     ]
    },
    {
     "name": "stderr",
     "output_type": "stream",
     "text": [
      "[15:31:29] WARNING: More than one matching pattern found - picking one\n",
      "\n"
     ]
    },
    {
     "name": "stdout",
     "output_type": "stream",
     "text": [
      "125\n",
      "['SER' 'SER' 'SER' ... 'UNK' 'UNK' 'UNK']\n",
      "126\n",
      "['SER' 'SER' 'SER' ... 'UNK' 'UNK' 'UNK']\n",
      "127\n",
      "['SER' 'SER' 'SER' ... 'UNK' 'UNK' 'UNK']\n"
     ]
    },
    {
     "name": "stderr",
     "output_type": "stream",
     "text": [
      "[15:31:33] WARNING: More than one matching pattern found - picking one\n",
      "\n"
     ]
    },
    {
     "name": "stdout",
     "output_type": "stream",
     "text": [
      "128\n",
      "['SER' 'SER' 'SER' ... 'UNK' 'UNK' 'UNK']\n",
      "129\n",
      "['SER' 'SER' 'SER' ... 'UNK' 'UNK' 'UNK']\n"
     ]
    },
    {
     "name": "stderr",
     "output_type": "stream",
     "text": [
      "[15:31:37] WARNING: More than one matching pattern found - picking one\n",
      "\n"
     ]
    },
    {
     "name": "stdout",
     "output_type": "stream",
     "text": [
      "130\n",
      "['SER' 'SER' 'SER' ... 'UNK' 'UNK' 'UNK']\n",
      "131\n",
      "['SER' 'SER' 'SER' ... 'UNK' 'UNK' 'UNK']\n",
      "132\n",
      "['SER' 'SER' 'SER' ... 'UNK' 'UNK' 'UNK']\n",
      "133\n",
      "['SER' 'SER' 'SER' ... 'UNK' 'UNK' 'UNK']\n"
     ]
    },
    {
     "name": "stderr",
     "output_type": "stream",
     "text": [
      "[15:31:43] WARNING: More than one matching pattern found - picking one\n",
      "\n"
     ]
    },
    {
     "name": "stdout",
     "output_type": "stream",
     "text": [
      "134\n",
      "['SER' 'SER' 'SER' ... 'UNK' 'UNK' 'UNK']\n"
     ]
    },
    {
     "name": "stderr",
     "output_type": "stream",
     "text": [
      "[15:31:45] WARNING: More than one matching pattern found - picking one\n",
      "\n"
     ]
    },
    {
     "name": "stdout",
     "output_type": "stream",
     "text": [
      "135\n",
      "['SER' 'SER' 'SER' ... 'UNK' 'UNK' 'UNK']\n",
      "136\n",
      "['SER' 'SER' 'SER' ... 'UNK' 'UNK' 'UNK']\n"
     ]
    },
    {
     "name": "stderr",
     "output_type": "stream",
     "text": [
      "[15:31:48] WARNING: More than one matching pattern found - picking one\n",
      "\n"
     ]
    },
    {
     "name": "stdout",
     "output_type": "stream",
     "text": [
      "137\n",
      "['SER' 'SER' 'SER' ... 'UNK' 'UNK' 'UNK']\n"
     ]
    },
    {
     "name": "stderr",
     "output_type": "stream",
     "text": [
      "[15:31:50] WARNING: More than one matching pattern found - picking one\n",
      "\n"
     ]
    },
    {
     "name": "stdout",
     "output_type": "stream",
     "text": [
      "138\n",
      "['SER' 'SER' 'SER' ... 'UNK' 'UNK' 'UNK']\n",
      "139\n",
      "['SER' 'SER' 'SER' ... 'UNK' 'UNK' 'UNK']\n",
      "140\n",
      "['SER' 'SER' 'SER' ... 'UNK' 'UNK' 'UNK']\n"
     ]
    },
    {
     "name": "stderr",
     "output_type": "stream",
     "text": [
      "[15:31:55] WARNING: More than one matching pattern found - picking one\n",
      "\n"
     ]
    },
    {
     "name": "stdout",
     "output_type": "stream",
     "text": [
      "141\n",
      "['SER' 'SER' 'SER' ... 'UNK' 'UNK' 'UNK']\n",
      "142\n",
      "['SER' 'SER' 'SER' ... 'UNK' 'UNK' 'UNK']\n",
      "143\n",
      "['SER' 'SER' 'SER' ... 'UNK' 'UNK' 'UNK']\n"
     ]
    },
    {
     "name": "stderr",
     "output_type": "stream",
     "text": [
      "[15:32:00] WARNING: More than one matching pattern found - picking one\n",
      "\n"
     ]
    },
    {
     "name": "stdout",
     "output_type": "stream",
     "text": [
      "144\n",
      "['SER' 'SER' 'SER' ... 'UNK' 'UNK' 'UNK']\n"
     ]
    },
    {
     "name": "stderr",
     "output_type": "stream",
     "text": [
      "[15:32:01] WARNING: More than one matching pattern found - picking one\n",
      "\n"
     ]
    },
    {
     "name": "stdout",
     "output_type": "stream",
     "text": [
      "145\n",
      "['SER' 'SER' 'SER' ... 'UNK' 'UNK' 'UNK']\n",
      "146\n",
      "['SER' 'SER' 'SER' ... 'UNK' 'UNK' 'UNK']\n",
      "147\n",
      "['SER' 'SER' 'SER' ... 'UNK' 'UNK' 'UNK']\n",
      "148\n",
      "['SER' 'SER' 'SER' ... 'UNK' 'UNK' 'UNK']\n"
     ]
    },
    {
     "name": "stderr",
     "output_type": "stream",
     "text": [
      "[15:32:08] WARNING: More than one matching pattern found - picking one\n",
      "\n"
     ]
    },
    {
     "name": "stdout",
     "output_type": "stream",
     "text": [
      "149\n",
      "['SER' 'SER' 'SER' ... 'UNK' 'UNK' 'UNK']\n",
      "150\n",
      "['SER' 'SER' 'SER' ... 'UNK' 'UNK' 'UNK']\n",
      "151\n",
      "['SER' 'SER' 'SER' ... 'UNK' 'UNK' 'UNK']\n"
     ]
    },
    {
     "name": "stderr",
     "output_type": "stream",
     "text": [
      "[15:32:12] WARNING: More than one matching pattern found - picking one\n",
      "\n"
     ]
    },
    {
     "name": "stdout",
     "output_type": "stream",
     "text": [
      "152\n",
      "['SER' 'SER' 'SER' ... 'UNK' 'UNK' 'UNK']\n"
     ]
    },
    {
     "name": "stderr",
     "output_type": "stream",
     "text": [
      "[15:32:14] WARNING: More than one matching pattern found - picking one\n",
      "\n"
     ]
    },
    {
     "name": "stdout",
     "output_type": "stream",
     "text": [
      "153\n",
      "['SER' 'SER' 'SER' ... 'UNK' 'UNK' 'UNK']\n"
     ]
    },
    {
     "name": "stderr",
     "output_type": "stream",
     "text": [
      "[15:32:16] WARNING: More than one matching pattern found - picking one\n",
      "\n"
     ]
    },
    {
     "name": "stdout",
     "output_type": "stream",
     "text": [
      "154\n",
      "['SER' 'SER' 'SER' ... 'UNK' 'UNK' 'UNK']\n"
     ]
    },
    {
     "name": "stderr",
     "output_type": "stream",
     "text": [
      "[15:32:18] WARNING: More than one matching pattern found - picking one\n",
      "\n"
     ]
    },
    {
     "name": "stdout",
     "output_type": "stream",
     "text": [
      "155\n",
      "['SER' 'SER' 'SER' ... 'UNK' 'UNK' 'UNK']\n"
     ]
    },
    {
     "name": "stderr",
     "output_type": "stream",
     "text": [
      "[15:32:19] WARNING: More than one matching pattern found - picking one\n",
      "\n"
     ]
    },
    {
     "name": "stdout",
     "output_type": "stream",
     "text": [
      "156\n",
      "['SER' 'SER' 'SER' ... 'UNK' 'UNK' 'UNK']\n",
      "157\n",
      "['SER' 'SER' 'SER' ... 'UNK' 'UNK' 'UNK']\n"
     ]
    },
    {
     "name": "stderr",
     "output_type": "stream",
     "text": [
      "[15:32:22] WARNING: More than one matching pattern found - picking one\n",
      "\n"
     ]
    },
    {
     "name": "stdout",
     "output_type": "stream",
     "text": [
      "158\n",
      "['SER' 'SER' 'SER' ... 'UNK' 'UNK' 'UNK']\n"
     ]
    },
    {
     "name": "stderr",
     "output_type": "stream",
     "text": [
      "[15:32:24] WARNING: More than one matching pattern found - picking one\n",
      "\n"
     ]
    },
    {
     "name": "stdout",
     "output_type": "stream",
     "text": [
      "159\n",
      "['SER' 'SER' 'SER' ... 'UNK' 'UNK' 'UNK']\n",
      "160\n",
      "['SER' 'SER' 'SER' ... 'UNK' 'UNK' 'UNK']\n"
     ]
    },
    {
     "name": "stderr",
     "output_type": "stream",
     "text": [
      "[15:32:27] WARNING: More than one matching pattern found - picking one\n",
      "\n"
     ]
    },
    {
     "name": "stdout",
     "output_type": "stream",
     "text": [
      "161\n",
      "['SER' 'SER' 'SER' ... 'UNK' 'UNK' 'UNK']\n"
     ]
    },
    {
     "name": "stderr",
     "output_type": "stream",
     "text": [
      "[15:32:29] WARNING: More than one matching pattern found - picking one\n",
      "\n"
     ]
    },
    {
     "name": "stdout",
     "output_type": "stream",
     "text": [
      "162\n",
      "['SER' 'SER' 'SER' ... 'UNK' 'UNK' 'UNK']\n"
     ]
    },
    {
     "name": "stderr",
     "output_type": "stream",
     "text": [
      "[15:32:30] WARNING: More than one matching pattern found - picking one\n",
      "\n"
     ]
    },
    {
     "name": "stdout",
     "output_type": "stream",
     "text": [
      "163\n",
      "['SER' 'SER' 'SER' ... 'UNK' 'UNK' 'UNK']\n"
     ]
    },
    {
     "name": "stderr",
     "output_type": "stream",
     "text": [
      "[15:32:32] WARNING: More than one matching pattern found - picking one\n",
      "\n"
     ]
    },
    {
     "name": "stdout",
     "output_type": "stream",
     "text": [
      "164\n",
      "['SER' 'SER' 'SER' ... 'UNK' 'UNK' 'UNK']\n"
     ]
    },
    {
     "name": "stderr",
     "output_type": "stream",
     "text": [
      "[15:32:34] WARNING: More than one matching pattern found - picking one\n",
      "\n"
     ]
    },
    {
     "name": "stdout",
     "output_type": "stream",
     "text": [
      "165\n",
      "['SER' 'SER' 'SER' ... 'UNK' 'UNK' 'UNK']\n",
      "166\n",
      "['SER' 'SER' 'SER' ... 'UNK' 'UNK' 'UNK']\n",
      "167\n",
      "['SER' 'SER' 'SER' ... 'UNK' 'UNK' 'UNK']\n",
      "168\n",
      "['SER' 'SER' 'SER' ... 'UNK' 'UNK' 'UNK']\n"
     ]
    },
    {
     "name": "stderr",
     "output_type": "stream",
     "text": [
      "[15:32:40] WARNING: More than one matching pattern found - picking one\n",
      "\n"
     ]
    },
    {
     "name": "stdout",
     "output_type": "stream",
     "text": [
      "169\n",
      "['SER' 'SER' 'SER' ... 'UNK' 'UNK' 'UNK']\n"
     ]
    },
    {
     "name": "stderr",
     "output_type": "stream",
     "text": [
      "[15:32:42] WARNING: More than one matching pattern found - picking one\n",
      "\n"
     ]
    },
    {
     "name": "stdout",
     "output_type": "stream",
     "text": [
      "170\n",
      "['SER' 'SER' 'SER' ... 'UNK' 'UNK' 'UNK']\n"
     ]
    },
    {
     "name": "stderr",
     "output_type": "stream",
     "text": [
      "[15:32:43] WARNING: More than one matching pattern found - picking one\n",
      "\n"
     ]
    },
    {
     "name": "stdout",
     "output_type": "stream",
     "text": [
      "171\n",
      "['SER' 'SER' 'SER' ... 'UNK' 'UNK' 'UNK']\n"
     ]
    },
    {
     "name": "stderr",
     "output_type": "stream",
     "text": [
      "[15:32:45] WARNING: More than one matching pattern found - picking one\n",
      "\n"
     ]
    },
    {
     "name": "stdout",
     "output_type": "stream",
     "text": [
      "172\n",
      "['SER' 'SER' 'SER' ... 'UNK' 'UNK' 'UNK']\n",
      "173\n",
      "['SER' 'SER' 'SER' ... 'UNK' 'UNK' 'UNK']\n"
     ]
    },
    {
     "name": "stderr",
     "output_type": "stream",
     "text": [
      "[15:32:48] WARNING: More than one matching pattern found - picking one\n",
      "\n"
     ]
    },
    {
     "name": "stdout",
     "output_type": "stream",
     "text": [
      "174\n",
      "['SER' 'SER' 'SER' ... 'UNK' 'UNK' 'UNK']\n"
     ]
    },
    {
     "name": "stderr",
     "output_type": "stream",
     "text": [
      "[15:32:50] WARNING: More than one matching pattern found - picking one\n",
      "\n"
     ]
    },
    {
     "name": "stdout",
     "output_type": "stream",
     "text": [
      "175\n",
      "['SER' 'SER' 'SER' ... 'UNK' 'UNK' 'UNK']\n",
      "176\n",
      "['SER' 'SER' 'SER' ... 'UNK' 'UNK' 'UNK']\n",
      "177\n",
      "['SER' 'SER' 'SER' ... 'UNK' 'UNK' 'UNK']\n"
     ]
    },
    {
     "name": "stderr",
     "output_type": "stream",
     "text": [
      "[15:32:55] WARNING: More than one matching pattern found - picking one\n",
      "\n"
     ]
    },
    {
     "name": "stdout",
     "output_type": "stream",
     "text": [
      "178\n",
      "['SER' 'SER' 'SER' ... 'UNK' 'UNK' 'UNK']\n"
     ]
    },
    {
     "name": "stderr",
     "output_type": "stream",
     "text": [
      "[15:32:56] WARNING: More than one matching pattern found - picking one\n",
      "\n"
     ]
    },
    {
     "name": "stdout",
     "output_type": "stream",
     "text": [
      "179\n",
      "['SER' 'SER' 'SER' ... 'UNK' 'UNK' 'UNK']\n"
     ]
    },
    {
     "name": "stderr",
     "output_type": "stream",
     "text": [
      "[15:32:58] WARNING: More than one matching pattern found - picking one\n",
      "\n"
     ]
    },
    {
     "name": "stdout",
     "output_type": "stream",
     "text": [
      "180\n",
      "['SER' 'SER' 'SER' ... 'UNK' 'UNK' 'UNK']\n",
      "181\n",
      "['SER' 'SER' 'SER' ... 'UNK' 'UNK' 'UNK']\n",
      "182\n",
      "['SER' 'SER' 'SER' ... 'UNK' 'UNK' 'UNK']\n"
     ]
    },
    {
     "name": "stderr",
     "output_type": "stream",
     "text": [
      "[15:33:03] WARNING: More than one matching pattern found - picking one\n",
      "\n"
     ]
    },
    {
     "name": "stdout",
     "output_type": "stream",
     "text": [
      "183\n",
      "['SER' 'SER' 'SER' ... 'UNK' 'UNK' 'UNK']\n"
     ]
    },
    {
     "name": "stderr",
     "output_type": "stream",
     "text": [
      "[15:33:04] WARNING: More than one matching pattern found - picking one\n",
      "\n"
     ]
    },
    {
     "name": "stdout",
     "output_type": "stream",
     "text": [
      "184\n",
      "['SER' 'SER' 'SER' ... 'UNK' 'UNK' 'UNK']\n",
      "185\n",
      "['SER' 'SER' 'SER' ... 'UNK' 'UNK' 'UNK']\n",
      "186\n",
      "['SER' 'SER' 'SER' ... 'UNK' 'UNK' 'UNK']\n"
     ]
    },
    {
     "name": "stderr",
     "output_type": "stream",
     "text": [
      "[15:33:09] WARNING: More than one matching pattern found - picking one\n",
      "\n"
     ]
    },
    {
     "name": "stdout",
     "output_type": "stream",
     "text": [
      "187\n",
      "['SER' 'SER' 'SER' ... 'UNK' 'UNK' 'UNK']\n"
     ]
    },
    {
     "name": "stderr",
     "output_type": "stream",
     "text": [
      "[15:33:11] WARNING: More than one matching pattern found - picking one\n",
      "\n"
     ]
    },
    {
     "name": "stdout",
     "output_type": "stream",
     "text": [
      "188\n",
      "['SER' 'SER' 'SER' ... 'UNK' 'UNK' 'UNK']\n"
     ]
    },
    {
     "name": "stderr",
     "output_type": "stream",
     "text": [
      "[15:33:13] WARNING: More than one matching pattern found - picking one\n",
      "\n"
     ]
    },
    {
     "name": "stdout",
     "output_type": "stream",
     "text": [
      "189\n",
      "['SER' 'SER' 'SER' ... 'UNK' 'UNK' 'UNK']\n",
      "190\n",
      "['SER' 'SER' 'SER' ... 'UNK' 'UNK' 'UNK']\n",
      "191\n",
      "['SER' 'SER' 'SER' ... 'UNK' 'UNK' 'UNK']\n",
      "192\n",
      "['SER' 'SER' 'SER' ... 'UNK' 'UNK' 'UNK']\n"
     ]
    },
    {
     "name": "stderr",
     "output_type": "stream",
     "text": [
      "[15:33:19] WARNING: More than one matching pattern found - picking one\n",
      "\n"
     ]
    },
    {
     "name": "stdout",
     "output_type": "stream",
     "text": [
      "193\n",
      "['SER' 'SER' 'SER' ... 'UNK' 'UNK' 'UNK']\n"
     ]
    },
    {
     "name": "stderr",
     "output_type": "stream",
     "text": [
      "[15:33:21] WARNING: More than one matching pattern found - picking one\n",
      "\n"
     ]
    },
    {
     "name": "stdout",
     "output_type": "stream",
     "text": [
      "194\n",
      "['SER' 'SER' 'SER' ... 'UNK' 'UNK' 'UNK']\n",
      "195\n",
      "['SER' 'SER' 'SER' ... 'UNK' 'UNK' 'UNK']\n"
     ]
    },
    {
     "name": "stderr",
     "output_type": "stream",
     "text": [
      "[15:33:24] WARNING: More than one matching pattern found - picking one\n",
      "\n"
     ]
    },
    {
     "name": "stdout",
     "output_type": "stream",
     "text": [
      "196\n",
      "['SER' 'SER' 'SER' ... 'UNK' 'UNK' 'UNK']\n",
      "197\n",
      "['SER' 'SER' 'SER' ... 'UNK' 'UNK' 'UNK']\n",
      "198\n",
      "['SER' 'SER' 'SER' ... 'UNK' 'UNK' 'UNK']\n"
     ]
    },
    {
     "name": "stderr",
     "output_type": "stream",
     "text": [
      "[15:33:29] WARNING: More than one matching pattern found - picking one\n",
      "\n"
     ]
    },
    {
     "name": "stdout",
     "output_type": "stream",
     "text": [
      "199\n",
      "['SER' 'SER' 'SER' ... 'UNK' 'UNK' 'UNK']\n"
     ]
    },
    {
     "name": "stderr",
     "output_type": "stream",
     "text": [
      "[15:33:31] WARNING: More than one matching pattern found - picking one\n",
      "\n"
     ]
    },
    {
     "name": "stdout",
     "output_type": "stream",
     "text": [
      "200\n",
      "['SER' 'SER' 'SER' ... 'UNK' 'UNK' 'UNK']\n"
     ]
    },
    {
     "name": "stderr",
     "output_type": "stream",
     "text": [
      "[15:33:32] WARNING: More than one matching pattern found - picking one\n",
      "\n"
     ]
    },
    {
     "name": "stdout",
     "output_type": "stream",
     "text": [
      "201\n",
      "['SER' 'SER' 'SER' ... 'UNK' 'UNK' 'UNK']\n"
     ]
    },
    {
     "name": "stderr",
     "output_type": "stream",
     "text": [
      "[15:33:34] WARNING: More than one matching pattern found - picking one\n",
      "\n"
     ]
    },
    {
     "name": "stdout",
     "output_type": "stream",
     "text": [
      "202\n",
      "['SER' 'SER' 'SER' ... 'UNK' 'UNK' 'UNK']\n",
      "203\n",
      "['SER' 'SER' 'SER' ... 'UNK' 'UNK' 'UNK']\n"
     ]
    },
    {
     "name": "stderr",
     "output_type": "stream",
     "text": [
      "[15:33:37] WARNING: More than one matching pattern found - picking one\n",
      "\n"
     ]
    },
    {
     "name": "stdout",
     "output_type": "stream",
     "text": [
      "204\n",
      "['SER' 'SER' 'SER' ... 'UNK' 'UNK' 'UNK']\n",
      "205\n",
      "['SER' 'SER' 'SER' ... 'UNK' 'UNK' 'UNK']\n",
      "206\n",
      "['SER' 'SER' 'SER' ... 'UNK' 'UNK' 'UNK']\n",
      "207\n",
      "['SER' 'SER' 'SER' ... 'UNK' 'UNK' 'UNK']\n"
     ]
    },
    {
     "name": "stderr",
     "output_type": "stream",
     "text": [
      "[15:33:44] WARNING: More than one matching pattern found - picking one\n",
      "\n"
     ]
    },
    {
     "name": "stdout",
     "output_type": "stream",
     "text": [
      "208\n",
      "['SER' 'SER' 'SER' ... 'UNK' 'UNK' 'UNK']\n"
     ]
    },
    {
     "name": "stderr",
     "output_type": "stream",
     "text": [
      "[15:33:45] WARNING: More than one matching pattern found - picking one\n",
      "\n"
     ]
    },
    {
     "name": "stdout",
     "output_type": "stream",
     "text": [
      "209\n",
      "['SER' 'SER' 'SER' ... 'UNK' 'UNK' 'UNK']\n",
      "210\n",
      "['SER' 'SER' 'SER' ... 'UNK' 'UNK' 'UNK']\n",
      "211\n",
      "['SER' 'SER' 'SER' ... 'UNK' 'UNK' 'UNK']\n"
     ]
    },
    {
     "name": "stderr",
     "output_type": "stream",
     "text": [
      "[15:33:50] WARNING: More than one matching pattern found - picking one\n",
      "\n"
     ]
    },
    {
     "name": "stdout",
     "output_type": "stream",
     "text": [
      "212\n",
      "['SER' 'SER' 'SER' ... 'UNK' 'UNK' 'UNK']\n",
      "213\n",
      "['SER' 'SER' 'SER' ... 'UNK' 'UNK' 'UNK']\n"
     ]
    },
    {
     "name": "stderr",
     "output_type": "stream",
     "text": [
      "[15:33:54] WARNING: More than one matching pattern found - picking one\n",
      "\n"
     ]
    },
    {
     "name": "stdout",
     "output_type": "stream",
     "text": [
      "214\n",
      "['SER' 'SER' 'SER' ... 'UNK' 'UNK' 'UNK']\n"
     ]
    },
    {
     "name": "stderr",
     "output_type": "stream",
     "text": [
      "[15:33:55] WARNING: More than one matching pattern found - picking one\n",
      "\n"
     ]
    },
    {
     "name": "stdout",
     "output_type": "stream",
     "text": [
      "215\n",
      "['SER' 'SER' 'SER' ... 'UNK' 'UNK' 'UNK']\n",
      "216\n",
      "['SER' 'SER' 'SER' ... 'UNK' 'UNK' 'UNK']\n",
      "217\n",
      "['SER' 'SER' 'SER' ... 'UNK' 'UNK' 'UNK']\n",
      "218\n",
      "['SER' 'SER' 'SER' ... 'UNK' 'UNK' 'UNK']\n",
      "219\n",
      "['GLY' 'GLY' 'GLY' ... 'UNK' 'UNK' 'UNK']\n"
     ]
    },
    {
     "name": "stderr",
     "output_type": "stream",
     "text": [
      "[15:34:04] WARNING: More than one matching pattern found - picking one\n",
      "\n"
     ]
    },
    {
     "name": "stdout",
     "output_type": "stream",
     "text": [
      "220\n",
      "['SER' 'SER' 'SER' ... 'UNK' 'UNK' 'UNK']\n",
      "221\n",
      "['SER' 'SER' 'SER' ... 'UNK' 'UNK' 'UNK']\n"
     ]
    },
    {
     "name": "stderr",
     "output_type": "stream",
     "text": [
      "[15:34:07] WARNING: More than one matching pattern found - picking one\n",
      "\n"
     ]
    },
    {
     "name": "stdout",
     "output_type": "stream",
     "text": [
      "222\n",
      "['SER' 'SER' 'SER' ... 'UNK' 'UNK' 'UNK']\n",
      "223\n",
      "['SER' 'SER' 'SER' ... 'UNK' 'UNK' 'UNK']\n"
     ]
    },
    {
     "name": "stderr",
     "output_type": "stream",
     "text": [
      "[15:34:10] WARNING: More than one matching pattern found - picking one\n",
      "\n"
     ]
    },
    {
     "name": "stdout",
     "output_type": "stream",
     "text": [
      "224\n",
      "['SER' 'SER' 'SER' ... 'UNK' 'UNK' 'UNK']\n"
     ]
    },
    {
     "name": "stderr",
     "output_type": "stream",
     "text": [
      "[15:34:12] WARNING: More than one matching pattern found - picking one\n",
      "\n"
     ]
    },
    {
     "name": "stdout",
     "output_type": "stream",
     "text": [
      "225\n",
      "['SER' 'SER' 'SER' ... 'UNK' 'UNK' 'UNK']\n"
     ]
    },
    {
     "name": "stderr",
     "output_type": "stream",
     "text": [
      "[15:34:13] WARNING: More than one matching pattern found - picking one\n",
      "\n"
     ]
    },
    {
     "name": "stdout",
     "output_type": "stream",
     "text": [
      "226\n",
      "['SER' 'SER' 'SER' ... 'UNK' 'UNK' 'UNK']\n",
      "227\n",
      "['SER' 'SER' 'SER' ... 'UNK' 'UNK' 'UNK']\n",
      "228\n",
      "['SER' 'SER' 'SER' ... 'UNK' 'UNK' 'UNK']\n"
     ]
    },
    {
     "name": "stderr",
     "output_type": "stream",
     "text": [
      "[15:34:18] WARNING: More than one matching pattern found - picking one\n",
      "\n"
     ]
    },
    {
     "name": "stdout",
     "output_type": "stream",
     "text": [
      "229\n",
      "['SER' 'SER' 'SER' ... 'UNK' 'UNK' 'UNK']\n",
      "230\n",
      "['SER' 'SER' 'SER' ... 'UNK' 'UNK' 'UNK']\n",
      "231\n",
      "['SER' 'SER' 'SER' ... 'UNK' 'UNK' 'UNK']\n"
     ]
    },
    {
     "name": "stderr",
     "output_type": "stream",
     "text": [
      "[15:34:23] WARNING: More than one matching pattern found - picking one\n",
      "\n"
     ]
    },
    {
     "name": "stdout",
     "output_type": "stream",
     "text": [
      "232\n",
      "['SER' 'SER' 'SER' ... 'UNK' 'UNK' 'UNK']\n"
     ]
    },
    {
     "name": "stderr",
     "output_type": "stream",
     "text": [
      "[15:34:24] WARNING: More than one matching pattern found - picking one\n",
      "\n"
     ]
    },
    {
     "name": "stdout",
     "output_type": "stream",
     "text": [
      "233\n",
      "['SER' 'SER' 'SER' ... 'UNK' 'UNK' 'UNK']\n"
     ]
    },
    {
     "name": "stderr",
     "output_type": "stream",
     "text": [
      "[15:34:26] WARNING: More than one matching pattern found - picking one\n",
      "\n"
     ]
    },
    {
     "name": "stdout",
     "output_type": "stream",
     "text": [
      "234\n",
      "['SER' 'SER' 'SER' ... 'UNK' 'UNK' 'UNK']\n"
     ]
    },
    {
     "name": "stderr",
     "output_type": "stream",
     "text": [
      "[15:34:28] WARNING: More than one matching pattern found - picking one\n",
      "\n"
     ]
    },
    {
     "name": "stdout",
     "output_type": "stream",
     "text": [
      "235\n",
      "['SER' 'SER' 'SER' ... 'UNK' 'UNK' 'UNK']\n",
      "236\n",
      "['SER' 'SER' 'SER' ... 'UNK' 'UNK' 'UNK']\n",
      "237\n",
      "['SER' 'SER' 'SER' ... 'UNK' 'UNK' 'UNK']\n"
     ]
    },
    {
     "name": "stderr",
     "output_type": "stream",
     "text": [
      "[15:34:33] WARNING: More than one matching pattern found - picking one\n",
      "\n"
     ]
    },
    {
     "name": "stdout",
     "output_type": "stream",
     "text": [
      "238\n",
      "['SER' 'SER' 'SER' ... 'UNK' 'UNK' 'UNK']\n",
      "239\n",
      "['SER' 'SER' 'SER' ... 'UNK' 'UNK' 'UNK']\n",
      "240\n",
      "['GLY' 'GLY' 'GLY' ... 'UNK' 'UNK' 'UNK']\n"
     ]
    },
    {
     "name": "stderr",
     "output_type": "stream",
     "text": [
      "[15:34:38] WARNING: More than one matching pattern found - picking one\n",
      "\n"
     ]
    },
    {
     "name": "stdout",
     "output_type": "stream",
     "text": [
      "241\n",
      "['SER' 'SER' 'SER' ... 'UNK' 'UNK' 'UNK']\n",
      "242\n",
      "['SER' 'SER' 'SER' ... 'UNK' 'UNK' 'UNK']\n"
     ]
    },
    {
     "name": "stderr",
     "output_type": "stream",
     "text": [
      "[15:34:41] WARNING: More than one matching pattern found - picking one\n",
      "\n"
     ]
    },
    {
     "name": "stdout",
     "output_type": "stream",
     "text": [
      "243\n",
      "['SER' 'SER' 'SER' ... 'UNK' 'UNK' 'UNK']\n"
     ]
    },
    {
     "name": "stderr",
     "output_type": "stream",
     "text": [
      "[15:34:43] WARNING: More than one matching pattern found - picking one\n",
      "\n"
     ]
    },
    {
     "name": "stdout",
     "output_type": "stream",
     "text": [
      "244\n",
      "['SER' 'SER' 'SER' ... 'UNK' 'UNK' 'UNK']\n",
      "245\n",
      "['SER' 'SER' 'SER' ... 'UNK' 'UNK' 'UNK']\n"
     ]
    },
    {
     "name": "stderr",
     "output_type": "stream",
     "text": [
      "[15:34:46] WARNING: More than one matching pattern found - picking one\n",
      "\n"
     ]
    },
    {
     "name": "stdout",
     "output_type": "stream",
     "text": [
      "246\n",
      "['SER' 'SER' 'SER' ... 'UNK' 'UNK' 'UNK']\n"
     ]
    },
    {
     "name": "stderr",
     "output_type": "stream",
     "text": [
      "[15:34:47] WARNING: More than one matching pattern found - picking one\n",
      "\n"
     ]
    },
    {
     "name": "stdout",
     "output_type": "stream",
     "text": [
      "247\n",
      "['SER' 'SER' 'SER' ... 'UNK' 'UNK' 'UNK']\n",
      "248\n",
      "['SER' 'SER' 'SER' ... 'UNK' 'UNK' 'UNK']\n"
     ]
    },
    {
     "name": "stderr",
     "output_type": "stream",
     "text": [
      "[15:34:51] WARNING: More than one matching pattern found - picking one\n",
      "\n"
     ]
    },
    {
     "name": "stdout",
     "output_type": "stream",
     "text": [
      "249\n",
      "['SER' 'SER' 'SER' ... 'UNK' 'UNK' 'UNK']\n"
     ]
    },
    {
     "name": "stderr",
     "output_type": "stream",
     "text": [
      "[15:34:52] WARNING: More than one matching pattern found - picking one\n",
      "\n"
     ]
    },
    {
     "name": "stdout",
     "output_type": "stream",
     "text": [
      "250\n",
      "['SER' 'SER' 'SER' ... 'UNK' 'UNK' 'UNK']\n"
     ]
    },
    {
     "name": "stderr",
     "output_type": "stream",
     "text": [
      "[15:34:54] WARNING: More than one matching pattern found - picking one\n",
      "\n"
     ]
    },
    {
     "name": "stdout",
     "output_type": "stream",
     "text": [
      "251\n",
      "['SER' 'SER' 'SER' ... 'UNK' 'UNK' 'UNK']\n"
     ]
    },
    {
     "name": "stderr",
     "output_type": "stream",
     "text": [
      "[15:34:55] WARNING: More than one matching pattern found - picking one\n",
      "\n"
     ]
    },
    {
     "name": "stdout",
     "output_type": "stream",
     "text": [
      "252\n",
      "['SER' 'SER' 'SER' ... 'UNK' 'UNK' 'UNK']\n"
     ]
    },
    {
     "name": "stderr",
     "output_type": "stream",
     "text": [
      "[15:34:57] WARNING: More than one matching pattern found - picking one\n",
      "\n"
     ]
    },
    {
     "name": "stdout",
     "output_type": "stream",
     "text": [
      "253\n",
      "['SER' 'SER' 'SER' ... 'UNK' 'UNK' 'UNK']\n"
     ]
    },
    {
     "name": "stderr",
     "output_type": "stream",
     "text": [
      "[15:34:59] WARNING: More than one matching pattern found - picking one\n",
      "\n"
     ]
    },
    {
     "name": "stdout",
     "output_type": "stream",
     "text": [
      "254\n",
      "['SER' 'SER' 'SER' ... 'UNK' 'UNK' 'UNK']\n",
      "255\n",
      "['SER' 'SER' 'SER' ... 'UNK' 'UNK' 'UNK']\n",
      "256\n",
      "['SER' 'SER' 'SER' ... 'UNK' 'UNK' 'UNK']\n",
      "257\n",
      "['SER' 'SER' 'SER' ... 'UNK' 'UNK' 'UNK']\n"
     ]
    },
    {
     "name": "stderr",
     "output_type": "stream",
     "text": [
      "[15:35:05] WARNING: More than one matching pattern found - picking one\n",
      "\n"
     ]
    },
    {
     "name": "stdout",
     "output_type": "stream",
     "text": [
      "258\n",
      "['SER' 'SER' 'SER' ... 'UNK' 'UNK' 'UNK']\n"
     ]
    },
    {
     "name": "stderr",
     "output_type": "stream",
     "text": [
      "[15:35:07] WARNING: More than one matching pattern found - picking one\n",
      "\n"
     ]
    },
    {
     "name": "stdout",
     "output_type": "stream",
     "text": [
      "259\n",
      "['SER' 'SER' 'SER' ... 'UNK' 'UNK' 'UNK']\n",
      "260\n",
      "['SER' 'SER' 'SER' ... 'UNK' 'UNK' 'UNK']\n",
      "261\n",
      "['SER' 'SER' 'SER' ... 'UNK' 'UNK' 'UNK']\n"
     ]
    },
    {
     "name": "stderr",
     "output_type": "stream",
     "text": [
      "[15:35:11] WARNING: More than one matching pattern found - picking one\n",
      "\n"
     ]
    },
    {
     "name": "stdout",
     "output_type": "stream",
     "text": [
      "262\n",
      "['SER' 'SER' 'SER' ... 'UNK' 'UNK' 'UNK']\n",
      "263\n",
      "['SER' 'SER' 'SER' ... 'UNK' 'UNK' 'UNK']\n",
      "264\n",
      "['SER' 'SER' 'SER' ... 'UNK' 'UNK' 'UNK']\n",
      "265\n",
      "['SER' 'SER' 'SER' ... 'UNK' 'UNK' 'UNK']\n",
      "266\n",
      "['SER' 'SER' 'SER' ... 'UNK' 'UNK' 'UNK']\n"
     ]
    },
    {
     "name": "stderr",
     "output_type": "stream",
     "text": [
      "[15:35:20] WARNING: More than one matching pattern found - picking one\n",
      "\n"
     ]
    },
    {
     "name": "stdout",
     "output_type": "stream",
     "text": [
      "267\n",
      "['SER' 'SER' 'SER' ... 'UNK' 'UNK' 'UNK']\n",
      "268\n",
      "['SER' 'SER' 'SER' ... 'UNK' 'UNK' 'UNK']\n",
      "269\n",
      "['SER' 'SER' 'SER' ... 'UNK' 'UNK' 'UNK']\n"
     ]
    },
    {
     "name": "stderr",
     "output_type": "stream",
     "text": [
      "[15:35:25] WARNING: More than one matching pattern found - picking one\n",
      "\n"
     ]
    },
    {
     "name": "stdout",
     "output_type": "stream",
     "text": [
      "270\n",
      "['SER' 'SER' 'SER' ... 'UNK' 'UNK' 'UNK']\n"
     ]
    },
    {
     "name": "stderr",
     "output_type": "stream",
     "text": [
      "[15:35:26] WARNING: More than one matching pattern found - picking one\n",
      "\n"
     ]
    },
    {
     "name": "stdout",
     "output_type": "stream",
     "text": [
      "271\n",
      "['SER' 'SER' 'SER' ... 'UNK' 'UNK' 'UNK']\n"
     ]
    },
    {
     "name": "stderr",
     "output_type": "stream",
     "text": [
      "[15:35:28] WARNING: More than one matching pattern found - picking one\n",
      "\n"
     ]
    },
    {
     "name": "stdout",
     "output_type": "stream",
     "text": [
      "272\n",
      "['SER' 'SER' 'SER' ... 'UNK' 'UNK' 'UNK']\n",
      "273\n",
      "['SER' 'SER' 'SER' ... 'UNK' 'UNK' 'UNK']\n",
      "274\n",
      "['SER' 'SER' 'SER' ... 'UNK' 'UNK' 'UNK']\n"
     ]
    },
    {
     "name": "stderr",
     "output_type": "stream",
     "text": [
      "[15:35:33] WARNING: More than one matching pattern found - picking one\n",
      "\n"
     ]
    },
    {
     "name": "stdout",
     "output_type": "stream",
     "text": [
      "275\n",
      "['SER' 'SER' 'SER' ... 'UNK' 'UNK' 'UNK']\n"
     ]
    },
    {
     "name": "stderr",
     "output_type": "stream",
     "text": [
      "[15:35:35] WARNING: More than one matching pattern found - picking one\n",
      "\n"
     ]
    },
    {
     "name": "stdout",
     "output_type": "stream",
     "text": [
      "276\n",
      "['SER' 'SER' 'SER' ... 'UNK' 'UNK' 'UNK']\n",
      "277\n",
      "['SER' 'SER' 'SER' ... 'UNK' 'UNK' 'UNK']\n"
     ]
    },
    {
     "name": "stderr",
     "output_type": "stream",
     "text": [
      "[15:35:38] WARNING: More than one matching pattern found - picking one\n",
      "\n"
     ]
    },
    {
     "name": "stdout",
     "output_type": "stream",
     "text": [
      "278\n",
      "['SER' 'SER' 'SER' ... 'UNK' 'UNK' 'UNK']\n",
      "279\n",
      "['SER' 'SER' 'SER' ... 'UNK' 'UNK' 'UNK']\n"
     ]
    },
    {
     "name": "stderr",
     "output_type": "stream",
     "text": [
      "[15:35:42] WARNING: More than one matching pattern found - picking one\n",
      "\n"
     ]
    },
    {
     "name": "stdout",
     "output_type": "stream",
     "text": [
      "280\n",
      "['SER' 'SER' 'SER' ... 'UNK' 'UNK' 'UNK']\n",
      "281\n",
      "['SER' 'SER' 'SER' ... 'UNK' 'UNK' 'UNK']\n",
      "282\n",
      "['SER' 'SER' 'SER' ... 'UNK' 'UNK' 'UNK']\n",
      "283\n",
      "['SER' 'SER' 'SER' ... 'UNK' 'UNK' 'UNK']\n"
     ]
    },
    {
     "name": "stderr",
     "output_type": "stream",
     "text": [
      "[15:35:49] WARNING: More than one matching pattern found - picking one\n",
      "\n"
     ]
    },
    {
     "name": "stdout",
     "output_type": "stream",
     "text": [
      "284\n",
      "['SER' 'SER' 'SER' ... 'UNK' 'UNK' 'UNK']\n",
      "285\n",
      "['SER' 'SER' 'SER' ... 'UNK' 'UNK' 'UNK']\n"
     ]
    },
    {
     "name": "stderr",
     "output_type": "stream",
     "text": [
      "[15:35:53] WARNING: More than one matching pattern found - picking one\n",
      "\n"
     ]
    },
    {
     "name": "stdout",
     "output_type": "stream",
     "text": [
      "286\n",
      "['SER' 'SER' 'SER' ... 'UNK' 'UNK' 'UNK']\n"
     ]
    },
    {
     "name": "stderr",
     "output_type": "stream",
     "text": [
      "[15:35:54] WARNING: More than one matching pattern found - picking one\n",
      "\n"
     ]
    },
    {
     "name": "stdout",
     "output_type": "stream",
     "text": [
      "287\n",
      "['SER' 'SER' 'SER' ... 'UNK' 'UNK' 'UNK']\n"
     ]
    },
    {
     "name": "stderr",
     "output_type": "stream",
     "text": [
      "[15:35:56] WARNING: More than one matching pattern found - picking one\n",
      "\n"
     ]
    },
    {
     "name": "stdout",
     "output_type": "stream",
     "text": [
      "288\n",
      "['SER' 'SER' 'SER' ... 'UNK' 'UNK' 'UNK']\n"
     ]
    },
    {
     "name": "stderr",
     "output_type": "stream",
     "text": [
      "[15:35:58] WARNING: More than one matching pattern found - picking one\n",
      "\n"
     ]
    },
    {
     "name": "stdout",
     "output_type": "stream",
     "text": [
      "289\n",
      "['SER' 'SER' 'SER' ... 'UNK' 'UNK' 'UNK']\n"
     ]
    },
    {
     "name": "stderr",
     "output_type": "stream",
     "text": [
      "[15:35:59] WARNING: More than one matching pattern found - picking one\n",
      "\n"
     ]
    },
    {
     "name": "stdout",
     "output_type": "stream",
     "text": [
      "290\n",
      "['SER' 'SER' 'SER' ... 'UNK' 'UNK' 'UNK']\n",
      "291\n",
      "['SER' 'SER' 'SER' ... 'UNK' 'UNK' 'UNK']\n"
     ]
    },
    {
     "name": "stderr",
     "output_type": "stream",
     "text": [
      "[15:36:03] WARNING: More than one matching pattern found - picking one\n",
      "\n"
     ]
    },
    {
     "name": "stdout",
     "output_type": "stream",
     "text": [
      "292\n",
      "['SER' 'SER' 'SER' ... 'UNK' 'UNK' 'UNK']\n",
      "293\n",
      "['SER' 'SER' 'SER' ... 'UNK' 'UNK' 'UNK']\n"
     ]
    },
    {
     "name": "stderr",
     "output_type": "stream",
     "text": [
      "[15:36:06] WARNING: More than one matching pattern found - picking one\n",
      "\n"
     ]
    },
    {
     "name": "stdout",
     "output_type": "stream",
     "text": [
      "294\n",
      "['SER' 'SER' 'SER' ... 'UNK' 'UNK' 'UNK']\n"
     ]
    },
    {
     "name": "stderr",
     "output_type": "stream",
     "text": [
      "[15:36:08] WARNING: More than one matching pattern found - picking one\n",
      "\n"
     ]
    },
    {
     "name": "stdout",
     "output_type": "stream",
     "text": [
      "295\n",
      "['SER' 'SER' 'SER' ... 'UNK' 'UNK' 'UNK']\n"
     ]
    },
    {
     "name": "stderr",
     "output_type": "stream",
     "text": [
      "[15:36:09] WARNING: More than one matching pattern found - picking one\n",
      "\n"
     ]
    },
    {
     "name": "stdout",
     "output_type": "stream",
     "text": [
      "296\n",
      "['SER' 'SER' 'SER' ... 'UNK' 'UNK' 'UNK']\n"
     ]
    },
    {
     "name": "stderr",
     "output_type": "stream",
     "text": [
      "[15:36:11] WARNING: More than one matching pattern found - picking one\n",
      "\n"
     ]
    },
    {
     "name": "stdout",
     "output_type": "stream",
     "text": [
      "297\n",
      "['SER' 'SER' 'SER' ... 'UNK' 'UNK' 'UNK']\n",
      "298\n",
      "['SER' 'SER' 'SER' ... 'UNK' 'UNK' 'UNK']\n",
      "299\n",
      "['SER' 'SER' 'SER' ... 'UNK' 'UNK' 'UNK']\n"
     ]
    },
    {
     "name": "stderr",
     "output_type": "stream",
     "text": [
      "[15:36:16] WARNING: More than one matching pattern found - picking one\n",
      "\n"
     ]
    },
    {
     "name": "stdout",
     "output_type": "stream",
     "text": [
      "300\n",
      "['SER' 'SER' 'SER' ... 'UNK' 'UNK' 'UNK']\n",
      "301\n",
      "['SER' 'SER' 'SER' ... 'UNK' 'UNK' 'UNK']\n",
      "302\n",
      "['SER' 'SER' 'SER' ... 'UNK' 'UNK' 'UNK']\n",
      "303\n",
      "['SER' 'SER' 'SER' ... 'UNK' 'UNK' 'UNK']\n"
     ]
    },
    {
     "name": "stderr",
     "output_type": "stream",
     "text": [
      "[15:36:22] WARNING: More than one matching pattern found - picking one\n",
      "\n"
     ]
    },
    {
     "name": "stdout",
     "output_type": "stream",
     "text": [
      "304\n",
      "['SER' 'SER' 'SER' ... 'UNK' 'UNK' 'UNK']\n",
      "305\n",
      "['SER' 'SER' 'SER' ... 'UNK' 'UNK' 'UNK']\n",
      "306\n",
      "['SER' 'SER' 'SER' ... 'UNK' 'UNK' 'UNK']\n",
      "307\n",
      "['SER' 'SER' 'SER' ... 'UNK' 'UNK' 'UNK']\n",
      "308\n",
      "['SER' 'SER' 'SER' ... 'UNK' 'UNK' 'UNK']\n"
     ]
    },
    {
     "name": "stderr",
     "output_type": "stream",
     "text": [
      "[15:36:30] WARNING: More than one matching pattern found - picking one\n",
      "\n"
     ]
    },
    {
     "name": "stdout",
     "output_type": "stream",
     "text": [
      "309\n",
      "['SER' 'SER' 'SER' ... 'UNK' 'UNK' 'UNK']\n",
      "310\n",
      "['SER' 'SER' 'SER' ... 'UNK' 'UNK' 'UNK']\n",
      "311\n",
      "['SER' 'SER' 'SER' ... 'UNK' 'UNK' 'UNK']\n"
     ]
    },
    {
     "name": "stderr",
     "output_type": "stream",
     "text": [
      "[15:36:36] WARNING: More than one matching pattern found - picking one\n",
      "\n"
     ]
    },
    {
     "name": "stdout",
     "output_type": "stream",
     "text": [
      "312\n",
      "['SER' 'SER' 'SER' ... 'UNK' 'UNK' 'UNK']\n"
     ]
    },
    {
     "name": "stderr",
     "output_type": "stream",
     "text": [
      "[15:36:37] WARNING: More than one matching pattern found - picking one\n",
      "\n"
     ]
    },
    {
     "name": "stdout",
     "output_type": "stream",
     "text": [
      "313\n",
      "['SER' 'SER' 'SER' ... 'UNK' 'UNK' 'UNK']\n"
     ]
    },
    {
     "name": "stderr",
     "output_type": "stream",
     "text": [
      "[15:36:39] WARNING: More than one matching pattern found - picking one\n",
      "\n"
     ]
    },
    {
     "name": "stdout",
     "output_type": "stream",
     "text": [
      "314\n",
      "['SER' 'SER' 'SER' ... 'UNK' 'UNK' 'UNK']\n"
     ]
    },
    {
     "name": "stderr",
     "output_type": "stream",
     "text": [
      "[15:36:40] WARNING: More than one matching pattern found - picking one\n",
      "\n"
     ]
    },
    {
     "name": "stdout",
     "output_type": "stream",
     "text": [
      "315\n",
      "['SER' 'SER' 'SER' ... 'UNK' 'UNK' 'UNK']\n"
     ]
    },
    {
     "name": "stderr",
     "output_type": "stream",
     "text": [
      "[15:36:42] WARNING: More than one matching pattern found - picking one\n",
      "\n"
     ]
    },
    {
     "name": "stdout",
     "output_type": "stream",
     "text": [
      "316\n",
      "['SER' 'SER' 'SER' ... 'UNK' 'UNK' 'UNK']\n"
     ]
    },
    {
     "name": "stderr",
     "output_type": "stream",
     "text": [
      "[15:36:44] WARNING: More than one matching pattern found - picking one\n",
      "\n"
     ]
    },
    {
     "name": "stdout",
     "output_type": "stream",
     "text": [
      "317\n",
      "['SER' 'SER' 'SER' ... 'UNK' 'UNK' 'UNK']\n",
      "318\n",
      "['SER' 'SER' 'SER' ... 'UNK' 'UNK' 'UNK']\n"
     ]
    },
    {
     "name": "stderr",
     "output_type": "stream",
     "text": [
      "[15:36:47] WARNING: More than one matching pattern found - picking one\n",
      "\n"
     ]
    },
    {
     "name": "stdout",
     "output_type": "stream",
     "text": [
      "319\n",
      "['SER' 'SER' 'SER' ... 'UNK' 'UNK' 'UNK']\n",
      "320\n",
      "['SER' 'SER' 'SER' ... 'UNK' 'UNK' 'UNK']\n",
      "321\n",
      "['SER' 'SER' 'SER' ... 'UNK' 'UNK' 'UNK']\n",
      "322\n",
      "['SER' 'SER' 'SER' ... 'UNK' 'UNK' 'UNK']\n",
      "323\n",
      "['SER' 'SER' 'SER' ... 'UNK' 'UNK' 'UNK']\n",
      "324\n",
      "['SER' 'SER' 'SER' ... 'UNK' 'UNK' 'UNK']\n"
     ]
    },
    {
     "name": "stderr",
     "output_type": "stream",
     "text": [
      "[15:36:57] WARNING: More than one matching pattern found - picking one\n",
      "\n"
     ]
    },
    {
     "name": "stdout",
     "output_type": "stream",
     "text": [
      "325\n",
      "['SER' 'SER' 'SER' ... 'UNK' 'UNK' 'UNK']\n"
     ]
    },
    {
     "name": "stderr",
     "output_type": "stream",
     "text": [
      "[15:36:59] WARNING: More than one matching pattern found - picking one\n",
      "\n"
     ]
    },
    {
     "name": "stdout",
     "output_type": "stream",
     "text": [
      "326\n",
      "['SER' 'SER' 'SER' ... 'UNK' 'UNK' 'UNK']\n",
      "327\n",
      "['SER' 'SER' 'SER' ... 'UNK' 'UNK' 'UNK']\n"
     ]
    },
    {
     "name": "stderr",
     "output_type": "stream",
     "text": [
      "[15:37:02] WARNING: More than one matching pattern found - picking one\n",
      "\n"
     ]
    },
    {
     "name": "stdout",
     "output_type": "stream",
     "text": [
      "328\n",
      "['SER' 'SER' 'SER' ... 'UNK' 'UNK' 'UNK']\n"
     ]
    },
    {
     "name": "stderr",
     "output_type": "stream",
     "text": [
      "[15:37:04] WARNING: More than one matching pattern found - picking one\n",
      "\n"
     ]
    },
    {
     "name": "stdout",
     "output_type": "stream",
     "text": [
      "329\n",
      "['SER' 'SER' 'SER' ... 'UNK' 'UNK' 'UNK']\n",
      "330\n",
      "['SER' 'SER' 'SER' ... 'UNK' 'UNK' 'UNK']\n"
     ]
    },
    {
     "name": "stderr",
     "output_type": "stream",
     "text": [
      "[15:37:07] WARNING: More than one matching pattern found - picking one\n",
      "\n"
     ]
    },
    {
     "name": "stdout",
     "output_type": "stream",
     "text": [
      "331\n",
      "['SER' 'SER' 'SER' ... 'UNK' 'UNK' 'UNK']\n"
     ]
    },
    {
     "name": "stderr",
     "output_type": "stream",
     "text": [
      "[15:37:09] WARNING: More than one matching pattern found - picking one\n",
      "\n"
     ]
    },
    {
     "name": "stdout",
     "output_type": "stream",
     "text": [
      "332\n",
      "['SER' 'SER' 'SER' ... 'UNK' 'UNK' 'UNK']\n",
      "333\n",
      "['SER' 'SER' 'SER' ... 'UNK' 'UNK' 'UNK']\n"
     ]
    },
    {
     "name": "stderr",
     "output_type": "stream",
     "text": [
      "[15:37:12] WARNING: More than one matching pattern found - picking one\n",
      "\n"
     ]
    },
    {
     "name": "stdout",
     "output_type": "stream",
     "text": [
      "334\n",
      "['SER' 'SER' 'SER' ... 'UNK' 'UNK' 'UNK']\n"
     ]
    },
    {
     "name": "stderr",
     "output_type": "stream",
     "text": [
      "[15:37:14] WARNING: More than one matching pattern found - picking one\n",
      "\n"
     ]
    },
    {
     "name": "stdout",
     "output_type": "stream",
     "text": [
      "335\n",
      "['SER' 'SER' 'SER' ... 'UNK' 'UNK' 'UNK']\n",
      "336\n",
      "['SER' 'SER' 'SER' ... 'UNK' 'UNK' 'UNK']\n"
     ]
    },
    {
     "name": "stderr",
     "output_type": "stream",
     "text": [
      "[15:37:17] WARNING: More than one matching pattern found - picking one\n",
      "\n"
     ]
    },
    {
     "name": "stdout",
     "output_type": "stream",
     "text": [
      "337\n",
      "['GLY' 'GLY' 'GLY' ... 'UNK' 'UNK' 'UNK']\n",
      "338\n",
      "['SER' 'SER' 'SER' ... 'UNK' 'UNK' 'UNK']\n",
      "339\n",
      "['SER' 'SER' 'SER' ... 'UNK' 'UNK' 'UNK']\n"
     ]
    },
    {
     "name": "stderr",
     "output_type": "stream",
     "text": [
      "[15:37:22] WARNING: More than one matching pattern found - picking one\n",
      "\n"
     ]
    },
    {
     "name": "stdout",
     "output_type": "stream",
     "text": [
      "340\n",
      "['SER' 'SER' 'SER' ... 'UNK' 'UNK' 'UNK']\n",
      "341\n",
      "['SER' 'SER' 'SER' ... 'UNK' 'UNK' 'UNK']\n",
      "342\n",
      "['SER' 'SER' 'SER' ... 'UNK' 'UNK' 'UNK']\n",
      "343\n",
      "['SER' 'SER' 'SER' ... 'UNK' 'UNK' 'UNK']\n"
     ]
    },
    {
     "name": "stderr",
     "output_type": "stream",
     "text": [
      "[15:37:28] WARNING: More than one matching pattern found - picking one\n",
      "\n"
     ]
    },
    {
     "name": "stdout",
     "output_type": "stream",
     "text": [
      "344\n",
      "['SER' 'SER' 'SER' ... 'UNK' 'UNK' 'UNK']\n"
     ]
    },
    {
     "name": "stderr",
     "output_type": "stream",
     "text": [
      "[15:37:30] WARNING: More than one matching pattern found - picking one\n",
      "\n"
     ]
    },
    {
     "name": "stdout",
     "output_type": "stream",
     "text": [
      "345\n",
      "['SER' 'SER' 'SER' ... 'UNK' 'UNK' 'UNK']\n"
     ]
    },
    {
     "name": "stderr",
     "output_type": "stream",
     "text": [
      "[15:37:31] WARNING: More than one matching pattern found - picking one\n",
      "\n"
     ]
    },
    {
     "name": "stdout",
     "output_type": "stream",
     "text": [
      "346\n",
      "['SER' 'SER' 'SER' ... 'UNK' 'UNK' 'UNK']\n"
     ]
    },
    {
     "name": "stderr",
     "output_type": "stream",
     "text": [
      "[15:37:33] WARNING: More than one matching pattern found - picking one\n",
      "\n"
     ]
    },
    {
     "name": "stdout",
     "output_type": "stream",
     "text": [
      "347\n",
      "['SER' 'SER' 'SER' ... 'UNK' 'UNK' 'UNK']\n"
     ]
    },
    {
     "name": "stderr",
     "output_type": "stream",
     "text": [
      "[15:37:35] WARNING: More than one matching pattern found - picking one\n",
      "\n"
     ]
    },
    {
     "name": "stdout",
     "output_type": "stream",
     "text": [
      "348\n",
      "['SER' 'SER' 'SER' ... 'UNK' 'UNK' 'UNK']\n",
      "349\n",
      "['SER' 'SER' 'SER' ... 'UNK' 'UNK' 'UNK']\n",
      "350\n",
      "['SER' 'SER' 'SER' ... 'UNK' 'UNK' 'UNK']\n"
     ]
    },
    {
     "name": "stderr",
     "output_type": "stream",
     "text": [
      "[15:37:40] WARNING: More than one matching pattern found - picking one\n",
      "\n"
     ]
    },
    {
     "name": "stdout",
     "output_type": "stream",
     "text": [
      "351\n",
      "['SER' 'SER' 'SER' ... 'UNK' 'UNK' 'UNK']\n",
      "352\n",
      "['SER' 'SER' 'SER' ... 'UNK' 'UNK' 'UNK']\n",
      "353\n",
      "['SER' 'SER' 'SER' ... 'UNK' 'UNK' 'UNK']\n",
      "354\n",
      "['SER' 'SER' 'SER' ... 'UNK' 'UNK' 'UNK']\n",
      "355\n",
      "['SER' 'SER' 'SER' ... 'UNK' 'UNK' 'UNK']\n"
     ]
    },
    {
     "name": "stderr",
     "output_type": "stream",
     "text": [
      "[15:37:48] WARNING: More than one matching pattern found - picking one\n",
      "\n"
     ]
    },
    {
     "name": "stdout",
     "output_type": "stream",
     "text": [
      "356\n",
      "['SER' 'SER' 'SER' ... 'UNK' 'UNK' 'UNK']\n"
     ]
    },
    {
     "name": "stderr",
     "output_type": "stream",
     "text": [
      "[15:37:49] WARNING: More than one matching pattern found - picking one\n",
      "\n"
     ]
    },
    {
     "name": "stdout",
     "output_type": "stream",
     "text": [
      "357\n",
      "['SER' 'SER' 'SER' ... 'UNK' 'UNK' 'UNK']\n",
      "358\n",
      "['SER' 'SER' 'SER' ... 'UNK' 'UNK' 'UNK']\n",
      "359\n",
      "['SER' 'SER' 'SER' ... 'UNK' 'UNK' 'UNK']\n",
      "360\n",
      "['SER' 'SER' 'SER' ... 'UNK' 'UNK' 'UNK']\n",
      "361\n",
      "['SER' 'SER' 'SER' ... 'UNK' 'UNK' 'UNK']\n"
     ]
    },
    {
     "name": "stderr",
     "output_type": "stream",
     "text": [
      "[15:37:57] WARNING: More than one matching pattern found - picking one\n",
      "\n"
     ]
    },
    {
     "name": "stdout",
     "output_type": "stream",
     "text": [
      "362\n",
      "['SER' 'SER' 'SER' ... 'UNK' 'UNK' 'UNK']\n",
      "363\n",
      "['SER' 'SER' 'SER' ... 'UNK' 'UNK' 'UNK']\n",
      "364\n",
      "['SER' 'SER' 'SER' ... 'UNK' 'UNK' 'UNK']\n",
      "365\n",
      "['SER' 'SER' 'SER' ... 'UNK' 'UNK' 'UNK']\n"
     ]
    },
    {
     "name": "stderr",
     "output_type": "stream",
     "text": [
      "[15:38:04] WARNING: More than one matching pattern found - picking one\n",
      "\n"
     ]
    },
    {
     "name": "stdout",
     "output_type": "stream",
     "text": [
      "366\n",
      "['SER' 'SER' 'SER' ... 'UNK' 'UNK' 'UNK']\n",
      "367\n",
      "['SER' 'SER' 'SER' ... 'UNK' 'UNK' 'UNK']\n",
      "368\n",
      "['SER' 'SER' 'SER' ... 'UNK' 'UNK' 'UNK']\n",
      "369\n",
      "['SER' 'SER' 'SER' ... 'UNK' 'UNK' 'UNK']\n"
     ]
    },
    {
     "name": "stderr",
     "output_type": "stream",
     "text": [
      "[15:38:13] WARNING: More than one matching pattern found - picking one\n",
      "\n"
     ]
    },
    {
     "name": "stdout",
     "output_type": "stream",
     "text": [
      "370\n",
      "['SER' 'SER' 'SER' ... 'UNK' 'UNK' 'UNK']\n"
     ]
    },
    {
     "name": "stderr",
     "output_type": "stream",
     "text": [
      "[15:38:15] WARNING: More than one matching pattern found - picking one\n",
      "\n"
     ]
    },
    {
     "name": "stdout",
     "output_type": "stream",
     "text": [
      "371\n",
      "['SER' 'SER' 'SER' ... 'UNK' 'UNK' 'UNK']\n",
      "372\n"
     ]
    },
    {
     "name": "stderr",
     "output_type": "stream",
     "text": [
      "[15:38:17] WARNING: More than one matching pattern found - picking one\n",
      "\n"
     ]
    },
    {
     "name": "stdout",
     "output_type": "stream",
     "text": [
      "['SER' 'SER' 'SER' ... 'UNK' 'UNK' 'UNK']\n",
      "373\n",
      "['SER' 'SER' 'SER' ... 'UNK' 'UNK' 'UNK']\n",
      "374\n",
      "['SER' 'SER' 'SER' ... 'UNK' 'UNK' 'UNK']\n"
     ]
    },
    {
     "name": "stderr",
     "output_type": "stream",
     "text": [
      "[15:38:22] WARNING: More than one matching pattern found - picking one\n",
      "\n"
     ]
    },
    {
     "name": "stdout",
     "output_type": "stream",
     "text": [
      "375\n",
      "['SER' 'SER' 'SER' ... 'UNK' 'UNK' 'UNK']\n"
     ]
    },
    {
     "name": "stderr",
     "output_type": "stream",
     "text": [
      "[15:38:24] WARNING: More than one matching pattern found - picking one\n",
      "\n"
     ]
    },
    {
     "name": "stdout",
     "output_type": "stream",
     "text": [
      "376\n",
      "['SER' 'SER' 'SER' ... 'UNK' 'UNK' 'UNK']\n"
     ]
    },
    {
     "name": "stderr",
     "output_type": "stream",
     "text": [
      "[15:38:25] WARNING: More than one matching pattern found - picking one\n",
      "\n"
     ]
    },
    {
     "name": "stdout",
     "output_type": "stream",
     "text": [
      "377\n",
      "['SER' 'SER' 'SER' ... 'UNK' 'UNK' 'UNK']\n"
     ]
    },
    {
     "name": "stderr",
     "output_type": "stream",
     "text": [
      "[15:38:27] WARNING: More than one matching pattern found - picking one\n",
      "\n"
     ]
    },
    {
     "name": "stdout",
     "output_type": "stream",
     "text": [
      "378\n",
      "['SER' 'SER' 'SER' ... 'UNK' 'UNK' 'UNK']\n"
     ]
    },
    {
     "name": "stderr",
     "output_type": "stream",
     "text": [
      "[15:38:29] WARNING: More than one matching pattern found - picking one\n",
      "\n"
     ]
    },
    {
     "name": "stdout",
     "output_type": "stream",
     "text": [
      "379\n",
      "['SER' 'SER' 'SER' ... 'UNK' 'UNK' 'UNK']\n"
     ]
    },
    {
     "name": "stderr",
     "output_type": "stream",
     "text": [
      "[15:38:31] WARNING: More than one matching pattern found - picking one\n",
      "\n"
     ]
    },
    {
     "name": "stdout",
     "output_type": "stream",
     "text": [
      "380\n",
      "['SER' 'SER' 'SER' ... 'UNK' 'UNK' 'UNK']\n"
     ]
    },
    {
     "name": "stderr",
     "output_type": "stream",
     "text": [
      "[15:38:32] WARNING: More than one matching pattern found - picking one\n",
      "\n"
     ]
    },
    {
     "name": "stdout",
     "output_type": "stream",
     "text": [
      "381\n",
      "['SER' 'SER' 'SER' ... 'UNK' 'UNK' 'UNK']\n"
     ]
    },
    {
     "name": "stderr",
     "output_type": "stream",
     "text": [
      "[15:38:34] WARNING: More than one matching pattern found - picking one\n",
      "\n"
     ]
    },
    {
     "name": "stdout",
     "output_type": "stream",
     "text": [
      "382\n",
      "['SER' 'SER' 'SER' ... 'UNK' 'UNK' 'UNK']\n",
      "383\n",
      "['SER' 'SER' 'SER' ... 'UNK' 'UNK' 'UNK']\n"
     ]
    },
    {
     "name": "stderr",
     "output_type": "stream",
     "text": [
      "[15:38:37] WARNING: More than one matching pattern found - picking one\n",
      "\n"
     ]
    },
    {
     "name": "stdout",
     "output_type": "stream",
     "text": [
      "384\n",
      "['SER' 'SER' 'SER' ... 'UNK' 'UNK' 'UNK']\n"
     ]
    },
    {
     "name": "stderr",
     "output_type": "stream",
     "text": [
      "[15:38:39] WARNING: More than one matching pattern found - picking one\n",
      "\n"
     ]
    },
    {
     "name": "stdout",
     "output_type": "stream",
     "text": [
      "385\n",
      "['SER' 'SER' 'SER' ... 'UNK' 'UNK' 'UNK']\n"
     ]
    },
    {
     "name": "stderr",
     "output_type": "stream",
     "text": [
      "[15:38:40] WARNING: More than one matching pattern found - picking one\n",
      "\n"
     ]
    },
    {
     "name": "stdout",
     "output_type": "stream",
     "text": [
      "386\n",
      "['SER' 'SER' 'SER' ... 'UNK' 'UNK' 'UNK']\n"
     ]
    },
    {
     "name": "stderr",
     "output_type": "stream",
     "text": [
      "[15:38:42] WARNING: More than one matching pattern found - picking one\n",
      "\n"
     ]
    },
    {
     "name": "stdout",
     "output_type": "stream",
     "text": [
      "387\n",
      "['SER' 'SER' 'SER' ... 'UNK' 'UNK' 'UNK']\n",
      "388\n",
      "['SER' 'SER' 'SER' ... 'UNK' 'UNK' 'UNK']\n"
     ]
    },
    {
     "name": "stderr",
     "output_type": "stream",
     "text": [
      "[15:38:45] WARNING: More than one matching pattern found - picking one\n",
      "\n"
     ]
    },
    {
     "name": "stdout",
     "output_type": "stream",
     "text": [
      "389\n",
      "['SER' 'SER' 'SER' ... 'UNK' 'UNK' 'UNK']\n",
      "390\n",
      "['SER' 'SER' 'SER' ... 'UNK' 'UNK' 'UNK']\n"
     ]
    },
    {
     "name": "stderr",
     "output_type": "stream",
     "text": [
      "[15:38:48] WARNING: More than one matching pattern found - picking one\n",
      "\n"
     ]
    },
    {
     "name": "stdout",
     "output_type": "stream",
     "text": [
      "391\n",
      "['SER' 'SER' 'SER' ... 'UNK' 'UNK' 'UNK']\n",
      "392\n",
      "['SER' 'SER' 'SER' ... 'UNK' 'UNK' 'UNK']\n",
      "393\n",
      "['SER' 'SER' 'SER' ... 'UNK' 'UNK' 'UNK']\n",
      "394\n",
      "['SER' 'SER' 'SER' ... 'UNK' 'UNK' 'UNK']\n"
     ]
    },
    {
     "name": "stderr",
     "output_type": "stream",
     "text": [
      "[15:38:55] WARNING: More than one matching pattern found - picking one\n",
      "\n"
     ]
    },
    {
     "name": "stdout",
     "output_type": "stream",
     "text": [
      "395\n",
      "['SER' 'SER' 'SER' ... 'UNK' 'UNK' 'UNK']\n",
      "396\n",
      "['SER' 'SER' 'SER' ... 'UNK' 'UNK' 'UNK']\n"
     ]
    },
    {
     "name": "stderr",
     "output_type": "stream",
     "text": [
      "[15:38:58] WARNING: More than one matching pattern found - picking one\n",
      "\n"
     ]
    },
    {
     "name": "stdout",
     "output_type": "stream",
     "text": [
      "397\n",
      "['SER' 'SER' 'SER' ... 'UNK' 'UNK' 'UNK']\n",
      "398\n",
      "['SER' 'SER' 'SER' ... 'UNK' 'UNK' 'UNK']\n",
      "399\n",
      "['SER' 'SER' 'SER' ... 'UNK' 'UNK' 'UNK']\n"
     ]
    },
    {
     "name": "stderr",
     "output_type": "stream",
     "text": [
      "[15:39:03] WARNING: More than one matching pattern found - picking one\n",
      "\n"
     ]
    },
    {
     "name": "stdout",
     "output_type": "stream",
     "text": [
      "400\n",
      "['SER' 'SER' 'SER' ... 'UNK' 'UNK' 'UNK']\n"
     ]
    },
    {
     "name": "stderr",
     "output_type": "stream",
     "text": [
      "[15:39:04] WARNING: More than one matching pattern found - picking one\n",
      "\n"
     ]
    },
    {
     "name": "stdout",
     "output_type": "stream",
     "text": [
      "401\n",
      "['SER' 'SER' 'SER' ... 'UNK' 'UNK' 'UNK']\n"
     ]
    },
    {
     "name": "stderr",
     "output_type": "stream",
     "text": [
      "[15:39:06] WARNING: More than one matching pattern found - picking one\n",
      "\n"
     ]
    },
    {
     "name": "stdout",
     "output_type": "stream",
     "text": [
      "402\n",
      "['SER' 'SER' 'SER' ... 'UNK' 'UNK' 'UNK']\n"
     ]
    },
    {
     "name": "stderr",
     "output_type": "stream",
     "text": [
      "[15:39:08] WARNING: More than one matching pattern found - picking one\n",
      "\n"
     ]
    },
    {
     "name": "stdout",
     "output_type": "stream",
     "text": [
      "403\n",
      "['SER' 'SER' 'SER' ... 'UNK' 'UNK' 'UNK']\n",
      "404\n",
      "['SER' 'SER' 'SER' ... 'UNK' 'UNK' 'UNK']\n",
      "405\n",
      "['SER' 'SER' 'SER' ... 'UNK' 'UNK' 'UNK']\n",
      "406\n",
      "['SER' 'SER' 'SER' ... 'UNK' 'UNK' 'UNK']\n",
      "407\n",
      "['SER' 'SER' 'SER' ... 'UNK' 'UNK' 'UNK']\n"
     ]
    },
    {
     "name": "stderr",
     "output_type": "stream",
     "text": [
      "[15:39:16] WARNING: More than one matching pattern found - picking one\n",
      "\n"
     ]
    },
    {
     "name": "stdout",
     "output_type": "stream",
     "text": [
      "408\n",
      "['SER' 'SER' 'SER' ... 'UNK' 'UNK' 'UNK']\n"
     ]
    },
    {
     "name": "stderr",
     "output_type": "stream",
     "text": [
      "[15:39:17] WARNING: More than one matching pattern found - picking one\n",
      "\n"
     ]
    },
    {
     "name": "stdout",
     "output_type": "stream",
     "text": [
      "409\n",
      "['SER' 'SER' 'SER' ... 'UNK' 'UNK' 'UNK']\n"
     ]
    },
    {
     "name": "stderr",
     "output_type": "stream",
     "text": [
      "[15:39:19] WARNING: More than one matching pattern found - picking one\n",
      "\n"
     ]
    },
    {
     "name": "stdout",
     "output_type": "stream",
     "text": [
      "410\n",
      "['SER' 'SER' 'SER' ... 'UNK' 'UNK' 'UNK']\n"
     ]
    },
    {
     "name": "stderr",
     "output_type": "stream",
     "text": [
      "[15:39:21] WARNING: More than one matching pattern found - picking one\n",
      "\n"
     ]
    },
    {
     "name": "stdout",
     "output_type": "stream",
     "text": [
      "411\n",
      "['SER' 'SER' 'SER' ... 'UNK' 'UNK' 'UNK']\n",
      "412\n",
      "['SER' 'SER' 'SER' ... 'UNK' 'UNK' 'UNK']\n"
     ]
    },
    {
     "name": "stderr",
     "output_type": "stream",
     "text": [
      "[15:39:24] WARNING: More than one matching pattern found - picking one\n",
      "\n"
     ]
    },
    {
     "name": "stdout",
     "output_type": "stream",
     "text": [
      "413\n",
      "['SER' 'SER' 'SER' ... 'UNK' 'UNK' 'UNK']\n"
     ]
    },
    {
     "name": "stderr",
     "output_type": "stream",
     "text": [
      "[15:39:25] WARNING: More than one matching pattern found - picking one\n",
      "\n"
     ]
    },
    {
     "name": "stdout",
     "output_type": "stream",
     "text": [
      "414\n",
      "['SER' 'SER' 'SER' ... 'UNK' 'UNK' 'UNK']\n",
      "415\n",
      "['SER' 'SER' 'SER' ... 'UNK' 'UNK' 'UNK']\n",
      "416\n",
      "['SER' 'SER' 'SER' ... 'UNK' 'UNK' 'UNK']\n"
     ]
    },
    {
     "name": "stderr",
     "output_type": "stream",
     "text": [
      "[15:39:30] WARNING: More than one matching pattern found - picking one\n",
      "\n"
     ]
    },
    {
     "name": "stdout",
     "output_type": "stream",
     "text": [
      "417\n",
      "['SER' 'SER' 'SER' ... 'UNK' 'UNK' 'UNK']\n",
      "418\n",
      "['SER' 'SER' 'SER' ... 'UNK' 'UNK' 'UNK']\n"
     ]
    },
    {
     "name": "stderr",
     "output_type": "stream",
     "text": [
      "[15:39:38] WARNING: More than one matching pattern found - picking one\n",
      "\n"
     ]
    },
    {
     "name": "stdout",
     "output_type": "stream",
     "text": [
      "419\n",
      "['SER' 'SER' 'SER' ... 'UNK' 'UNK' 'UNK']\n",
      "420\n",
      "['SER' 'SER' 'SER' ... 'UNK' 'UNK' 'UNK']\n",
      "421\n",
      "['SER' 'SER' 'SER' ... 'UNK' 'UNK' 'UNK']\n",
      "422\n",
      "['SER' 'SER' 'SER' ... 'UNK' 'UNK' 'UNK']\n"
     ]
    },
    {
     "name": "stderr",
     "output_type": "stream",
     "text": [
      "[15:39:53] WARNING: More than one matching pattern found - picking one\n",
      "\n"
     ]
    },
    {
     "name": "stdout",
     "output_type": "stream",
     "text": [
      "423\n",
      "['SER' 'SER' 'SER' ... 'UNK' 'UNK' 'UNK']\n",
      "424\n",
      "['SER' 'SER' 'SER' ... 'UNK' 'UNK' 'UNK']\n",
      "425\n",
      "['SER' 'SER' 'SER' ... 'UNK' 'UNK' 'UNK']\n"
     ]
    },
    {
     "name": "stderr",
     "output_type": "stream",
     "text": [
      "[15:40:04] WARNING: More than one matching pattern found - picking one\n",
      "\n"
     ]
    },
    {
     "name": "stdout",
     "output_type": "stream",
     "text": [
      "426\n",
      "['SER' 'SER' 'SER' ... 'UNK' 'UNK' 'UNK']\n",
      "427\n",
      "['SER' 'SER' 'SER' ... 'UNK' 'UNK' 'UNK']\n",
      "428\n",
      "['SER' 'SER' 'SER' ... 'UNK' 'UNK' 'UNK']\n"
     ]
    },
    {
     "name": "stderr",
     "output_type": "stream",
     "text": [
      "[15:40:16] WARNING: More than one matching pattern found - picking one\n",
      "\n"
     ]
    },
    {
     "name": "stdout",
     "output_type": "stream",
     "text": [
      "429\n",
      "['SER' 'SER' 'SER' ... 'UNK' 'UNK' 'UNK']\n"
     ]
    },
    {
     "name": "stderr",
     "output_type": "stream",
     "text": [
      "[15:40:20] WARNING: More than one matching pattern found - picking one\n",
      "\n"
     ]
    },
    {
     "name": "stdout",
     "output_type": "stream",
     "text": [
      "430\n",
      "['SER' 'SER' 'SER' ... 'UNK' 'UNK' 'UNK']\n",
      "431\n",
      "['SER' 'SER' 'SER' ... 'UNK' 'UNK' 'UNK']\n"
     ]
    },
    {
     "name": "stderr",
     "output_type": "stream",
     "text": [
      "[15:40:27] WARNING: More than one matching pattern found - picking one\n",
      "\n"
     ]
    },
    {
     "name": "stdout",
     "output_type": "stream",
     "text": [
      "432\n",
      "['SER' 'SER' 'SER' ... 'UNK' 'UNK' 'UNK']\n",
      "433\n",
      "['SER' 'SER' 'SER' ... 'UNK' 'UNK' 'UNK']\n"
     ]
    },
    {
     "name": "stderr",
     "output_type": "stream",
     "text": [
      "[15:40:34] WARNING: More than one matching pattern found - picking one\n",
      "\n"
     ]
    },
    {
     "name": "stdout",
     "output_type": "stream",
     "text": [
      "434\n",
      "['SER' 'SER' 'SER' ... 'UNK' 'UNK' 'UNK']\n",
      "435\n",
      "['SER' 'SER' 'SER' ... 'UNK' 'UNK' 'UNK']\n"
     ]
    },
    {
     "name": "stderr",
     "output_type": "stream",
     "text": [
      "[15:40:42] WARNING: More than one matching pattern found - picking one\n",
      "\n"
     ]
    },
    {
     "name": "stdout",
     "output_type": "stream",
     "text": [
      "436\n",
      "['SER' 'SER' 'SER' ... 'UNK' 'UNK' 'UNK']\n",
      "437\n",
      "['SER' 'SER' 'SER' ... 'UNK' 'UNK' 'UNK']\n"
     ]
    },
    {
     "name": "stderr",
     "output_type": "stream",
     "text": [
      "[15:40:49] WARNING: More than one matching pattern found - picking one\n",
      "\n"
     ]
    },
    {
     "name": "stdout",
     "output_type": "stream",
     "text": [
      "438\n",
      "['SER' 'SER' 'SER' ... 'UNK' 'UNK' 'UNK']\n"
     ]
    },
    {
     "name": "stderr",
     "output_type": "stream",
     "text": [
      "[15:40:53] WARNING: More than one matching pattern found - picking one\n",
      "\n"
     ]
    },
    {
     "name": "stdout",
     "output_type": "stream",
     "text": [
      "439\n",
      "['SER' 'SER' 'SER' ... 'UNK' 'UNK' 'UNK']\n"
     ]
    },
    {
     "name": "stderr",
     "output_type": "stream",
     "text": [
      "[15:40:57] WARNING: More than one matching pattern found - picking one\n",
      "\n"
     ]
    },
    {
     "name": "stdout",
     "output_type": "stream",
     "text": [
      "440\n",
      "['SER' 'SER' 'SER' ... 'UNK' 'UNK' 'UNK']\n"
     ]
    },
    {
     "name": "stderr",
     "output_type": "stream",
     "text": [
      "[15:41:01] WARNING: More than one matching pattern found - picking one\n",
      "\n"
     ]
    },
    {
     "name": "stdout",
     "output_type": "stream",
     "text": [
      "441\n",
      "['SER' 'SER' 'SER' ... 'UNK' 'UNK' 'UNK']\n"
     ]
    },
    {
     "name": "stderr",
     "output_type": "stream",
     "text": [
      "[15:41:05] WARNING: More than one matching pattern found - picking one\n",
      "\n"
     ]
    },
    {
     "name": "stdout",
     "output_type": "stream",
     "text": [
      "442\n",
      "['SER' 'SER' 'SER' ... 'UNK' 'UNK' 'UNK']\n"
     ]
    },
    {
     "name": "stderr",
     "output_type": "stream",
     "text": [
      "[15:41:08] WARNING: More than one matching pattern found - picking one\n",
      "\n"
     ]
    },
    {
     "name": "stdout",
     "output_type": "stream",
     "text": [
      "443\n",
      "['SER' 'SER' 'SER' ... 'UNK' 'UNK' 'UNK']\n"
     ]
    },
    {
     "name": "stderr",
     "output_type": "stream",
     "text": [
      "[15:41:13] WARNING: More than one matching pattern found - picking one\n",
      "\n"
     ]
    },
    {
     "name": "stdout",
     "output_type": "stream",
     "text": [
      "444\n",
      "['SER' 'SER' 'SER' ... 'UNK' 'UNK' 'UNK']\n"
     ]
    },
    {
     "name": "stderr",
     "output_type": "stream",
     "text": [
      "[15:41:17] WARNING: More than one matching pattern found - picking one\n",
      "\n"
     ]
    },
    {
     "name": "stdout",
     "output_type": "stream",
     "text": [
      "445\n",
      "['SER' 'SER' 'SER' ... 'UNK' 'UNK' 'UNK']\n",
      "446\n",
      "['SER' 'SER' 'SER' ... 'UNK' 'UNK' 'UNK']\n"
     ]
    },
    {
     "name": "stderr",
     "output_type": "stream",
     "text": [
      "[15:41:23] WARNING: More than one matching pattern found - picking one\n",
      "\n"
     ]
    },
    {
     "name": "stdout",
     "output_type": "stream",
     "text": [
      "447\n",
      "['SER' 'SER' 'SER' ... 'UNK' 'UNK' 'UNK']\n",
      "448\n",
      "['SER' 'SER' 'SER' ... 'UNK' 'UNK' 'UNK']\n"
     ]
    },
    {
     "name": "stderr",
     "output_type": "stream",
     "text": [
      "[15:41:31] WARNING: More than one matching pattern found - picking one\n",
      "\n"
     ]
    },
    {
     "name": "stdout",
     "output_type": "stream",
     "text": [
      "449\n",
      "['SER' 'SER' 'SER' ... 'UNK' 'UNK' 'UNK']\n",
      "450\n",
      "['SER' 'SER' 'SER' ... 'UNK' 'UNK' 'UNK']\n"
     ]
    },
    {
     "name": "stderr",
     "output_type": "stream",
     "text": [
      "[15:41:39] WARNING: More than one matching pattern found - picking one\n",
      "\n"
     ]
    },
    {
     "name": "stdout",
     "output_type": "stream",
     "text": [
      "451\n",
      "['SER' 'SER' 'SER' ... 'UNK' 'UNK' 'UNK']\n",
      "452\n",
      "['SER' 'SER' 'SER' ... 'UNK' 'UNK' 'UNK']\n",
      "453\n",
      "['SER' 'SER' 'SER' ... 'UNK' 'UNK' 'UNK']\n",
      "454\n",
      "['SER' 'SER' 'SER' ... 'UNK' 'UNK' 'UNK']\n"
     ]
    },
    {
     "name": "stderr",
     "output_type": "stream",
     "text": [
      "[15:41:53] WARNING: More than one matching pattern found - picking one\n",
      "\n"
     ]
    },
    {
     "name": "stdout",
     "output_type": "stream",
     "text": [
      "455\n",
      "['SER' 'SER' 'SER' ... 'UNK' 'UNK' 'UNK']\n"
     ]
    },
    {
     "name": "stderr",
     "output_type": "stream",
     "text": [
      "[15:41:57] WARNING: More than one matching pattern found - picking one\n",
      "\n"
     ]
    },
    {
     "name": "stdout",
     "output_type": "stream",
     "text": [
      "456\n",
      "['SER' 'SER' 'SER' ... 'UNK' 'UNK' 'UNK']\n",
      "457\n",
      "['SER' 'SER' 'SER' ... 'UNK' 'UNK' 'UNK']\n",
      "458\n",
      "['SER' 'SER' 'SER' ... 'UNK' 'UNK' 'UNK']\n"
     ]
    },
    {
     "name": "stderr",
     "output_type": "stream",
     "text": [
      "[15:42:08] WARNING: More than one matching pattern found - picking one\n",
      "\n"
     ]
    },
    {
     "name": "stdout",
     "output_type": "stream",
     "text": [
      "459\n",
      "['SER' 'SER' 'SER' ... 'UNK' 'UNK' 'UNK']\n",
      "460\n",
      "['SER' 'SER' 'SER' ... 'UNK' 'UNK' 'UNK']\n"
     ]
    },
    {
     "name": "stderr",
     "output_type": "stream",
     "text": [
      "[15:42:15] WARNING: More than one matching pattern found - picking one\n",
      "\n"
     ]
    },
    {
     "name": "stdout",
     "output_type": "stream",
     "text": [
      "461\n",
      "['SER' 'SER' 'SER' ... 'UNK' 'UNK' 'UNK']\n"
     ]
    },
    {
     "name": "stderr",
     "output_type": "stream",
     "text": [
      "[15:42:19] WARNING: More than one matching pattern found - picking one\n",
      "\n"
     ]
    },
    {
     "name": "stdout",
     "output_type": "stream",
     "text": [
      "462\n",
      "['SER' 'SER' 'SER' ... 'UNK' 'UNK' 'UNK']\n",
      "463\n",
      "['SER' 'SER' 'SER' ... 'UNK' 'UNK' 'UNK']\n"
     ]
    },
    {
     "name": "stderr",
     "output_type": "stream",
     "text": [
      "[15:42:25] WARNING: More than one matching pattern found - picking one\n",
      "\n"
     ]
    },
    {
     "name": "stdout",
     "output_type": "stream",
     "text": [
      "464\n",
      "['SER' 'SER' 'SER' ... 'UNK' 'UNK' 'UNK']\n"
     ]
    },
    {
     "name": "stderr",
     "output_type": "stream",
     "text": [
      "[15:42:29] WARNING: More than one matching pattern found - picking one\n",
      "\n"
     ]
    },
    {
     "name": "stdout",
     "output_type": "stream",
     "text": [
      "465\n",
      "['SER' 'SER' 'SER' ... 'UNK' 'UNK' 'UNK']\n"
     ]
    },
    {
     "name": "stderr",
     "output_type": "stream",
     "text": [
      "[15:42:33] WARNING: More than one matching pattern found - picking one\n",
      "\n"
     ]
    },
    {
     "name": "stdout",
     "output_type": "stream",
     "text": [
      "466\n",
      "['SER' 'SER' 'SER' ... 'UNK' 'UNK' 'UNK']\n",
      "467\n",
      "['SER' 'SER' 'SER' ... 'UNK' 'UNK' 'UNK']\n",
      "468\n",
      "['SER' 'SER' 'SER' ... 'UNK' 'UNK' 'UNK']\n",
      "469\n",
      "['SER' 'SER' 'SER' ... 'UNK' 'UNK' 'UNK']\n",
      "470\n",
      "['SER' 'SER' 'SER' ... 'UNK' 'UNK' 'UNK']\n",
      "471\n",
      "['SER' 'SER' 'SER' ... 'UNK' 'UNK' 'UNK']\n",
      "472\n",
      "['SER' 'SER' 'SER' ... 'UNK' 'UNK' 'UNK']\n",
      "473\n",
      "['SER' 'SER' 'SER' ... 'UNK' 'UNK' 'UNK']\n"
     ]
    },
    {
     "name": "stderr",
     "output_type": "stream",
     "text": [
      "[15:43:02] WARNING: More than one matching pattern found - picking one\n",
      "\n"
     ]
    },
    {
     "name": "stdout",
     "output_type": "stream",
     "text": [
      "474\n",
      "['SER' 'SER' 'SER' ... 'UNK' 'UNK' 'UNK']\n",
      "475\n",
      "['SER' 'SER' 'SER' ... 'UNK' 'UNK' 'UNK']\n",
      "476\n",
      "['SER' 'SER' 'SER' ... 'UNK' 'UNK' 'UNK']\n"
     ]
    },
    {
     "name": "stderr",
     "output_type": "stream",
     "text": [
      "[15:43:07] WARNING: More than one matching pattern found - picking one\n",
      "\n"
     ]
    },
    {
     "name": "stdout",
     "output_type": "stream",
     "text": [
      "477\n",
      "['SER' 'SER' 'SER' ... 'UNK' 'UNK' 'UNK']\n",
      "478\n",
      "['SER' 'SER' 'SER' ... 'UNK' 'UNK' 'UNK']\n",
      "479\n",
      "['SER' 'SER' 'SER' ... 'UNK' 'UNK' 'UNK']\n"
     ]
    },
    {
     "name": "stderr",
     "output_type": "stream",
     "text": [
      "[15:43:12] WARNING: More than one matching pattern found - picking one\n",
      "\n"
     ]
    },
    {
     "name": "stdout",
     "output_type": "stream",
     "text": [
      "480\n",
      "['SER' 'SER' 'SER' ... 'UNK' 'UNK' 'UNK']\n",
      "481\n",
      "['SER' 'SER' 'SER' ... 'UNK' 'UNK' 'UNK']\n",
      "482\n",
      "['SER' 'SER' 'SER' ... 'UNK' 'UNK' 'UNK']\n",
      "483\n",
      "['SER' 'SER' 'SER' ... 'UNK' 'UNK' 'UNK']\n"
     ]
    },
    {
     "name": "stderr",
     "output_type": "stream",
     "text": [
      "[15:43:19] WARNING: More than one matching pattern found - picking one\n",
      "\n"
     ]
    },
    {
     "name": "stdout",
     "output_type": "stream",
     "text": [
      "484\n",
      "['SER' 'SER' 'SER' ... 'UNK' 'UNK' 'UNK']\n",
      "485\n",
      "['SER' 'SER' 'SER' ... 'UNK' 'UNK' 'UNK']\n",
      "486\n",
      "['SER' 'SER' 'SER' ... 'UNK' 'UNK' 'UNK']\n",
      "487\n",
      "['SER' 'SER' 'SER' ... 'UNK' 'UNK' 'UNK']\n",
      "488\n",
      "['SER' 'SER' 'SER' ... 'UNK' 'UNK' 'UNK']\n"
     ]
    },
    {
     "name": "stderr",
     "output_type": "stream",
     "text": [
      "[15:43:27] WARNING: More than one matching pattern found - picking one\n",
      "\n"
     ]
    },
    {
     "name": "stdout",
     "output_type": "stream",
     "text": [
      "489\n",
      "['SER' 'SER' 'SER' ... 'UNK' 'UNK' 'UNK']\n",
      "490\n",
      "['SER' 'SER' 'SER' ... 'UNK' 'UNK' 'UNK']\n"
     ]
    },
    {
     "name": "stderr",
     "output_type": "stream",
     "text": [
      "[15:43:30] WARNING: More than one matching pattern found - picking one\n",
      "\n"
     ]
    },
    {
     "name": "stdout",
     "output_type": "stream",
     "text": [
      "491\n",
      "['SER' 'SER' 'SER' ... 'UNK' 'UNK' 'UNK']\n",
      "492\n",
      "['SER' 'SER' 'SER' ... 'UNK' 'UNK' 'UNK']\n",
      "493\n",
      "['SER' 'SER' 'SER' ... 'UNK' 'UNK' 'UNK']\n",
      "494\n",
      "['SER' 'SER' 'SER' ... 'UNK' 'UNK' 'UNK']\n",
      "495\n",
      "['SER' 'SER' 'SER' ... 'UNK' 'UNK' 'UNK']\n",
      "496\n",
      "['SER' 'SER' 'SER' ... 'UNK' 'UNK' 'UNK']\n"
     ]
    },
    {
     "name": "stderr",
     "output_type": "stream",
     "text": [
      "[15:43:40] WARNING: More than one matching pattern found - picking one\n",
      "\n"
     ]
    },
    {
     "name": "stdout",
     "output_type": "stream",
     "text": [
      "497\n",
      "['SER' 'SER' 'SER' ... 'UNK' 'UNK' 'UNK']\n",
      "498\n",
      "['SER' 'SER' 'SER' ... 'UNK' 'UNK' 'UNK']\n"
     ]
    },
    {
     "name": "stderr",
     "output_type": "stream",
     "text": [
      "[15:43:44] WARNING: More than one matching pattern found - picking one\n",
      "\n"
     ]
    },
    {
     "name": "stdout",
     "output_type": "stream",
     "text": [
      "499\n",
      "['SER' 'SER' 'SER' ... 'UNK' 'UNK' 'UNK']\n",
      "500\n",
      "['SER' 'SER' 'SER' ... 'UNK' 'UNK' 'UNK']\n",
      "501\n",
      "['SER' 'SER' 'SER' ... 'UNK' 'UNK' 'UNK']\n",
      "502\n",
      "['SER' 'SER' 'SER' ... 'UNK' 'UNK' 'UNK']\n"
     ]
    },
    {
     "name": "stderr",
     "output_type": "stream",
     "text": [
      "[15:43:50] WARNING: More than one matching pattern found - picking one\n",
      "\n"
     ]
    },
    {
     "name": "stdout",
     "output_type": "stream",
     "text": [
      "503\n",
      "['SER' 'SER' 'SER' ... 'UNK' 'UNK' 'UNK']\n"
     ]
    },
    {
     "name": "stderr",
     "output_type": "stream",
     "text": [
      "[15:43:52] WARNING: More than one matching pattern found - picking one\n",
      "\n"
     ]
    },
    {
     "name": "stdout",
     "output_type": "stream",
     "text": [
      "504\n",
      "['SER' 'SER' 'SER' ... 'UNK' 'UNK' 'UNK']\n"
     ]
    },
    {
     "name": "stderr",
     "output_type": "stream",
     "text": [
      "[15:43:54] WARNING: More than one matching pattern found - picking one\n",
      "\n"
     ]
    },
    {
     "name": "stdout",
     "output_type": "stream",
     "text": [
      "505\n",
      "['SER' 'SER' 'SER' ... 'UNK' 'UNK' 'UNK']\n"
     ]
    },
    {
     "name": "stderr",
     "output_type": "stream",
     "text": [
      "[15:43:55] WARNING: More than one matching pattern found - picking one\n",
      "\n"
     ]
    },
    {
     "name": "stdout",
     "output_type": "stream",
     "text": [
      "506\n",
      "['SER' 'SER' 'SER' ... 'UNK' 'UNK' 'UNK']\n"
     ]
    },
    {
     "name": "stderr",
     "output_type": "stream",
     "text": [
      "[15:43:57] WARNING: More than one matching pattern found - picking one\n",
      "\n"
     ]
    },
    {
     "name": "stdout",
     "output_type": "stream",
     "text": [
      "507\n",
      "['SER' 'SER' 'SER' ... 'UNK' 'UNK' 'UNK']\n"
     ]
    },
    {
     "name": "stderr",
     "output_type": "stream",
     "text": [
      "[15:43:59] WARNING: More than one matching pattern found - picking one\n",
      "\n"
     ]
    },
    {
     "name": "stdout",
     "output_type": "stream",
     "text": [
      "508\n",
      "['SER' 'SER' 'SER' ... 'UNK' 'UNK' 'UNK']\n",
      "509\n",
      "['SER' 'SER' 'SER' ... 'UNK' 'UNK' 'UNK']\n",
      "510\n",
      "['SER' 'SER' 'SER' ... 'UNK' 'UNK' 'UNK']\n"
     ]
    },
    {
     "name": "stderr",
     "output_type": "stream",
     "text": [
      "[15:44:03] WARNING: More than one matching pattern found - picking one\n",
      "\n"
     ]
    },
    {
     "name": "stdout",
     "output_type": "stream",
     "text": [
      "511\n",
      "['SER' 'SER' 'SER' ... 'UNK' 'UNK' 'UNK']\n",
      "512\n",
      "['SER' 'SER' 'SER' ... 'UNK' 'UNK' 'UNK']\n"
     ]
    },
    {
     "name": "stderr",
     "output_type": "stream",
     "text": [
      "[15:44:07] WARNING: More than one matching pattern found - picking one\n",
      "\n"
     ]
    },
    {
     "name": "stdout",
     "output_type": "stream",
     "text": [
      "513\n",
      "['SER' 'SER' 'SER' ... 'UNK' 'UNK' 'UNK']\n",
      "514\n",
      "['SER' 'SER' 'SER' ... 'UNK' 'UNK' 'UNK']\n"
     ]
    },
    {
     "name": "stderr",
     "output_type": "stream",
     "text": [
      "[15:44:10] WARNING: More than one matching pattern found - picking one\n",
      "\n"
     ]
    },
    {
     "name": "stdout",
     "output_type": "stream",
     "text": [
      "515\n",
      "['SER' 'SER' 'SER' ... 'UNK' 'UNK' 'UNK']\n"
     ]
    },
    {
     "name": "stderr",
     "output_type": "stream",
     "text": [
      "[15:44:11] WARNING: More than one matching pattern found - picking one\n",
      "\n"
     ]
    },
    {
     "name": "stdout",
     "output_type": "stream",
     "text": [
      "516\n",
      "['SER' 'SER' 'SER' ... 'UNK' 'UNK' 'UNK']\n",
      "517\n",
      "['SER' 'SER' 'SER' ... 'UNK' 'UNK' 'UNK']\n",
      "518\n",
      "['SER' 'SER' 'SER' ... 'UNK' 'UNK' 'UNK']\n"
     ]
    },
    {
     "name": "stderr",
     "output_type": "stream",
     "text": [
      "[15:44:16] WARNING: More than one matching pattern found - picking one\n",
      "\n"
     ]
    },
    {
     "name": "stdout",
     "output_type": "stream",
     "text": [
      "519\n",
      "['SER' 'SER' 'SER' ... 'UNK' 'UNK' 'UNK']\n",
      "520\n",
      "['SER' 'SER' 'SER' ... 'UNK' 'UNK' 'UNK']\n",
      "521\n",
      "['SER' 'SER' 'SER' ... 'UNK' 'UNK' 'UNK']\n",
      "522\n",
      "['SER' 'SER' 'SER' ... 'UNK' 'UNK' 'UNK']\n",
      "523\n",
      "['SER' 'SER' 'SER' ... 'UNK' 'UNK' 'UNK']\n"
     ]
    },
    {
     "name": "stderr",
     "output_type": "stream",
     "text": [
      "[15:44:25] WARNING: More than one matching pattern found - picking one\n",
      "\n"
     ]
    },
    {
     "name": "stdout",
     "output_type": "stream",
     "text": [
      "524\n",
      "['SER' 'SER' 'SER' ... 'UNK' 'UNK' 'UNK']\n"
     ]
    },
    {
     "name": "stderr",
     "output_type": "stream",
     "text": [
      "[15:44:26] WARNING: More than one matching pattern found - picking one\n",
      "\n"
     ]
    },
    {
     "name": "stdout",
     "output_type": "stream",
     "text": [
      "525\n",
      "['SER' 'SER' 'SER' ... 'UNK' 'UNK' 'UNK']\n"
     ]
    },
    {
     "name": "stderr",
     "output_type": "stream",
     "text": [
      "[15:44:28] WARNING: More than one matching pattern found - picking one\n",
      "\n"
     ]
    },
    {
     "name": "stdout",
     "output_type": "stream",
     "text": [
      "526\n",
      "['SER' 'SER' 'SER' ... 'UNK' 'UNK' 'UNK']\n",
      "527\n",
      "['SER' 'SER' 'SER' ... 'UNK' 'UNK' 'UNK']\n",
      "528\n",
      "['SER' 'SER' 'SER' ... 'UNK' 'UNK' 'UNK']\n"
     ]
    },
    {
     "name": "stderr",
     "output_type": "stream",
     "text": [
      "[15:44:33] WARNING: More than one matching pattern found - picking one\n",
      "\n"
     ]
    },
    {
     "name": "stdout",
     "output_type": "stream",
     "text": [
      "529\n",
      "['SER' 'SER' 'SER' ... 'UNK' 'UNK' 'UNK']\n"
     ]
    },
    {
     "name": "stderr",
     "output_type": "stream",
     "text": [
      "[15:44:34] WARNING: More than one matching pattern found - picking one\n",
      "\n"
     ]
    },
    {
     "name": "stdout",
     "output_type": "stream",
     "text": [
      "530\n",
      "['SER' 'SER' 'SER' ... 'UNK' 'UNK' 'UNK']\n",
      "531\n",
      "['SER' 'SER' 'SER' ... 'UNK' 'UNK' 'UNK']\n",
      "532\n",
      "['SER' 'SER' 'SER' ... 'UNK' 'UNK' 'UNK']\n"
     ]
    },
    {
     "name": "stderr",
     "output_type": "stream",
     "text": [
      "[15:44:39] WARNING: More than one matching pattern found - picking one\n",
      "\n"
     ]
    },
    {
     "name": "stdout",
     "output_type": "stream",
     "text": [
      "533\n",
      "['SER' 'SER' 'SER' ... 'UNK' 'UNK' 'UNK']\n"
     ]
    },
    {
     "name": "stderr",
     "output_type": "stream",
     "text": [
      "[15:44:41] WARNING: More than one matching pattern found - picking one\n",
      "\n"
     ]
    },
    {
     "name": "stdout",
     "output_type": "stream",
     "text": [
      "534\n",
      "['SER' 'SER' 'SER' ... 'UNK' 'UNK' 'UNK']\n",
      "535\n",
      "['SER' 'SER' 'SER' ... 'UNK' 'UNK' 'UNK']\n",
      "536\n",
      "['SER' 'SER' 'SER' ... 'UNK' 'UNK' 'UNK']\n"
     ]
    },
    {
     "name": "stderr",
     "output_type": "stream",
     "text": [
      "[15:44:46] WARNING: More than one matching pattern found - picking one\n",
      "\n"
     ]
    },
    {
     "name": "stdout",
     "output_type": "stream",
     "text": [
      "537\n",
      "['SER' 'SER' 'SER' ... 'UNK' 'UNK' 'UNK']\n"
     ]
    },
    {
     "name": "stderr",
     "output_type": "stream",
     "text": [
      "[15:44:47] WARNING: More than one matching pattern found - picking one\n",
      "\n"
     ]
    },
    {
     "name": "stdout",
     "output_type": "stream",
     "text": [
      "538\n",
      "['SER' 'SER' 'SER' ... 'UNK' 'UNK' 'UNK']\n"
     ]
    },
    {
     "name": "stderr",
     "output_type": "stream",
     "text": [
      "[15:44:49] WARNING: More than one matching pattern found - picking one\n",
      "\n"
     ]
    },
    {
     "name": "stdout",
     "output_type": "stream",
     "text": [
      "539\n",
      "['SER' 'SER' 'SER' ... 'UNK' 'UNK' 'UNK']\n"
     ]
    },
    {
     "name": "stderr",
     "output_type": "stream",
     "text": [
      "[15:44:50] WARNING: More than one matching pattern found - picking one\n",
      "\n"
     ]
    },
    {
     "name": "stdout",
     "output_type": "stream",
     "text": [
      "540\n",
      "['SER' 'SER' 'SER' ... 'UNK' 'UNK' 'UNK']\n"
     ]
    },
    {
     "name": "stderr",
     "output_type": "stream",
     "text": [
      "[15:44:52] WARNING: More than one matching pattern found - picking one\n",
      "\n"
     ]
    },
    {
     "name": "stdout",
     "output_type": "stream",
     "text": [
      "541\n",
      "['SER' 'SER' 'SER' ... 'UNK' 'UNK' 'UNK']\n",
      "542\n",
      "['SER' 'SER' 'SER' ... 'UNK' 'UNK' 'UNK']\n"
     ]
    },
    {
     "name": "stderr",
     "output_type": "stream",
     "text": [
      "[15:44:55] WARNING: More than one matching pattern found - picking one\n",
      "\n"
     ]
    },
    {
     "name": "stdout",
     "output_type": "stream",
     "text": [
      "543\n",
      "['SER' 'SER' 'SER' ... 'UNK' 'UNK' 'UNK']\n"
     ]
    },
    {
     "name": "stderr",
     "output_type": "stream",
     "text": [
      "[15:44:57] WARNING: More than one matching pattern found - picking one\n",
      "\n"
     ]
    },
    {
     "name": "stdout",
     "output_type": "stream",
     "text": [
      "544\n",
      "['SER' 'SER' 'SER' ... 'UNK' 'UNK' 'UNK']\n",
      "545\n",
      "['SER' 'SER' 'SER' ... 'UNK' 'UNK' 'UNK']\n"
     ]
    },
    {
     "name": "stderr",
     "output_type": "stream",
     "text": [
      "[15:45:00] WARNING: More than one matching pattern found - picking one\n",
      "\n"
     ]
    },
    {
     "name": "stdout",
     "output_type": "stream",
     "text": [
      "546\n",
      "['SER' 'SER' 'SER' ... 'UNK' 'UNK' 'UNK']\n",
      "547\n",
      "['SER' 'SER' 'SER' ... 'UNK' 'UNK' 'UNK']\n"
     ]
    },
    {
     "name": "stderr",
     "output_type": "stream",
     "text": [
      "[15:45:03] WARNING: More than one matching pattern found - picking one\n",
      "\n"
     ]
    },
    {
     "name": "stdout",
     "output_type": "stream",
     "text": [
      "548\n",
      "['SER' 'SER' 'SER' ... 'UNK' 'UNK' 'UNK']\n",
      "549\n",
      "['SER' 'SER' 'SER' ... 'UNK' 'UNK' 'UNK']\n",
      "550\n",
      "['SER' 'SER' 'SER' ... 'UNK' 'UNK' 'UNK']\n"
     ]
    },
    {
     "name": "stderr",
     "output_type": "stream",
     "text": [
      "[15:45:08] WARNING: More than one matching pattern found - picking one\n",
      "\n"
     ]
    },
    {
     "name": "stdout",
     "output_type": "stream",
     "text": [
      "551\n",
      "['SER' 'SER' 'SER' ... 'UNK' 'UNK' 'UNK']\n"
     ]
    },
    {
     "name": "stderr",
     "output_type": "stream",
     "text": [
      "[15:45:10] WARNING: More than one matching pattern found - picking one\n",
      "\n"
     ]
    },
    {
     "name": "stdout",
     "output_type": "stream",
     "text": [
      "552\n",
      "['SER' 'SER' 'SER' ... 'UNK' 'UNK' 'UNK']\n",
      "553\n",
      "['SER' 'SER' 'SER' ... 'UNK' 'UNK' 'UNK']\n",
      "554\n",
      "['SER' 'SER' 'SER' ... 'UNK' 'UNK' 'UNK']\n",
      "555\n",
      "['SER' 'SER' 'SER' ... 'UNK' 'UNK' 'UNK']\n",
      "556\n",
      "['SER' 'SER' 'SER' ... 'UNK' 'UNK' 'UNK']\n",
      "557\n",
      "['SER' 'SER' 'SER' ... 'UNK' 'UNK' 'UNK']\n"
     ]
    },
    {
     "name": "stderr",
     "output_type": "stream",
     "text": [
      "[15:45:20] WARNING: More than one matching pattern found - picking one\n",
      "\n"
     ]
    },
    {
     "name": "stdout",
     "output_type": "stream",
     "text": [
      "558\n",
      "['SER' 'SER' 'SER' ... 'UNK' 'UNK' 'UNK']\n"
     ]
    },
    {
     "name": "stderr",
     "output_type": "stream",
     "text": [
      "[15:45:22] WARNING: More than one matching pattern found - picking one\n",
      "\n"
     ]
    },
    {
     "name": "stdout",
     "output_type": "stream",
     "text": [
      "559\n",
      "['SER' 'SER' 'SER' ... 'UNK' 'UNK' 'UNK']\n"
     ]
    },
    {
     "name": "stderr",
     "output_type": "stream",
     "text": [
      "[15:45:24] WARNING: More than one matching pattern found - picking one\n",
      "\n"
     ]
    },
    {
     "name": "stdout",
     "output_type": "stream",
     "text": [
      "560\n",
      "['SER' 'SER' 'SER' ... 'UNK' 'UNK' 'UNK']\n",
      "561\n",
      "['SER' 'SER' 'SER' ... 'UNK' 'UNK' 'UNK']\n",
      "562\n",
      "['SER' 'SER' 'SER' ... 'UNK' 'UNK' 'UNK']\n"
     ]
    },
    {
     "name": "stderr",
     "output_type": "stream",
     "text": [
      "[15:45:28] WARNING: More than one matching pattern found - picking one\n",
      "\n"
     ]
    },
    {
     "name": "stdout",
     "output_type": "stream",
     "text": [
      "563\n",
      "['SER' 'SER' 'SER' ... 'UNK' 'UNK' 'UNK']\n",
      "564\n",
      "['SER' 'SER' 'SER' ... 'UNK' 'UNK' 'UNK']\n",
      "565\n",
      "['SER' 'SER' 'SER' ... 'UNK' 'UNK' 'UNK']\n",
      "566\n",
      "['SER' 'SER' 'SER' ... 'UNK' 'UNK' 'UNK']\n"
     ]
    },
    {
     "name": "stderr",
     "output_type": "stream",
     "text": [
      "[15:45:35] WARNING: More than one matching pattern found - picking one\n",
      "\n"
     ]
    },
    {
     "name": "stdout",
     "output_type": "stream",
     "text": [
      "567\n",
      "['SER' 'SER' 'SER' ... 'UNK' 'UNK' 'UNK']\n",
      "568\n",
      "['SER' 'SER' 'SER' ... 'UNK' 'UNK' 'UNK']\n",
      "569\n",
      "['SER' 'SER' 'SER' ... 'UNK' 'UNK' 'UNK']\n"
     ]
    },
    {
     "name": "stderr",
     "output_type": "stream",
     "text": [
      "[15:45:40] WARNING: More than one matching pattern found - picking one\n",
      "\n"
     ]
    },
    {
     "name": "stdout",
     "output_type": "stream",
     "text": [
      "570\n",
      "['SER' 'SER' 'SER' ... 'UNK' 'UNK' 'UNK']\n"
     ]
    },
    {
     "name": "stderr",
     "output_type": "stream",
     "text": [
      "[15:45:42] WARNING: More than one matching pattern found - picking one\n",
      "\n"
     ]
    },
    {
     "name": "stdout",
     "output_type": "stream",
     "text": [
      "571\n",
      "['SER' 'SER' 'SER' ... 'UNK' 'UNK' 'UNK']\n",
      "572\n",
      "['SER' 'SER' 'SER' ... 'UNK' 'UNK' 'UNK']\n"
     ]
    },
    {
     "name": "stderr",
     "output_type": "stream",
     "text": [
      "[15:45:45] WARNING: More than one matching pattern found - picking one\n",
      "\n"
     ]
    },
    {
     "name": "stdout",
     "output_type": "stream",
     "text": [
      "573\n",
      "['SER' 'SER' 'SER' ... 'UNK' 'UNK' 'UNK']\n"
     ]
    },
    {
     "name": "stderr",
     "output_type": "stream",
     "text": [
      "[15:45:47] WARNING: More than one matching pattern found - picking one\n",
      "\n"
     ]
    },
    {
     "name": "stdout",
     "output_type": "stream",
     "text": [
      "574\n",
      "['SER' 'SER' 'SER' ... 'UNK' 'UNK' 'UNK']\n"
     ]
    },
    {
     "name": "stderr",
     "output_type": "stream",
     "text": [
      "[15:45:49] WARNING: More than one matching pattern found - picking one\n",
      "\n"
     ]
    },
    {
     "name": "stdout",
     "output_type": "stream",
     "text": [
      "575\n",
      "['SER' 'SER' 'SER' ... 'UNK' 'UNK' 'UNK']\n",
      "576\n",
      "['SER' 'SER' 'SER' ... 'UNK' 'UNK' 'UNK']\n",
      "577\n",
      "['SER' 'SER' 'SER' ... 'UNK' 'UNK' 'UNK']\n"
     ]
    },
    {
     "name": "stderr",
     "output_type": "stream",
     "text": [
      "[15:45:54] WARNING: More than one matching pattern found - picking one\n",
      "\n"
     ]
    },
    {
     "name": "stdout",
     "output_type": "stream",
     "text": [
      "578\n",
      "['SER' 'SER' 'SER' ... 'UNK' 'UNK' 'UNK']\n"
     ]
    },
    {
     "name": "stderr",
     "output_type": "stream",
     "text": [
      "[15:45:55] WARNING: More than one matching pattern found - picking one\n",
      "\n"
     ]
    },
    {
     "name": "stdout",
     "output_type": "stream",
     "text": [
      "579\n",
      "['SER' 'SER' 'SER' ... 'UNK' 'UNK' 'UNK']\n",
      "580\n",
      "['SER' 'SER' 'SER' ... 'UNK' 'UNK' 'UNK']\n"
     ]
    },
    {
     "name": "stderr",
     "output_type": "stream",
     "text": [
      "[15:45:59] WARNING: More than one matching pattern found - picking one\n",
      "\n"
     ]
    },
    {
     "name": "stdout",
     "output_type": "stream",
     "text": [
      "581\n",
      "['SER' 'SER' 'SER' ... 'UNK' 'UNK' 'UNK']\n"
     ]
    },
    {
     "name": "stderr",
     "output_type": "stream",
     "text": [
      "[15:46:00] WARNING: More than one matching pattern found - picking one\n",
      "\n"
     ]
    },
    {
     "name": "stdout",
     "output_type": "stream",
     "text": [
      "582\n",
      "['SER' 'SER' 'SER' ... 'UNK' 'UNK' 'UNK']\n",
      "583\n",
      "['SER' 'SER' 'SER' ... 'UNK' 'UNK' 'UNK']\n"
     ]
    },
    {
     "name": "stderr",
     "output_type": "stream",
     "text": [
      "[15:46:04] WARNING: More than one matching pattern found - picking one\n",
      "\n"
     ]
    },
    {
     "name": "stdout",
     "output_type": "stream",
     "text": [
      "584\n",
      "['SER' 'SER' 'SER' ... 'UNK' 'UNK' 'UNK']\n",
      "585\n",
      "['SER' 'SER' 'SER' ... 'UNK' 'UNK' 'UNK']\n"
     ]
    },
    {
     "name": "stderr",
     "output_type": "stream",
     "text": [
      "[15:46:08] WARNING: More than one matching pattern found - picking one\n",
      "\n"
     ]
    },
    {
     "name": "stdout",
     "output_type": "stream",
     "text": [
      "586\n",
      "['SER' 'SER' 'SER' ... 'UNK' 'UNK' 'UNK']\n"
     ]
    },
    {
     "name": "stderr",
     "output_type": "stream",
     "text": [
      "[15:46:09] WARNING: More than one matching pattern found - picking one\n",
      "\n"
     ]
    },
    {
     "name": "stdout",
     "output_type": "stream",
     "text": [
      "587\n",
      "['SER' 'SER' 'SER' ... 'UNK' 'UNK' 'UNK']\n"
     ]
    },
    {
     "name": "stderr",
     "output_type": "stream",
     "text": [
      "[15:46:11] WARNING: More than one matching pattern found - picking one\n",
      "\n"
     ]
    },
    {
     "name": "stdout",
     "output_type": "stream",
     "text": [
      "588\n",
      "['SER' 'SER' 'SER' ... 'UNK' 'UNK' 'UNK']\n",
      "589\n",
      "['SER' 'SER' 'SER' ... 'UNK' 'UNK' 'UNK']\n",
      "590\n",
      "['SER' 'SER' 'SER' ... 'UNK' 'UNK' 'UNK']\n"
     ]
    },
    {
     "name": "stderr",
     "output_type": "stream",
     "text": [
      "[15:46:16] WARNING: More than one matching pattern found - picking one\n",
      "\n"
     ]
    },
    {
     "name": "stdout",
     "output_type": "stream",
     "text": [
      "591\n",
      "['SER' 'SER' 'SER' ... 'UNK' 'UNK' 'UNK']\n",
      "592\n",
      "['SER' 'SER' 'SER' ... 'UNK' 'UNK' 'UNK']\n"
     ]
    },
    {
     "name": "stderr",
     "output_type": "stream",
     "text": [
      "[15:46:19] WARNING: More than one matching pattern found - picking one\n",
      "\n"
     ]
    },
    {
     "name": "stdout",
     "output_type": "stream",
     "text": [
      "593\n",
      "['SER' 'SER' 'SER' ... 'UNK' 'UNK' 'UNK']\n"
     ]
    },
    {
     "name": "stderr",
     "output_type": "stream",
     "text": [
      "[15:46:21] WARNING: More than one matching pattern found - picking one\n",
      "\n"
     ]
    },
    {
     "name": "stdout",
     "output_type": "stream",
     "text": [
      "594\n",
      "['SER' 'SER' 'SER' ... 'UNK' 'UNK' 'UNK']\n",
      "595\n",
      "['SER' 'SER' 'SER' ... 'UNK' 'UNK' 'UNK']\n"
     ]
    },
    {
     "name": "stderr",
     "output_type": "stream",
     "text": [
      "[15:46:24] WARNING: More than one matching pattern found - picking one\n",
      "\n"
     ]
    },
    {
     "name": "stdout",
     "output_type": "stream",
     "text": [
      "596\n",
      "['SER' 'SER' 'SER' ... 'UNK' 'UNK' 'UNK']\n"
     ]
    },
    {
     "name": "stderr",
     "output_type": "stream",
     "text": [
      "[15:46:26] WARNING: More than one matching pattern found - picking one\n",
      "\n"
     ]
    },
    {
     "name": "stdout",
     "output_type": "stream",
     "text": [
      "597\n",
      "['SER' 'SER' 'SER' ... 'UNK' 'UNK' 'UNK']\n"
     ]
    },
    {
     "name": "stderr",
     "output_type": "stream",
     "text": [
      "[15:46:28] WARNING: More than one matching pattern found - picking one\n",
      "\n"
     ]
    },
    {
     "name": "stdout",
     "output_type": "stream",
     "text": [
      "598\n",
      "['SER' 'SER' 'SER' ... 'UNK' 'UNK' 'UNK']\n"
     ]
    },
    {
     "name": "stderr",
     "output_type": "stream",
     "text": [
      "[15:46:29] WARNING: More than one matching pattern found - picking one\n",
      "\n"
     ]
    },
    {
     "name": "stdout",
     "output_type": "stream",
     "text": [
      "599\n",
      "['SER' 'SER' 'SER' ... 'UNK' 'UNK' 'UNK']\n",
      "600\n",
      "['SER' 'SER' 'SER' ... 'UNK' 'UNK' 'UNK']\n"
     ]
    },
    {
     "name": "stderr",
     "output_type": "stream",
     "text": [
      "[15:46:33] WARNING: More than one matching pattern found - picking one\n",
      "\n"
     ]
    },
    {
     "name": "stdout",
     "output_type": "stream",
     "text": [
      "601\n",
      "['SER' 'SER' 'SER' ... 'UNK' 'UNK' 'UNK']\n",
      "602\n",
      "['SER' 'SER' 'SER' ... 'UNK' 'UNK' 'UNK']\n"
     ]
    },
    {
     "name": "stderr",
     "output_type": "stream",
     "text": [
      "[15:46:36] WARNING: More than one matching pattern found - picking one\n",
      "\n"
     ]
    },
    {
     "name": "stdout",
     "output_type": "stream",
     "text": [
      "603\n",
      "['SER' 'SER' 'SER' ... 'UNK' 'UNK' 'UNK']\n",
      "604\n",
      "['SER' 'SER' 'SER' ... 'UNK' 'UNK' 'UNK']\n"
     ]
    },
    {
     "name": "stderr",
     "output_type": "stream",
     "text": [
      "[15:46:40] WARNING: More than one matching pattern found - picking one\n",
      "\n"
     ]
    },
    {
     "name": "stdout",
     "output_type": "stream",
     "text": [
      "605\n",
      "['SER' 'SER' 'SER' ... 'UNK' 'UNK' 'UNK']\n",
      "606\n",
      "['SER' 'SER' 'SER' ... 'UNK' 'UNK' 'UNK']\n"
     ]
    },
    {
     "name": "stderr",
     "output_type": "stream",
     "text": [
      "[15:46:44] WARNING: More than one matching pattern found - picking one\n",
      "\n"
     ]
    },
    {
     "name": "stdout",
     "output_type": "stream",
     "text": [
      "607\n",
      "['SER' 'SER' 'SER' ... 'UNK' 'UNK' 'UNK']\n",
      "608\n",
      "['SER' 'SER' 'SER' ... 'UNK' 'UNK' 'UNK']\n",
      "609\n",
      "['SER' 'SER' 'SER' ... 'UNK' 'UNK' 'UNK']\n",
      "610\n",
      "['SER' 'SER' 'SER' ... 'UNK' 'UNK' 'UNK']\n",
      "611\n",
      "['SER' 'SER' 'SER' ... 'UNK' 'UNK' 'UNK']\n"
     ]
    },
    {
     "name": "stderr",
     "output_type": "stream",
     "text": [
      "[15:46:52] WARNING: More than one matching pattern found - picking one\n",
      "\n"
     ]
    },
    {
     "name": "stdout",
     "output_type": "stream",
     "text": [
      "612\n",
      "['SER' 'SER' 'SER' ... 'UNK' 'UNK' 'UNK']\n"
     ]
    },
    {
     "name": "stderr",
     "output_type": "stream",
     "text": [
      "[15:46:53] WARNING: More than one matching pattern found - picking one\n",
      "\n"
     ]
    },
    {
     "name": "stdout",
     "output_type": "stream",
     "text": [
      "613\n",
      "['SER' 'SER' 'SER' ... 'UNK' 'UNK' 'UNK']\n"
     ]
    },
    {
     "name": "stderr",
     "output_type": "stream",
     "text": [
      "[15:46:55] WARNING: More than one matching pattern found - picking one\n",
      "\n"
     ]
    },
    {
     "name": "stdout",
     "output_type": "stream",
     "text": [
      "614\n",
      "['SER' 'SER' 'SER' ... 'UNK' 'UNK' 'UNK']\n"
     ]
    },
    {
     "name": "stderr",
     "output_type": "stream",
     "text": [
      "[15:46:57] WARNING: More than one matching pattern found - picking one\n",
      "\n"
     ]
    },
    {
     "name": "stdout",
     "output_type": "stream",
     "text": [
      "615\n",
      "['SER' 'SER' 'SER' ... 'UNK' 'UNK' 'UNK']\n",
      "616\n",
      "['SER' 'SER' 'SER' ... 'UNK' 'UNK' 'UNK']\n"
     ]
    },
    {
     "name": "stderr",
     "output_type": "stream",
     "text": [
      "[15:47:00] WARNING: More than one matching pattern found - picking one\n",
      "\n"
     ]
    },
    {
     "name": "stdout",
     "output_type": "stream",
     "text": [
      "617\n",
      "['SER' 'SER' 'SER' ... 'UNK' 'UNK' 'UNK']\n",
      "618\n",
      "['SER' 'SER' 'SER' ... 'UNK' 'UNK' 'UNK']\n",
      "619\n",
      "['SER' 'SER' 'SER' ... 'UNK' 'UNK' 'UNK']\n"
     ]
    },
    {
     "name": "stderr",
     "output_type": "stream",
     "text": [
      "[15:47:05] WARNING: More than one matching pattern found - picking one\n",
      "\n"
     ]
    },
    {
     "name": "stdout",
     "output_type": "stream",
     "text": [
      "620\n",
      "['SER' 'SER' 'SER' ... 'UNK' 'UNK' 'UNK']\n",
      "621\n",
      "['SER' 'SER' 'SER' ... 'UNK' 'UNK' 'UNK']\n"
     ]
    },
    {
     "name": "stderr",
     "output_type": "stream",
     "text": [
      "[15:47:08] WARNING: More than one matching pattern found - picking one\n",
      "\n"
     ]
    },
    {
     "name": "stdout",
     "output_type": "stream",
     "text": [
      "622\n",
      "['SER' 'SER' 'SER' ... 'UNK' 'UNK' 'UNK']\n"
     ]
    },
    {
     "name": "stderr",
     "output_type": "stream",
     "text": [
      "[15:47:10] WARNING: More than one matching pattern found - picking one\n",
      "\n"
     ]
    },
    {
     "name": "stdout",
     "output_type": "stream",
     "text": [
      "623\n",
      "['SER' 'SER' 'SER' ... 'UNK' 'UNK' 'UNK']\n",
      "624\n",
      "['SER' 'SER' 'SER' ... 'UNK' 'UNK' 'UNK']\n"
     ]
    },
    {
     "name": "stderr",
     "output_type": "stream",
     "text": [
      "[15:47:13] WARNING: More than one matching pattern found - picking one\n",
      "\n"
     ]
    },
    {
     "name": "stdout",
     "output_type": "stream",
     "text": [
      "625\n",
      "['SER' 'SER' 'SER' ... 'UNK' 'UNK' 'UNK']\n"
     ]
    },
    {
     "name": "stderr",
     "output_type": "stream",
     "text": [
      "[15:47:15] WARNING: More than one matching pattern found - picking one\n",
      "\n"
     ]
    },
    {
     "name": "stdout",
     "output_type": "stream",
     "text": [
      "626\n",
      "['SER' 'SER' 'SER' ... 'UNK' 'UNK' 'UNK']\n"
     ]
    },
    {
     "name": "stderr",
     "output_type": "stream",
     "text": [
      "[15:47:17] WARNING: More than one matching pattern found - picking one\n",
      "\n"
     ]
    },
    {
     "name": "stdout",
     "output_type": "stream",
     "text": [
      "627\n",
      "['SER' 'SER' 'SER' ... 'UNK' 'UNK' 'UNK']\n"
     ]
    },
    {
     "name": "stderr",
     "output_type": "stream",
     "text": [
      "[15:47:19] WARNING: More than one matching pattern found - picking one\n",
      "\n"
     ]
    },
    {
     "name": "stdout",
     "output_type": "stream",
     "text": [
      "628\n",
      "['SER' 'SER' 'SER' ... 'UNK' 'UNK' 'UNK']\n",
      "629\n",
      "['SER' 'SER' 'SER' ... 'UNK' 'UNK' 'UNK']\n"
     ]
    },
    {
     "name": "stderr",
     "output_type": "stream",
     "text": [
      "[15:47:22] WARNING: More than one matching pattern found - picking one\n",
      "\n"
     ]
    },
    {
     "name": "stdout",
     "output_type": "stream",
     "text": [
      "630\n",
      "['SER' 'SER' 'SER' ... 'UNK' 'UNK' 'UNK']\n"
     ]
    },
    {
     "name": "stderr",
     "output_type": "stream",
     "text": [
      "[15:47:24] WARNING: More than one matching pattern found - picking one\n",
      "\n"
     ]
    },
    {
     "name": "stdout",
     "output_type": "stream",
     "text": [
      "631\n",
      "['SER' 'SER' 'SER' ... 'UNK' 'UNK' 'UNK']\n",
      "632\n",
      "['SER' 'SER' 'SER' ... 'UNK' 'UNK' 'UNK']\n",
      "633\n",
      "['SER' 'SER' 'SER' ... 'UNK' 'UNK' 'UNK']\n",
      "634\n",
      "['SER' 'SER' 'SER' ... 'UNK' 'UNK' 'UNK']\n",
      "635\n",
      "['SER' 'SER' 'SER' ... 'UNK' 'UNK' 'UNK']\n",
      "636\n",
      "['SER' 'SER' 'SER' ... 'UNK' 'UNK' 'UNK']\n",
      "637\n",
      "['SER' 'SER' 'SER' ... 'UNK' 'UNK' 'UNK']\n",
      "638\n",
      "['SER' 'SER' 'SER' ... 'UNK' 'UNK' 'UNK']\n"
     ]
    },
    {
     "name": "stderr",
     "output_type": "stream",
     "text": [
      "[15:47:38] WARNING: More than one matching pattern found - picking one\n",
      "\n"
     ]
    },
    {
     "name": "stdout",
     "output_type": "stream",
     "text": [
      "639\n",
      "['SER' 'SER' 'SER' ... 'UNK' 'UNK' 'UNK']\n"
     ]
    },
    {
     "name": "stderr",
     "output_type": "stream",
     "text": [
      "[15:47:39] WARNING: More than one matching pattern found - picking one\n",
      "\n"
     ]
    },
    {
     "name": "stdout",
     "output_type": "stream",
     "text": [
      "640\n",
      "['SER' 'SER' 'SER' ... 'UNK' 'UNK' 'UNK']\n"
     ]
    },
    {
     "name": "stderr",
     "output_type": "stream",
     "text": [
      "[15:47:41] WARNING: More than one matching pattern found - picking one\n",
      "\n"
     ]
    },
    {
     "name": "stdout",
     "output_type": "stream",
     "text": [
      "641\n",
      "['SER' 'SER' 'SER' ... 'UNK' 'UNK' 'UNK']\n"
     ]
    },
    {
     "name": "stderr",
     "output_type": "stream",
     "text": [
      "[15:47:43] WARNING: More than one matching pattern found - picking one\n",
      "\n"
     ]
    },
    {
     "name": "stdout",
     "output_type": "stream",
     "text": [
      "642\n",
      "['SER' 'SER' 'SER' ... 'UNK' 'UNK' 'UNK']\n",
      "643\n",
      "['SER' 'SER' 'SER' ... 'UNK' 'UNK' 'UNK']\n"
     ]
    },
    {
     "name": "stderr",
     "output_type": "stream",
     "text": [
      "[15:47:46] WARNING: More than one matching pattern found - picking one\n",
      "\n"
     ]
    },
    {
     "name": "stdout",
     "output_type": "stream",
     "text": [
      "644\n",
      "['SER' 'SER' 'SER' ... 'UNK' 'UNK' 'UNK']\n",
      "645\n",
      "['SER' 'SER' 'SER' ... 'UNK' 'UNK' 'UNK']\n"
     ]
    },
    {
     "name": "stderr",
     "output_type": "stream",
     "text": [
      "[15:47:49] WARNING: More than one matching pattern found - picking one\n",
      "\n"
     ]
    },
    {
     "name": "stdout",
     "output_type": "stream",
     "text": [
      "646\n",
      "['SER' 'SER' 'SER' ... 'UNK' 'UNK' 'UNK']\n"
     ]
    },
    {
     "name": "stderr",
     "output_type": "stream",
     "text": [
      "[15:47:51] WARNING: More than one matching pattern found - picking one\n",
      "\n"
     ]
    },
    {
     "name": "stdout",
     "output_type": "stream",
     "text": [
      "647\n",
      "['SER' 'SER' 'SER' ... 'UNK' 'UNK' 'UNK']\n",
      "648\n",
      "['SER' 'SER' 'SER' ... 'UNK' 'UNK' 'UNK']\n"
     ]
    },
    {
     "name": "stderr",
     "output_type": "stream",
     "text": [
      "[15:47:54] WARNING: More than one matching pattern found - picking one\n",
      "\n"
     ]
    },
    {
     "name": "stdout",
     "output_type": "stream",
     "text": [
      "649\n",
      "['SER' 'SER' 'SER' ... 'UNK' 'UNK' 'UNK']\n",
      "650\n",
      "['SER' 'SER' 'SER' ... 'UNK' 'UNK' 'UNK']\n"
     ]
    },
    {
     "name": "stderr",
     "output_type": "stream",
     "text": [
      "[15:47:58] WARNING: More than one matching pattern found - picking one\n",
      "\n"
     ]
    },
    {
     "name": "stdout",
     "output_type": "stream",
     "text": [
      "651\n",
      "['SER' 'SER' 'SER' ... 'UNK' 'UNK' 'UNK']\n"
     ]
    },
    {
     "name": "stderr",
     "output_type": "stream",
     "text": [
      "[15:47:59] WARNING: More than one matching pattern found - picking one\n",
      "\n"
     ]
    },
    {
     "name": "stdout",
     "output_type": "stream",
     "text": [
      "652\n",
      "['SER' 'SER' 'SER' ... 'UNK' 'UNK' 'UNK']\n"
     ]
    },
    {
     "name": "stderr",
     "output_type": "stream",
     "text": [
      "[15:48:01] WARNING: More than one matching pattern found - picking one\n",
      "\n"
     ]
    },
    {
     "name": "stdout",
     "output_type": "stream",
     "text": [
      "653\n",
      "['SER' 'SER' 'SER' ... 'UNK' 'UNK' 'UNK']\n"
     ]
    },
    {
     "name": "stderr",
     "output_type": "stream",
     "text": [
      "[15:48:03] WARNING: More than one matching pattern found - picking one\n",
      "\n"
     ]
    },
    {
     "name": "stdout",
     "output_type": "stream",
     "text": [
      "654\n",
      "['SER' 'SER' 'SER' ... 'UNK' 'UNK' 'UNK']\n",
      "655\n",
      "['SER' 'SER' 'SER' ... 'UNK' 'UNK' 'UNK']\n"
     ]
    },
    {
     "name": "stderr",
     "output_type": "stream",
     "text": [
      "[15:48:06] WARNING: More than one matching pattern found - picking one\n",
      "\n"
     ]
    },
    {
     "name": "stdout",
     "output_type": "stream",
     "text": [
      "656\n",
      "['SER' 'SER' 'SER' ... 'UNK' 'UNK' 'UNK']\n",
      "657\n",
      "['SER' 'SER' 'SER' ... 'UNK' 'UNK' 'UNK']\n"
     ]
    },
    {
     "name": "stderr",
     "output_type": "stream",
     "text": [
      "[15:48:09] WARNING: More than one matching pattern found - picking one\n",
      "\n"
     ]
    },
    {
     "name": "stdout",
     "output_type": "stream",
     "text": [
      "658\n",
      "['SER' 'SER' 'SER' ... 'UNK' 'UNK' 'UNK']\n",
      "659\n",
      "['SER' 'SER' 'SER' ... 'UNK' 'UNK' 'UNK']\n",
      "660\n",
      "['SER' 'SER' 'SER' ... 'UNK' 'UNK' 'UNK']\n"
     ]
    },
    {
     "name": "stderr",
     "output_type": "stream",
     "text": [
      "[15:48:14] WARNING: More than one matching pattern found - picking one\n",
      "\n"
     ]
    },
    {
     "name": "stdout",
     "output_type": "stream",
     "text": [
      "661\n",
      "['SER' 'SER' 'SER' ... 'UNK' 'UNK' 'UNK']\n",
      "662\n",
      "['SER' 'SER' 'SER' ... 'UNK' 'UNK' 'UNK']\n",
      "663\n",
      "['SER' 'SER' 'SER' ... 'UNK' 'UNK' 'UNK']\n"
     ]
    },
    {
     "name": "stderr",
     "output_type": "stream",
     "text": [
      "[15:48:19] WARNING: More than one matching pattern found - picking one\n",
      "\n"
     ]
    },
    {
     "name": "stdout",
     "output_type": "stream",
     "text": [
      "664\n",
      "['SER' 'SER' 'SER' ... 'UNK' 'UNK' 'UNK']\n",
      "665\n",
      "['SER' 'SER' 'SER' ... 'UNK' 'UNK' 'UNK']\n",
      "666\n",
      "['SER' 'SER' 'SER' ... 'UNK' 'UNK' 'UNK']\n",
      "667\n",
      "['SER' 'SER' 'SER' ... 'UNK' 'UNK' 'UNK']\n",
      "668\n",
      "['SER' 'SER' 'SER' ... 'UNK' 'UNK' 'UNK']\n",
      "669\n",
      "['SER' 'SER' 'SER' ... 'UNK' 'UNK' 'UNK']\n"
     ]
    },
    {
     "name": "stderr",
     "output_type": "stream",
     "text": [
      "[15:48:28] WARNING: More than one matching pattern found - picking one\n",
      "\n"
     ]
    },
    {
     "name": "stdout",
     "output_type": "stream",
     "text": [
      "670\n",
      "['SER' 'SER' 'SER' ... 'UNK' 'UNK' 'UNK']\n",
      "671\n",
      "['SER' 'SER' 'SER' ... 'UNK' 'UNK' 'UNK']\n",
      "672\n",
      "['SER' 'SER' 'SER' ... 'UNK' 'UNK' 'UNK']\n"
     ]
    },
    {
     "name": "stderr",
     "output_type": "stream",
     "text": [
      "[15:48:33] WARNING: More than one matching pattern found - picking one\n",
      "\n"
     ]
    },
    {
     "name": "stdout",
     "output_type": "stream",
     "text": [
      "673\n",
      "['SER' 'SER' 'SER' ... 'UNK' 'UNK' 'UNK']\n",
      "674\n",
      "['SER' 'SER' 'SER' ... 'UNK' 'UNK' 'UNK']\n",
      "675\n",
      "['SER' 'SER' 'SER' ... 'UNK' 'UNK' 'UNK']\n"
     ]
    },
    {
     "name": "stderr",
     "output_type": "stream",
     "text": [
      "[15:48:38] WARNING: More than one matching pattern found - picking one\n",
      "\n"
     ]
    },
    {
     "name": "stdout",
     "output_type": "stream",
     "text": [
      "676\n",
      "['SER' 'SER' 'SER' ... 'UNK' 'UNK' 'UNK']\n"
     ]
    },
    {
     "name": "stderr",
     "output_type": "stream",
     "text": [
      "[15:48:40] WARNING: More than one matching pattern found - picking one\n",
      "\n"
     ]
    },
    {
     "name": "stdout",
     "output_type": "stream",
     "text": [
      "677\n",
      "['SER' 'SER' 'SER' ... 'UNK' 'UNK' 'UNK']\n"
     ]
    },
    {
     "name": "stderr",
     "output_type": "stream",
     "text": [
      "[15:48:42] WARNING: More than one matching pattern found - picking one\n",
      "\n"
     ]
    },
    {
     "name": "stdout",
     "output_type": "stream",
     "text": [
      "678\n",
      "['SER' 'SER' 'SER' ... 'UNK' 'UNK' 'UNK']\n"
     ]
    },
    {
     "name": "stderr",
     "output_type": "stream",
     "text": [
      "[15:48:43] WARNING: More than one matching pattern found - picking one\n",
      "\n"
     ]
    },
    {
     "name": "stdout",
     "output_type": "stream",
     "text": [
      "679\n",
      "['SER' 'SER' 'SER' ... 'UNK' 'UNK' 'UNK']\n"
     ]
    },
    {
     "name": "stderr",
     "output_type": "stream",
     "text": [
      "[15:48:45] WARNING: More than one matching pattern found - picking one\n",
      "\n"
     ]
    },
    {
     "name": "stdout",
     "output_type": "stream",
     "text": [
      "680\n",
      "['SER' 'SER' 'SER' ... 'UNK' 'UNK' 'UNK']\n",
      "681\n",
      "['SER' 'SER' 'SER' ... 'UNK' 'UNK' 'UNK']\n"
     ]
    },
    {
     "name": "stderr",
     "output_type": "stream",
     "text": [
      "[15:48:48] WARNING: More than one matching pattern found - picking one\n",
      "\n"
     ]
    },
    {
     "name": "stdout",
     "output_type": "stream",
     "text": [
      "682\n",
      "['SER' 'SER' 'SER' ... 'UNK' 'UNK' 'UNK']\n",
      "683\n",
      "['SER' 'SER' 'SER' ... 'UNK' 'UNK' 'UNK']\n"
     ]
    },
    {
     "name": "stderr",
     "output_type": "stream",
     "text": [
      "[15:48:51] WARNING: More than one matching pattern found - picking one\n",
      "\n"
     ]
    },
    {
     "name": "stdout",
     "output_type": "stream",
     "text": [
      "684\n",
      "['SER' 'SER' 'SER' ... 'UNK' 'UNK' 'UNK']\n"
     ]
    },
    {
     "name": "stderr",
     "output_type": "stream",
     "text": [
      "[15:48:53] WARNING: More than one matching pattern found - picking one\n",
      "\n"
     ]
    },
    {
     "name": "stdout",
     "output_type": "stream",
     "text": [
      "685\n",
      "['SER' 'SER' 'SER' ... 'UNK' 'UNK' 'UNK']\n"
     ]
    },
    {
     "name": "stderr",
     "output_type": "stream",
     "text": [
      "[15:48:55] WARNING: More than one matching pattern found - picking one\n",
      "\n"
     ]
    },
    {
     "name": "stdout",
     "output_type": "stream",
     "text": [
      "686\n",
      "['SER' 'SER' 'SER' ... 'UNK' 'UNK' 'UNK']\n"
     ]
    },
    {
     "name": "stderr",
     "output_type": "stream",
     "text": [
      "[15:48:56] WARNING: More than one matching pattern found - picking one\n",
      "\n"
     ]
    },
    {
     "name": "stdout",
     "output_type": "stream",
     "text": [
      "687\n",
      "['SER' 'SER' 'SER' ... 'UNK' 'UNK' 'UNK']\n",
      "688\n",
      "['SER' 'SER' 'SER' ... 'UNK' 'UNK' 'UNK']\n"
     ]
    },
    {
     "name": "stderr",
     "output_type": "stream",
     "text": [
      "[15:48:59] WARNING: More than one matching pattern found - picking one\n",
      "\n"
     ]
    },
    {
     "name": "stdout",
     "output_type": "stream",
     "text": [
      "689\n",
      "['SER' 'SER' 'SER' ... 'UNK' 'UNK' 'UNK']\n",
      "690\n",
      "['SER' 'SER' 'SER' ... 'UNK' 'UNK' 'UNK']\n"
     ]
    },
    {
     "name": "stderr",
     "output_type": "stream",
     "text": [
      "[15:49:03] WARNING: More than one matching pattern found - picking one\n",
      "\n"
     ]
    },
    {
     "name": "stdout",
     "output_type": "stream",
     "text": [
      "691\n",
      "['SER' 'SER' 'SER' ... 'UNK' 'UNK' 'UNK']\n",
      "692\n",
      "['SER' 'SER' 'SER' ... 'UNK' 'UNK' 'UNK']\n"
     ]
    },
    {
     "name": "stderr",
     "output_type": "stream",
     "text": [
      "[15:49:06] WARNING: More than one matching pattern found - picking one\n",
      "\n"
     ]
    },
    {
     "name": "stdout",
     "output_type": "stream",
     "text": [
      "693\n",
      "['SER' 'SER' 'SER' ... 'UNK' 'UNK' 'UNK']\n"
     ]
    },
    {
     "name": "stderr",
     "output_type": "stream",
     "text": [
      "[15:49:08] WARNING: More than one matching pattern found - picking one\n",
      "\n"
     ]
    },
    {
     "name": "stdout",
     "output_type": "stream",
     "text": [
      "694\n",
      "['SER' 'SER' 'SER' ... 'UNK' 'UNK' 'UNK']\n"
     ]
    },
    {
     "name": "stderr",
     "output_type": "stream",
     "text": [
      "[15:49:09] WARNING: More than one matching pattern found - picking one\n",
      "\n"
     ]
    },
    {
     "name": "stdout",
     "output_type": "stream",
     "text": [
      "695\n",
      "['SER' 'SER' 'SER' ... 'UNK' 'UNK' 'UNK']\n",
      "696\n",
      "['SER' 'SER' 'SER' ... 'UNK' 'UNK' 'UNK']\n"
     ]
    },
    {
     "name": "stderr",
     "output_type": "stream",
     "text": [
      "[15:49:12] WARNING: More than one matching pattern found - picking one\n",
      "\n"
     ]
    },
    {
     "name": "stdout",
     "output_type": "stream",
     "text": [
      "697\n",
      "['SER' 'SER' 'SER' ... 'UNK' 'UNK' 'UNK']\n",
      "698\n",
      "['SER' 'SER' 'SER' ... 'UNK' 'UNK' 'UNK']\n",
      "699\n",
      "['SER' 'SER' 'SER' ... 'UNK' 'UNK' 'UNK']\n",
      "700\n",
      "['SER' 'SER' 'SER' ... 'UNK' 'UNK' 'UNK']\n"
     ]
    },
    {
     "name": "stderr",
     "output_type": "stream",
     "text": [
      "[15:49:19] WARNING: More than one matching pattern found - picking one\n",
      "\n"
     ]
    },
    {
     "name": "stdout",
     "output_type": "stream",
     "text": [
      "701\n",
      "['SER' 'SER' 'SER' ... 'UNK' 'UNK' 'UNK']\n",
      "702\n",
      "['SER' 'SER' 'SER' ... 'UNK' 'UNK' 'UNK']\n",
      "703\n",
      "['SER' 'SER' 'SER' ... 'UNK' 'UNK' 'UNK']\n"
     ]
    },
    {
     "name": "stderr",
     "output_type": "stream",
     "text": [
      "[15:49:24] WARNING: More than one matching pattern found - picking one\n",
      "\n"
     ]
    },
    {
     "name": "stdout",
     "output_type": "stream",
     "text": [
      "704\n",
      "['SER' 'SER' 'SER' ... 'UNK' 'UNK' 'UNK']\n",
      "705\n",
      "['SER' 'SER' 'SER' ... 'UNK' 'UNK' 'UNK']\n",
      "706\n",
      "['SER' 'SER' 'SER' ... 'UNK' 'UNK' 'UNK']\n",
      "707\n",
      "['SER' 'SER' 'SER' ... 'UNK' 'UNK' 'UNK']\n",
      "708\n",
      "['SER' 'SER' 'SER' ... 'UNK' 'UNK' 'UNK']\n",
      "709\n",
      "['SER' 'SER' 'SER' ... 'UNK' 'UNK' 'UNK']\n",
      "710\n",
      "['SER' 'SER' 'SER' ... 'UNK' 'UNK' 'UNK']\n",
      "711\n",
      "['SER' 'SER' 'SER' ... 'UNK' 'UNK' 'UNK']\n",
      "712\n",
      "['SER' 'SER' 'SER' ... 'UNK' 'UNK' 'UNK']\n",
      "713\n",
      "['SER' 'SER' 'SER' ... 'UNK' 'UNK' 'UNK']\n",
      "714\n",
      "['SER' 'SER' 'SER' ... 'UNK' 'UNK' 'UNK']\n"
     ]
    },
    {
     "name": "stderr",
     "output_type": "stream",
     "text": [
      "[15:49:42] WARNING: More than one matching pattern found - picking one\n",
      "\n"
     ]
    },
    {
     "name": "stdout",
     "output_type": "stream",
     "text": [
      "715\n",
      "['SER' 'SER' 'SER' ... 'UNK' 'UNK' 'UNK']\n"
     ]
    },
    {
     "name": "stderr",
     "output_type": "stream",
     "text": [
      "[15:49:43] WARNING: More than one matching pattern found - picking one\n",
      "\n"
     ]
    },
    {
     "name": "stdout",
     "output_type": "stream",
     "text": [
      "716\n",
      "['SER' 'SER' 'SER' ... 'UNK' 'UNK' 'UNK']\n",
      "717\n",
      "['SER' 'SER' 'SER' ... 'UNK' 'UNK' 'UNK']\n",
      "718\n",
      "['SER' 'SER' 'SER' ... 'UNK' 'UNK' 'UNK']\n",
      "719\n",
      "['SER' 'SER' 'SER' ... 'UNK' 'UNK' 'UNK']\n"
     ]
    },
    {
     "name": "stderr",
     "output_type": "stream",
     "text": [
      "[15:49:50] WARNING: More than one matching pattern found - picking one\n",
      "\n"
     ]
    },
    {
     "name": "stdout",
     "output_type": "stream",
     "text": [
      "720\n",
      "['SER' 'SER' 'SER' ... 'UNK' 'UNK' 'UNK']\n"
     ]
    },
    {
     "name": "stderr",
     "output_type": "stream",
     "text": [
      "[15:49:51] WARNING: More than one matching pattern found - picking one\n",
      "\n"
     ]
    },
    {
     "name": "stdout",
     "output_type": "stream",
     "text": [
      "721\n",
      "['SER' 'SER' 'SER' ... 'UNK' 'UNK' 'UNK']\n",
      "722\n",
      "['SER' 'SER' 'SER' ... 'UNK' 'UNK' 'UNK']\n"
     ]
    },
    {
     "name": "stderr",
     "output_type": "stream",
     "text": [
      "[15:49:55] WARNING: More than one matching pattern found - picking one\n",
      "\n"
     ]
    },
    {
     "name": "stdout",
     "output_type": "stream",
     "text": [
      "723\n",
      "['SER' 'SER' 'SER' ... 'UNK' 'UNK' 'UNK']\n",
      "724\n",
      "['SER' 'SER' 'SER' ... 'UNK' 'UNK' 'UNK']\n",
      "725\n",
      "['SER' 'SER' 'SER' ... 'UNK' 'UNK' 'UNK']\n"
     ]
    },
    {
     "name": "stderr",
     "output_type": "stream",
     "text": [
      "[15:50:00] WARNING: More than one matching pattern found - picking one\n",
      "\n"
     ]
    },
    {
     "name": "stdout",
     "output_type": "stream",
     "text": [
      "726\n",
      "['SER' 'SER' 'SER' ... 'UNK' 'UNK' 'UNK']\n",
      "727\n",
      "['SER' 'SER' 'SER' ... 'UNK' 'UNK' 'UNK']\n",
      "728\n",
      "['SER' 'SER' 'SER' ... 'UNK' 'UNK' 'UNK']\n"
     ]
    },
    {
     "name": "stderr",
     "output_type": "stream",
     "text": [
      "[15:50:04] WARNING: More than one matching pattern found - picking one\n",
      "\n"
     ]
    },
    {
     "name": "stdout",
     "output_type": "stream",
     "text": [
      "729\n",
      "['SER' 'SER' 'SER' ... 'UNK' 'UNK' 'UNK']\n",
      "730\n",
      "['SER' 'SER' 'SER' ... 'UNK' 'UNK' 'UNK']\n",
      "731\n",
      "['SER' 'SER' 'SER' ... 'UNK' 'UNK' 'UNK']\n",
      "732\n",
      "['SER' 'SER' 'SER' ... 'UNK' 'UNK' 'UNK']\n",
      "733\n",
      "['SER' 'SER' 'SER' ... 'UNK' 'UNK' 'UNK']\n"
     ]
    },
    {
     "name": "stderr",
     "output_type": "stream",
     "text": [
      "[15:50:12] WARNING: More than one matching pattern found - picking one\n",
      "\n"
     ]
    },
    {
     "name": "stdout",
     "output_type": "stream",
     "text": [
      "734\n",
      "['SER' 'SER' 'SER' ... 'UNK' 'UNK' 'UNK']\n"
     ]
    },
    {
     "name": "stderr",
     "output_type": "stream",
     "text": [
      "[15:50:14] WARNING: More than one matching pattern found - picking one\n",
      "\n"
     ]
    },
    {
     "name": "stdout",
     "output_type": "stream",
     "text": [
      "735\n",
      "['SER' 'SER' 'SER' ... 'UNK' 'UNK' 'UNK']\n"
     ]
    },
    {
     "name": "stderr",
     "output_type": "stream",
     "text": [
      "[15:50:16] WARNING: More than one matching pattern found - picking one\n",
      "\n"
     ]
    },
    {
     "name": "stdout",
     "output_type": "stream",
     "text": [
      "736\n",
      "['SER' 'SER' 'SER' ... 'UNK' 'UNK' 'UNK']\n"
     ]
    },
    {
     "name": "stderr",
     "output_type": "stream",
     "text": [
      "[15:50:17] WARNING: More than one matching pattern found - picking one\n",
      "\n"
     ]
    },
    {
     "name": "stdout",
     "output_type": "stream",
     "text": [
      "737\n",
      "['SER' 'SER' 'SER' ... 'UNK' 'UNK' 'UNK']\n",
      "738\n",
      "['SER' 'SER' 'SER' ... 'UNK' 'UNK' 'UNK']\n",
      "739\n",
      "['SER' 'SER' 'SER' ... 'UNK' 'UNK' 'UNK']\n"
     ]
    },
    {
     "name": "stderr",
     "output_type": "stream",
     "text": [
      "[15:50:22] WARNING: More than one matching pattern found - picking one\n",
      "\n"
     ]
    },
    {
     "name": "stdout",
     "output_type": "stream",
     "text": [
      "740\n",
      "['SER' 'SER' 'SER' ... 'UNK' 'UNK' 'UNK']\n",
      "741\n",
      "['SER' 'SER' 'SER' ... 'UNK' 'UNK' 'UNK']\n",
      "742\n",
      "['SER' 'SER' 'SER' ... 'UNK' 'UNK' 'UNK']\n",
      "743\n",
      "['SER' 'SER' 'SER' ... 'UNK' 'UNK' 'UNK']\n"
     ]
    },
    {
     "name": "stderr",
     "output_type": "stream",
     "text": [
      "[15:50:28] WARNING: More than one matching pattern found - picking one\n",
      "\n"
     ]
    },
    {
     "name": "stdout",
     "output_type": "stream",
     "text": [
      "744\n",
      "['SER' 'SER' 'SER' ... 'UNK' 'UNK' 'UNK']\n",
      "745\n",
      "['SER' 'SER' 'SER' ... 'UNK' 'UNK' 'UNK']\n",
      "746\n",
      "['SER' 'SER' 'SER' ... 'UNK' 'UNK' 'UNK']\n"
     ]
    },
    {
     "name": "stderr",
     "output_type": "stream",
     "text": [
      "[15:50:33] WARNING: More than one matching pattern found - picking one\n",
      "\n"
     ]
    },
    {
     "name": "stdout",
     "output_type": "stream",
     "text": [
      "747\n",
      "['SER' 'SER' 'SER' ... 'UNK' 'UNK' 'UNK']\n",
      "748\n",
      "['SER' 'SER' 'SER' ... 'UNK' 'UNK' 'UNK']\n"
     ]
    },
    {
     "name": "stderr",
     "output_type": "stream",
     "text": [
      "[15:50:36] WARNING: More than one matching pattern found - picking one\n",
      "\n"
     ]
    },
    {
     "name": "stdout",
     "output_type": "stream",
     "text": [
      "749\n",
      "['SER' 'SER' 'SER' ... 'UNK' 'UNK' 'UNK']\n"
     ]
    },
    {
     "name": "stderr",
     "output_type": "stream",
     "text": [
      "[15:50:38] WARNING: More than one matching pattern found - picking one\n",
      "\n"
     ]
    },
    {
     "name": "stdout",
     "output_type": "stream",
     "text": [
      "750\n",
      "['SER' 'SER' 'SER' ... 'UNK' 'UNK' 'UNK']\n"
     ]
    },
    {
     "name": "stderr",
     "output_type": "stream",
     "text": [
      "[15:50:40] WARNING: More than one matching pattern found - picking one\n",
      "\n"
     ]
    },
    {
     "name": "stdout",
     "output_type": "stream",
     "text": [
      "751\n",
      "['SER' 'SER' 'SER' ... 'UNK' 'UNK' 'UNK']\n"
     ]
    },
    {
     "name": "stderr",
     "output_type": "stream",
     "text": [
      "[15:50:41] WARNING: More than one matching pattern found - picking one\n",
      "\n"
     ]
    },
    {
     "name": "stdout",
     "output_type": "stream",
     "text": [
      "752\n",
      "['SER' 'SER' 'SER' ... 'UNK' 'UNK' 'UNK']\n",
      "753\n",
      "['SER' 'SER' 'SER' ... 'UNK' 'UNK' 'UNK']\n",
      "754\n",
      "['SER' 'SER' 'SER' ... 'UNK' 'UNK' 'UNK']\n"
     ]
    },
    {
     "name": "stderr",
     "output_type": "stream",
     "text": [
      "[15:50:46] WARNING: More than one matching pattern found - picking one\n",
      "\n"
     ]
    },
    {
     "name": "stdout",
     "output_type": "stream",
     "text": [
      "755\n",
      "['SER' 'SER' 'SER' ... 'UNK' 'UNK' 'UNK']\n"
     ]
    },
    {
     "name": "stderr",
     "output_type": "stream",
     "text": [
      "[15:50:48] WARNING: More than one matching pattern found - picking one\n",
      "\n"
     ]
    },
    {
     "name": "stdout",
     "output_type": "stream",
     "text": [
      "756\n",
      "['SER' 'SER' 'SER' ... 'UNK' 'UNK' 'UNK']\n",
      "757\n",
      "['SER' 'SER' 'SER' ... 'UNK' 'UNK' 'UNK']\n"
     ]
    },
    {
     "name": "stderr",
     "output_type": "stream",
     "text": [
      "[15:50:51] WARNING: More than one matching pattern found - picking one\n",
      "\n"
     ]
    },
    {
     "name": "stdout",
     "output_type": "stream",
     "text": [
      "758\n",
      "['SER' 'SER' 'SER' ... 'UNK' 'UNK' 'UNK']\n",
      "759\n",
      "['SER' 'SER' 'SER' ... 'UNK' 'UNK' 'UNK']\n"
     ]
    },
    {
     "name": "stderr",
     "output_type": "stream",
     "text": [
      "[15:50:54] WARNING: More than one matching pattern found - picking one\n",
      "\n"
     ]
    },
    {
     "name": "stdout",
     "output_type": "stream",
     "text": [
      "760\n",
      "['SER' 'SER' 'SER' ... 'UNK' 'UNK' 'UNK']\n"
     ]
    },
    {
     "name": "stderr",
     "output_type": "stream",
     "text": [
      "[15:50:56] WARNING: More than one matching pattern found - picking one\n",
      "\n"
     ]
    },
    {
     "name": "stdout",
     "output_type": "stream",
     "text": [
      "761\n",
      "['SER' 'SER' 'SER' ... 'UNK' 'UNK' 'UNK']\n",
      "762\n",
      "['SER' 'SER' 'SER' ... 'UNK' 'UNK' 'UNK']\n"
     ]
    },
    {
     "name": "stderr",
     "output_type": "stream",
     "text": [
      "[15:50:59] WARNING: More than one matching pattern found - picking one\n",
      "\n"
     ]
    },
    {
     "name": "stdout",
     "output_type": "stream",
     "text": [
      "763\n",
      "['SER' 'SER' 'SER' ... 'UNK' 'UNK' 'UNK']\n",
      "764\n",
      "['SER' 'SER' 'SER' ... 'UNK' 'UNK' 'UNK']\n",
      "765\n",
      "['SER' 'SER' 'SER' ... 'UNK' 'UNK' 'UNK']\n"
     ]
    },
    {
     "name": "stderr",
     "output_type": "stream",
     "text": [
      "[15:51:04] WARNING: More than one matching pattern found - picking one\n",
      "\n"
     ]
    },
    {
     "name": "stdout",
     "output_type": "stream",
     "text": [
      "766\n",
      "['SER' 'SER' 'SER' ... 'UNK' 'UNK' 'UNK']\n",
      "767\n",
      "['SER' 'SER' 'SER' ... 'UNK' 'UNK' 'UNK']\n"
     ]
    },
    {
     "name": "stderr",
     "output_type": "stream",
     "text": [
      "[15:51:07] WARNING: More than one matching pattern found - picking one\n",
      "\n"
     ]
    },
    {
     "name": "stdout",
     "output_type": "stream",
     "text": [
      "768\n",
      "['SER' 'SER' 'SER' ... 'UNK' 'UNK' 'UNK']\n",
      "769\n"
     ]
    },
    {
     "name": "stderr",
     "output_type": "stream",
     "text": [
      "[15:51:08] WARNING: More than one matching pattern found - picking one\n",
      "\n"
     ]
    }
   ],
   "source": [
    "import biotite.structure as struc\n",
    "import biotite.structure.io.pdb as pdb\n",
    "from biotite.structure import superimpose_homologs\n",
    "from rdkit import Chem\n",
    "from rdkit.Chem import AllChem\n",
    "import tempfile\n",
    "\n",
    "sarsmols = []\n",
    "\n",
    "\n",
    "for i in range(len(train)):\n",
    "    # Load the reference PDB structure\n",
    "    ref_pdb = pdb.PDBFile.read(\"ref_structs/sarsA.pdb\")\n",
    "    ref_atoms = ref_pdb.get_structure()\n",
    "    complex_atoms = competition[i][\"Complex Structure\"]\n",
    "    amino_acid_residues = [\n",
    "        \"ALA\", \"ARG\", \"ASN\", \"ASP\", \"CYS\", \"GLU\", \"GLN\", \"GLY\", \"HIS\", \"ILE\",\n",
    "        \"LEU\", \"LYS\", \"MET\", \"PHE\", \"PRO\", \"SER\", \"THR\", \"TRP\", \"TYR\", \"VAL\"\n",
    "    ]\n",
    "    print(complex_atoms.res_name)\n",
    "    \n",
    "    # Identify ligand atoms (non-standard residues)\n",
    "    rightchain = competition[i]['Ligand Pose'].GetProp(\"_Name\")[4]\n",
    "    is_ligand = ~np.isin(complex_atoms.res_name, amino_acid_residues)\n",
    "    \n",
    "    # Identify atoms belonging to Chain A\n",
    "    is_chain_a = complex_atoms.chain_id == rightchain\n",
    "    \n",
    "    # Keep Chain A **OR** ligands\n",
    "    complex_atoms = complex_atoms[is_chain_a | is_ligand]\n",
    "    \n",
    "    \n",
    "    fitted,_,_,_ = superimpose_homologs(ref_atoms, complex_atoms)\n",
    "    is_ligand = ~np.isin(fitted.res_name, amino_acid_residues)\n",
    "    ligand_atoms = fitted[is_ligand]\n",
    "    \n",
    "    # Create a temporary PDB file\n",
    "    with tempfile.NamedTemporaryFile(suffix=\".pdb\", delete=False) as temp_pdb:\n",
    "        out_pdb = pdb.PDBFile()\n",
    "        out_pdb.set_structure(ligand_atoms)\n",
    "        out_pdb.write(temp_pdb.name)\n",
    "        temp_pdb_path = temp_pdb.name  # Store filename\n",
    "    \n",
    "    # Convert PDB to RDKit Mol object\n",
    "    tmp = Chem.MolFromPDBFile(temp_pdb_path)\n",
    "    template = Chem.MolFromSmiles(competition[i][\"CXSMILES\"])\n",
    "    mol = AllChem.AssignBondOrdersFromTemplate(template, tmp)\n",
    "    sarsmols.append(mol)\n",
    "    print(i)\n",
    "wri = Chem.SDWriter(\"sarsmols.sdf\")\n",
    "for m in sarsmols:\n",
    "    wri.write(m)\n",
    "wri.close()"
   ]
  },
  {
   "cell_type": "code",
   "execution_count": null,
   "id": "ede7ca30-a923-4904-a2ad-09d2059540c0",
   "metadata": {},
   "outputs": [],
   "source": []
  }
 ],
 "metadata": {
  "kernelspec": {
   "display_name": "Python 3 (ipykernel)",
   "language": "python",
   "name": "python3"
  },
  "language_info": {
   "codemirror_mode": {
    "name": "ipython",
    "version": 3
   },
   "file_extension": ".py",
   "mimetype": "text/x-python",
   "name": "python",
   "nbconvert_exporter": "python",
   "pygments_lexer": "ipython3",
   "version": "3.12.2"
  }
 },
 "nbformat": 4,
 "nbformat_minor": 5
}
