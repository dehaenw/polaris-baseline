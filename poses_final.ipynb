{
 "cells": [
  {
   "cell_type": "code",
   "execution_count": 1,
   "id": "f1723680-847a-4c98-956e-0fcbb2a609a6",
   "metadata": {},
   "outputs": [
    {
     "data": {
      "text/html": [
       "<pre style=\"white-space:pre;overflow-x:auto;line-height:normal;font-family:Menlo,'DejaVu Sans Mono',consolas,'Courier New',monospace\"><span style=\"color: #7fbfbf; text-decoration-color: #7fbfbf\">[2025-03-12 18:00:53] </span><span style=\"color: #000080; text-decoration-color: #000080\">INFO    </span> The version of Polaris that was used to create the artifact <span style=\"font-weight: bold\">(</span><span style=\"color: #008080; text-decoration-color: #008080; font-weight: bold\">0.11</span>.<span style=\"color: #008080; text-decoration-color: #008080; font-weight: bold\">0</span><span style=\"font-weight: bold\">)</span> <a href=\"file:///home/wim/anaconda3/envs/my-rdkit-env/lib/python3.12/site-packages/polaris/_artifact.py\" target=\"_blank\"><span style=\"color: #7f7f7f; text-decoration-color: #7f7f7f\">_artifact.py</span></a><span style=\"color: #7f7f7f; text-decoration-color: #7f7f7f\">:</span><a href=\"file:///home/wim/anaconda3/envs/my-rdkit-env/lib/python3.12/site-packages/polaris/_artifact.py#92\" target=\"_blank\"><span style=\"color: #7f7f7f; text-decoration-color: #7f7f7f\">92</span></a>\n",
       "<span style=\"color: #7fbfbf; text-decoration-color: #7fbfbf\">                      </span>         is different from the currently installed version of Polaris         <span style=\"color: #7f7f7f; text-decoration-color: #7f7f7f\">               </span>\n",
       "<span style=\"color: #7fbfbf; text-decoration-color: #7fbfbf\">                      </span>         <span style=\"font-weight: bold\">(</span><span style=\"color: #008080; text-decoration-color: #008080; font-weight: bold\">0.11</span>.<span style=\"color: #008080; text-decoration-color: #008080; font-weight: bold\">9</span><span style=\"font-weight: bold\">)</span>.                                                            <span style=\"color: #7f7f7f; text-decoration-color: #7f7f7f\">               </span>\n",
       "</pre>\n"
      ],
      "text/plain": [
       "\u001b[2;36m[2025-03-12 18:00:53]\u001b[0m\u001b[2;36m \u001b[0m\u001b[34mINFO    \u001b[0m The version of Polaris that was used to create the artifact \u001b[1m(\u001b[0m\u001b[1;36m0.11\u001b[0m.\u001b[1;36m0\u001b[0m\u001b[1m)\u001b[0m \u001b]8;id=457061;file:///home/wim/anaconda3/envs/my-rdkit-env/lib/python3.12/site-packages/polaris/_artifact.py\u001b\\\u001b[2m_artifact.py\u001b[0m\u001b]8;;\u001b\\\u001b[2m:\u001b[0m\u001b]8;id=502578;file:///home/wim/anaconda3/envs/my-rdkit-env/lib/python3.12/site-packages/polaris/_artifact.py#92\u001b\\\u001b[2m92\u001b[0m\u001b]8;;\u001b\\\n",
       "\u001b[2;36m                      \u001b[0m         is different from the currently installed version of Polaris         \u001b[2m               \u001b[0m\n",
       "\u001b[2;36m                      \u001b[0m         \u001b[1m(\u001b[0m\u001b[1;36m0.11\u001b[0m.\u001b[1;36m9\u001b[0m\u001b[1m)\u001b[0m.                                                            \u001b[2m               \u001b[0m\n"
      ]
     },
     "metadata": {},
     "output_type": "display_data"
    },
    {
     "data": {
      "text/html": [
       "<pre style=\"white-space:pre;overflow-x:auto;line-height:normal;font-family:Menlo,'DejaVu Sans Mono',consolas,'Courier New',monospace\"><span style=\"color: #7fbfbf; text-decoration-color: #7fbfbf\">                      </span><span style=\"color: #808000; text-decoration-color: #808000\">WARNING </span> You're loading data from a remote location. If the dataset is small     <a href=\"file:///home/wim/anaconda3/envs/my-rdkit-env/lib/python3.12/site-packages/polaris/dataset/_base.py\" target=\"_blank\"><span style=\"color: #7f7f7f; text-decoration-color: #7f7f7f\">_base.py</span></a><span style=\"color: #7f7f7f; text-decoration-color: #7f7f7f\">:</span><a href=\"file:///home/wim/anaconda3/envs/my-rdkit-env/lib/python3.12/site-packages/polaris/dataset/_base.py#181\" target=\"_blank\"><span style=\"color: #7f7f7f; text-decoration-color: #7f7f7f\">181</span></a>\n",
       "<span style=\"color: #7fbfbf; text-decoration-color: #7fbfbf\">                      </span>         enough, consider caching the dataset first using                        <span style=\"color: #7f7f7f; text-decoration-color: #7f7f7f\">            </span>\n",
       "<span style=\"color: #7fbfbf; text-decoration-color: #7fbfbf\">                      </span>         <span style=\"color: #800080; text-decoration-color: #800080; font-weight: bold\">CompetitionSpecification.cache</span><span style=\"font-weight: bold\">()</span> for more performant data access.       <span style=\"color: #7f7f7f; text-decoration-color: #7f7f7f\">            </span>\n",
       "</pre>\n"
      ],
      "text/plain": [
       "\u001b[2;36m                     \u001b[0m\u001b[2;36m \u001b[0m\u001b[33mWARNING \u001b[0m You're loading data from a remote location. If the dataset is small     \u001b]8;id=926301;file:///home/wim/anaconda3/envs/my-rdkit-env/lib/python3.12/site-packages/polaris/dataset/_base.py\u001b\\\u001b[2m_base.py\u001b[0m\u001b]8;;\u001b\\\u001b[2m:\u001b[0m\u001b]8;id=324522;file:///home/wim/anaconda3/envs/my-rdkit-env/lib/python3.12/site-packages/polaris/dataset/_base.py#181\u001b\\\u001b[2m181\u001b[0m\u001b]8;;\u001b\\\n",
       "\u001b[2;36m                      \u001b[0m         enough, consider caching the dataset first using                        \u001b[2m            \u001b[0m\n",
       "\u001b[2;36m                      \u001b[0m         \u001b[1;35mCompetitionSpecification.cache\u001b[0m\u001b[1m(\u001b[0m\u001b[1m)\u001b[0m for more performant data access.       \u001b[2m            \u001b[0m\n"
      ]
     },
     "metadata": {},
     "output_type": "display_data"
    }
   ],
   "source": [
    "import polaris as po\n",
    "import numpy as np\n",
    "from rdkit import RDLogger,Chem                                                                                                                                                               \n",
    "RDLogger.DisableLog('rdApp.*')\n",
    "\n",
    "# Load the competition from the Hub\n",
    "competition = po.load_competition(\"asap-discovery/antiviral-ligand-poses-2025\")\n",
    "\n",
    "# Get the train and test data-loaders\n",
    "train, test = competition.get_train_test_split()\n",
    "\n",
    "#these are aligned (to provided reference) mols.\n",
    "#for their generation, see the respective notebooks\n",
    "sarsmols = [m for m in Chem.SDMolSupplier(\"sarsmols.sdf\")]\n",
    "mersmols = [m for m in Chem.SDMolSupplier(\"mersmols.sdf\")]"
   ]
  },
  {
   "cell_type": "code",
   "execution_count": 2,
   "id": "35343ac2-7ba0-4d23-b564-1d1f87dbbf0b",
   "metadata": {},
   "outputs": [],
   "source": [
    "poses = train.as_array(\"Ligand Pose\")\n",
    "clean_poses = [Chem.RemoveHs(m) for m in poses]\n",
    "smiles = [Chem.MolToSmiles(m) for m in clean_poses]\n",
    "mols = [Chem.MolFromSmiles(smi) for smi in smiles]\n",
    "test_mols = []\n",
    "targets = []\n",
    "for t in test:\n",
    "    test_mols.append(Chem.MolFromSmiles(t[\"CXSMILES\"]))\n",
    "    targets.append(t[\"Protein Label\"])"
   ]
  },
  {
   "cell_type": "markdown",
   "id": "6b95551b-1743-45f5-af99-147516be6fe1",
   "metadata": {},
   "source": [
    "# find MCS"
   ]
  },
  {
   "cell_type": "code",
   "execution_count": 3,
   "id": "102b58cc-b679-4323-a301-eff2a4d3d712",
   "metadata": {},
   "outputs": [
    {
     "name": "stderr",
     "output_type": "stream",
     "text": [
      "  3%|█                                          | 5/195 [00:00<00:03, 47.57it/s]"
     ]
    },
    {
     "name": "stdout",
     "output_type": "stream",
     "text": [
      "0 (16, '[#6]-CC(=O)-N(-c1:c:n:c:c2:c:c:c:c:c:1:2)-C', 0) O=C1c2ccc(Cl)cc2[C@@]2(CN1Cc1nnco1)C(=O)N(c1cncc3ccccc13)C[C@@H]2CNc1ncncn1 0.5000000000000001\n",
      "1 (10, 'c1:c:n:c:c2:c:c:c:c:c:1:2', 0) COc1ccc(N(Cc2cccc(Cl)c2)C(=O)Cc2cncc3ccccc23)cc1 0.6000000000000001\n",
      "2 (32, 'CNC(=O)-CN1CC2(-C(=O)-N(-c3:c:n:c:c4:c:c:c:c:c:3:4)-CC2)-c2:c:c(-Cl):c:c:c:2-C1=O', 453) CNC(=O)CN1C[C@@]2(C(=O)N(c3cncc4ccccc34)C[C@@H]2CNc2ccncn2)c2cc(Cl)ccc2C1=O 0.7000000000000001\n",
      "3 (16, 'C(-C(=O)-N(-c1:c:n:c:c2:c:c:c:c:c:1:2)-C)-[#6]', 0) CNC(=O)CN1C[C@@]2(C(=O)N(c3cncc4ccccc34)C[C@@H]2[NH3+])c2cc(Cl)ccc2C1=O 0.6000000000000001\n",
      "4 (16, '[#6]-CC(=O)-N(-c1:c:n:c:c2:c:c:c:c:c:1:2)-C', 0) O=C1c2ccc(Cl)cc2[C@@]2(CN1Cc1ccnnc1)C(=O)N(c1cncc3ccccc13)C[C@@H]2CNc1ccncn1 0.5000000000000001\n",
      "5 (32, 'CNC(=O)-CN1CC2(-C(=O)-N(-c3:c:n:c:c4:c:c:c:c:c:3:4)-CC2)-c2:c:c(-Cl):c:c:c:2-C1=O', 453) CNC(=O)CN1C[C@@]2(C(=O)N(c3cncc4ccccc34)C[C@@H]2CNc2cnn(C)c2)c2cc(Cl)ccc2C1=O 0.7000000000000001\n",
      "6 (28, '[#6]-CN1CC2(-C(=O)-N(-c3:c:n:c:c4:c:c:c:c:c:3:4)-CC2)-c2:c:c:c:c:c:2-C1=O', 640) Cc1cnc(CN2C[C@@]3(C(=O)N(c4cncc5ccccc45)C[C@@H]3C)c3cc(F)ccc3C2=O)cn1 0.6000000000000001\n",
      "7 (32, 'CNC(=O)-CN1CC2(-C(=O)-N(-c3:c:n:c:c4:c:c:c:c:c:3:4)-CC2)-c2:c:c(-Cl):c:c:c:2-C1=O', 640) CNC(=O)CN1C[C@@]2(C(=O)N(c3cncc4ccccc34)C[C@@H]2COC(C)C)c2cc(Cl)ccc2C1=O 0.7000000000000001\n"
     ]
    },
    {
     "name": "stderr",
     "output_type": "stream",
     "text": [
      "  5%|██▏                                       | 10/195 [00:00<00:14, 13.19it/s]"
     ]
    },
    {
     "name": "stdout",
     "output_type": "stream",
     "text": [
      "8 (27, 'C1CN(-c2:c:n:c:c3:c:c:c:c:c:2:3)-C(=O)-C12CN(-C-[#6])-Cc1:c:c:c:c:c-2:1', 655) C[C@H]1CN(c2cncc3ccccc23)C(=O)[C@@]12CN(Cc1nccn1C)C(=O)c1ccc(F)cc12 0.7000000000000001\n",
      "9 (10, 'c1:c:n:c:c2:c:c:c:c:c:1:2', 0) C[C@H]1c2ccsc2CCN1C(=O)Cc1cncc2ccccc12 0.5000000000000001\n",
      "10 (16, 'CN(-c1:c:n:c:c2:c:c:c:c:c:1:2)-C(=O)-C-[#6]', 0) C[C@H]1CN(c2cncc3ccccc23)C(=O)[C@@]12CN(CC#N)C(=O)c1ccc(F)cc12 0.6000000000000001\n",
      "11 (12, 'c1:c(-N(-Cc)-C(=O)-C):c:c:c:c:1', 4) CCC(=O)[N@H+]1CCCc2c(N(Cc3cccc(Cl)c3)C(=O)Cc3cncc4ccccc34)cccc21 0.5000000000000001\n"
     ]
    },
    {
     "name": "stderr",
     "output_type": "stream",
     "text": [
      "  8%|███▍                                      | 16/195 [00:01<00:11, 15.32it/s]"
     ]
    },
    {
     "name": "stdout",
     "output_type": "stream",
     "text": [
      "12 (31, 'CN(-C(=O)-C1CN(-CC(=O)-NC)-C(=O)-c2:c:c:c(-Cl):c:c-1:2)-c1:c:n:c:c2:c:c:c:c:c:1:2', 640) C=C(CN(C(=O)[C@@H]1CN(CC(=O)NC)C(=O)c2ccc(Cl)cc21)c1cncc2ccccc12)C(=O)[O-] 0.7000000000000001\n",
      "13 (10, 'c1:c:n:c:c2:c:c:c:c:c:1:2', 0) O=C(Cc1cncc2ccccc12)N1CCCCC1 0.5000000000000001\n",
      "14 (10, 'c1:c:n:c:c2:c:c:c:c:c:1:2', 379) CCC1CCN(C(=O)Cc2cncc3ccccc23)CC1 0.7000000000000001\n",
      "15 (19, 'S(=O)(=O)-NCCC(=O)-Nc1:c:n:c:c2:c:c:c:c:c:1:2', 603) CCS(=O)(=O)N1CC2(C1)C(=O)N(c1cncc3ccccc13)C(=O)N2C 0.6000000000000001\n",
      "16 (32, 'CNC(=O)-CN1CC2(-C(=O)-N(-c3:c:n:c:c4:c:c:c:c:c:3:4)-CC2)-c2:c:c(-Cl):c:c:c:2-C1=O', 640) CNC(=O)CN1C[C@@]2(C(=O)N(c3cncc4ccccc34)C[C@@H]2COC)c2cc(Cl)ccc2C1=O 0.8\n"
     ]
    },
    {
     "name": "stderr",
     "output_type": "stream",
     "text": [
      " 10%|████                                      | 19/195 [00:01<00:12, 14.66it/s]"
     ]
    },
    {
     "name": "stdout",
     "output_type": "stream",
     "text": [
      "17 (16, 'CN(-c1:c:n:c:c2:c:c:c:c:c:1:2)-C(=O)-C-[#6]', 0) C[C@H]1CN(c2cncc3ccccc23)C(=O)[C@@]12CN(CC(=O)NCc1ccnn1C)C(=O)c1ccccc12 0.5000000000000001\n",
      "18 (19, 'CC(-C)-CCNC(=O)-Cc1:c:n:c:c2:c:c:c:c:c:1:2', 414) C[C@H]1C=CCN(C(=O)Cc2cncc3ccccc23)CC1 0.6000000000000001\n"
     ]
    },
    {
     "name": "stderr",
     "output_type": "stream",
     "text": [
      " 11%|████▌                                     | 21/195 [00:01<00:11, 15.37it/s]"
     ]
    },
    {
     "name": "stdout",
     "output_type": "stream",
     "text": [
      "19 (22, 'CC(-C(-Nc1:c:n:c:c2:c:c:c:c:c:1:2)=O)(-C)-c1:c:c:c:c:c:1', 493) C[C@H]1CN(c2cncc3ccccc23)C(=O)[C@@]12CN(Cc1c[nH+]c[nH]1)C(=O)c1ccc(F)cc12 0.7000000000000001\n",
      "20 (16, 'C(-C(=O)-N(-c1:c:n:c:c2:c:c:c:c:c:1:2)-C)-[#6]', 0) Cc1cc(CN2C[C@@]3(C(=O)N(c4cncc5ccccc45)C[C@@H]3C)c3cc(F)ccc3C2=O)on1 0.5000000000000001\n"
     ]
    },
    {
     "name": "stderr",
     "output_type": "stream",
     "text": [
      " 12%|████▉                                     | 23/195 [00:01<00:21,  8.09it/s]"
     ]
    },
    {
     "name": "stdout",
     "output_type": "stream",
     "text": [
      "21 (21, 'CN(-c1:c:n:c:c2:c:c:c:c:c:1:2)-C(=O)-CCNS(=O)(=O)-[#6]', 39) CN1C(=O)N(c2cncc3ccccc23)C(=O)C12CN(S(=O)(=O)c1ccccc1)C2 0.6000000000000001\n",
      "22 (31, 'O=C1-c2:c:c:c(-Cl):c:c:2-C2(-CN1CCNC)-C(=O)-N(-c1:c:n:c:c3:c:c:c:c:c:1:3)-CC2', 640) O=C1c2ccc(Cl)cc2[C@@]2(CN1CC[NH+]1CCOCC1)C(=O)N(c1cncc3ccccc13)C[C@@H]2CNc1ncccn1 0.6000000000000001\n"
     ]
    },
    {
     "name": "stderr",
     "output_type": "stream",
     "text": [
      " 14%|█████▊                                    | 27/195 [00:02<00:18,  9.00it/s]"
     ]
    },
    {
     "name": "stdout",
     "output_type": "stream",
     "text": [
      "23 (32, 'CNC(=O)-CN1CC2(-C(=O)-N(-c3:c:n:c:c4:c:c:c:c:c:3:4)-CC2)-c2:c:c(-Cl):c:c:c:2-C1=O', 640) CNC(=O)CN1C[C@@]2(C(=O)N(c3cncc4ccccc34)C[C@@H]2CNc2ccnc(C)n2)c2cc(Cl)ccc2C1=O 0.6000000000000001\n",
      "24 (16, 'C(-C(=O)-N(-c1:c:n:c:c2:c:c:c:c:c:1:2)-C)-[#6]', 0) C[C@H]1C[NH+](CCN2C[C@@]3(C(=O)N(c4cncc5ccccc45)C[C@@H]3C)c3cc(Cl)ccc3C2=O)C[C@H](C)O1 0.5000000000000001\n",
      "25 (31, 'C1CN(-c2:c:n:c:c3:c:c:c:c:c:2:3)-C(=O)-C12CN(-CCNCC)-Cc1:c:c:c(-Cl):c:c-2:1', 601) C[C@H]1CN(c2cncc3ccccc23)C(=O)[C@@]12CN(CC[NH+]1CCN(S(C)(=O)=O)CC1)C(=O)c1ccc(Cl)cc12 0.7000000000000001\n",
      "26 (11, 'Cc1:c:n:c:c2:c:c:c:c:c:1:2', 13) COc1ccccc1[C@@H]1C[C@H](C)CCN1C(=O)Cc1cncc2ccccc12 0.6000000000000001\n"
     ]
    },
    {
     "name": "stderr",
     "output_type": "stream",
     "text": [
      " 15%|██████▏                                   | 29/195 [00:02<00:17,  9.30it/s]"
     ]
    },
    {
     "name": "stdout",
     "output_type": "stream",
     "text": [
      "27 (32, 'CNC(=O)-CN1CC2(-C(=O)-N(-c3:c:n:c:c4:c:c:c:c:c:3:4)-CC2)-c2:c:c(-Cl):c:c:c:2-C1=O', 640) CNC(=O)CN1C[C@@]2(C(=O)N(c3cncc4ccccc34)C[C@@H]2Cn2cccn2)c2cc(Cl)ccc2C1=O 0.7000000000000001\n",
      "28 (32, 'CNC(=O)-CN1CC2(-C(=O)-N(-c3:c:n:c:c4:c:c:c:c:c:3:4)-CC2)-c2:c:c(-Cl):c:c:c:2-C1=O', 640) CNC(=O)CN1C[C@@]2(C(=O)N(c3cncc4ccccc34)C[C@@H]2Cn2ncnn2)c2cc(Cl)ccc2C1=O 0.7000000000000001\n",
      "29 (14, 'O=C(-Cc1:c:n:c:c:c:1)-NCCCC', 6) O=C(Cc1cncc2ccccc12)N1C[C@H](CF)C2(CCCC2)C1 0.5000000000000001\n",
      "30 (16, 'C(-C(=O)-N(-c1:c:n:c:c2:c:c:c:c:c:1:2)-C)-[#6]', 0) CNC(=O)CN1C[C@@]2(C(=O)N(c3cncc4ccccc34)C[C@@H]2COCC2CC2)c2cc(Cl)ccc2C1=O 0.5000000000000001\n"
     ]
    },
    {
     "name": "stderr",
     "output_type": "stream",
     "text": [
      " 18%|███████▌                                  | 35/195 [00:02<00:11, 13.51it/s]"
     ]
    },
    {
     "name": "stdout",
     "output_type": "stream",
     "text": [
      "31 (15, 'CCc1:c(-O):n(-c2:c:n:c:c:c:2):c(=O):n:1', 440) C[C@@H]1CCc2c([O-])n(-c3cncc4ccccc34)c(=O)n2C1 0.6000000000000001\n",
      "32 (16, 'CN(-c1:c:n:c:c2:c:c:c:c:c:1:2)-C(=O)-C-[#6]', 0) C[C@H]1CN(c2cncc3ccccc23)C(=O)[C@@]12CN(CC[N@@H+]1C[C@@H]3C[C@H]1CO3)C(=O)c1ccc(Cl)cc12 0.5000000000000001\n",
      "33 (16, 'C(-C(=O)-N(-c1:c:n:c:c2:c:c:c:c:c:1:2)-C)-[#6]', 0) C[C@H]1C[N@H+](CCN2C[C@@]3(C(=O)N(c4cncc5ccccc45)C[C@@H]3C)c3cc(Cl)ccc3C2=O)[C@@H](C)CO1 0.5000000000000001\n",
      "34 (29, 'N(-c1:c:n:c:c2:c:c:c:c:c:1:2)-C(=O)-C1CN(-Cc2:c:c:n:n:2)-Cc2:c:c:c:c:c-1:2', 643) C[C@H]1CN(c2cncc3ccccc23)C(=O)[C@@]12CN(Cc1cc[nH]n1)C(=O)c1ccc(F)cc12 0.7000000000000001\n",
      "35 (10, 'c1:c:n:c:c2:c:c:c:c:c:1:2', 0) C[C@H]1C[C@H](c2ccccc2)N(C(=O)Cc2cncc3ccccc23)C1 0.7000000000000001\n",
      "36 (25, 'O=C1C(-c2:c:c:c(-Cl):c(-Cl):c:2)-CCCN1-c1:c:n:c:c2:c:c:c:c:c:1:2', 690) O=C1[C@@H](c2ccc(Cl)c(Cl)c2)C[C@H](O)CN1c1cncc2ccccc12 0.8\n",
      "37 (16, 'CN(-c1:c:n:c:c2:c:c:c:c:c:1:2)-C(=O)-C-[#6]', 0) C[C@H]1CN(c2cncc3ccccc23)C(=O)[C@@]12CN(Cc1nncn1C)C(=O)c1ccc(F)cc12 0.5000000000000001\n"
     ]
    },
    {
     "name": "stderr",
     "output_type": "stream",
     "text": [
      " 20%|████████▍                                 | 39/195 [00:03<00:09, 17.07it/s]"
     ]
    },
    {
     "name": "stdout",
     "output_type": "stream",
     "text": [
      "38 (32, 'CNC(=O)-CN1CC2(-C(=O)-N(-c3:c:n:c:c4:c:c:c:c:c:3:4)-CC2)-c2:c:c(-Cl):c:c:c:2-C1=O', 640) CNC(=O)CN1C[C@@]2(C(=O)N(c3cncc4ccccc34)C[C@@H]2Cc2ccccc2)c2cc(Cl)ccc2C1=O 0.7000000000000001\n",
      "39 (14, 'C(-CNC(=O)-Cc1:c:n:c:c:c:1)-CC', 6) C[C@H]1CC[C@@]2(CCN(C(=O)Cc3cncc4ccccc34)C2)CC1 0.5000000000000001\n",
      "40 (15, '[#6]-CC(=O)-Nc1:c:n:c:c2:c:c:c:c:c:1:2', 0) O=C(C[N@H+]1Cc2ccc(Cl)cc2[C@H](C(=O)Nc2cncc3ccccc23)C1)NCCc1ccc(C(F)F)cc1 0.5000000000000001\n",
      "41 (11, 'Cc1:c:n:c:c2:c:c:c:c:c:1:2', 13) CCC(=O)N1CCCc2ccc(N(C(=O)Cc3cncc4ccccc34)N(C)c3cccc(Cl)c3)cc21 0.5000000000000001\n",
      "42 (16, 'CN(-c1:c:n:c:c2:c:c:c:c:c:1:2)-C(=O)-C-[#6]', 0) C[C@H]1CN(c2cncc3ccccc23)C(=O)[C@@]12CN(Cc1cnn(C)c1)C(=O)c1ccc(F)cc12 0.5000000000000001\n",
      "43 (10, 'c1:c:n:c:c2:c:c:c:c:c:1:2', 0) O=C(Cc1cncc2ccccc12)N1CCc2c(Cl)cccc2C1 0.6000000000000001\n",
      "44 (16, 'C(-C(=O)-N(-c1:c:n:c:c2:c:c:c:c:c:1:2)-C)-[#6]', 0) C[C@H]1C[N@@H+](CCN2C[C@@]3(C(=O)N(c4cncc5ccccc45)C[C@@H]3C)c3cc(Cl)ccc3C2=O)CCO1 0.5000000000000001\n"
     ]
    },
    {
     "name": "stderr",
     "output_type": "stream",
     "text": [
      " 25%|██████████▌                               | 49/195 [00:03<00:06, 21.81it/s]"
     ]
    },
    {
     "name": "stdout",
     "output_type": "stream",
     "text": [
      "45 (33, 'C1CN(-c2:c:n:c:c3:c:c:c:c:c:2:3)-C(=O)-C12CN(-CC(=O)-NCC1CC1)-Cc1:c:c:c:c:c-2:1', 601) C[C@H]1CN(c2cncc3ccccc23)C(=O)[C@@]12CN(CC(=O)NCC1CC1)C(=O)c1ccc(F)cc12 0.7000000000000001\n",
      "46 (22, 'O=C1NC(-CCOc)(-c)-C(=O)-N1-c1:c:n:c:c2:c:c:c:c:c:1:2', 717) O=C1N[C@@]2(CCOc3ccncc32)C(=O)N1c1cncc2ccccc12 0.7000000000000001\n",
      "47 (16, 'C(-C(=O)-N(-c1:c:n:c:c2:c:c:c:c:c:1:2)-C)-[#6]', 0) C[NH2+]CCN1C[C@@]2(C(=O)N(c3cncc4ccccc34)C[C@@H]2COCC2COC2)c2cc(Cl)ccc2C1=O 0.5000000000000001\n",
      "48 (32, 'CNC(=O)-CN1CC2(-C(=O)-N(-c3:c:n:c:c4:c:c:c:c:c:3:4)-CC2)-c2:c:c(-Cl):c:c:c:2-C1=O', 453) CNC(=O)CN1C[C@@]2(C(=O)N(c3cncc4ccccc34)C[C@@H]2CNc2ccccc2)c2cc(Cl)ccc2C1=O 0.7000000000000001\n",
      "49 (34, 'O=C(-CN1Cc2:c:c:c(-Cl):c:c:2-C2(-CCN(-c3:c:n:c:c4:c:c:c:c:c:3:4)-C2=O)-C1)-NCC(-C)-C', 601) O=C(C[N@H+]1Cc2ccc(Cl)cc2[C@@]2(CCN(c3cncc4ccccc34)C2=O)C1)NC[C@H]1C[C@@H](F)C1 0.8\n"
     ]
    },
    {
     "name": "stderr",
     "output_type": "stream",
     "text": [
      " 27%|███████████▏                              | 52/195 [00:03<00:09, 15.12it/s]"
     ]
    },
    {
     "name": "stdout",
     "output_type": "stream",
     "text": [
      "50 (29, 'O=C(-CN1Cc2:c:c:c(-Cl):c:c:2-C(-C(=O)-Nc2:c:n:c:c3:c:c:c:c:c:2:3)-C1)-N-[#6]', 745) O=C(C[N@H+]1Cc2ccc(Cl)cc2[C@H](C(=O)Nc2cncc3ccccc23)C1)Nc1ccc(N2CCOCC2=O)cc1 0.6000000000000001\n",
      "51 (25, 'N(-c1:c:n:c:c2:c:c:c:c:c:1:2)-C(=O)-C1CN(-Cc)-Cc2:c:c:c:c:c-1:2', 643) C[C@H]1CN(c2cncc3ccccc23)C(=O)[C@@]12CN(Cc1cn[nH]n1)C(=O)c1ccc(F)cc12 0.7000000000000001\n",
      "52 (29, 'CNCCN1CC2(-C(=O)-N(-c3:c:n:c:c4:c:c:c:c:c:3:4)-CC2)-c2:c:c:c:c:c:2-C1', 655) C[NH2+]CCN1C[C@@]2(C(=O)N(c3cncc4ccccc34)C[C@@H]2C)c2cc(F)ccc2C1=O 0.8\n",
      "53 (16, 'C(-C(=O)-N(-c1:c:n:c:c2:c:c:c:c:c:1:2)-C)-[#6]', 0) CNC(=O)CN1C[C@@]2(C(=O)N(c3cncc4ccccc34)C[C@@H]2CNc2cnn(C)c2)c2cc(Cl)ccc2C1=O 0.5000000000000001\n",
      "54 (27, 'O=C1NC2(-CC(-c3:c:c:c:c:c:3-Cl)-C2)-C(=O)-N1-c1:c:n:c:c2:c:c:c:c:c:1:2', 0) O=C1N[C@]2(C[C@H](c3ccccc3Cl)C2)C(=O)N1c1cncc2ccccc12 0.8\n"
     ]
    },
    {
     "name": "stderr",
     "output_type": "stream",
     "text": [
      " 32%|█████████████▎                            | 62/195 [00:04<00:05, 23.00it/s]"
     ]
    },
    {
     "name": "stdout",
     "output_type": "stream",
     "text": [
      "55 (32, 'CNC(=O)-CN1CC2(-C(=O)-N(-c3:c:n:c:c4:c:c:c:c:c:3:4)-CC2)-c2:c:c(-Cl):c:c:c:2-C1=O', 640) CNC(=O)CN1C[C@@]2(C(=O)N(c3cncc4ccccc34)C[C@@H]2CS(=O)(=O)NC)c2cc(Cl)ccc2C1=O 0.7000000000000001\n",
      "56 (15, 'CCC(-CC)-NC(=O)-Cc1:c:n:c:c:c:1', 6) CC[C@H]1C[C@@H](C(F)(F)F)CCN1C(=O)Cc1cncc2ccccc12 0.40000000000000013\n",
      "57 (16, 'C(-C(=O)-N(-c1:c:n:c:c2:c:c:c:c:c:1:2)-C)-[#6]', 0) C[NH2+]CCN1C[C@@]2(C(=O)N(c3cncc4ccccc34)C[C@@H]2COCC2(F)COC2)c2cc(Cl)ccc2C1=O 0.5000000000000001\n",
      "58 (16, 'C(-C(=O)-N(-c1:c:n:c:c2:c:c:c:c:c:1:2)-C)-[#6]', 0) C[NH2+]CCN1C[C@@]2(C(=O)N(c3cncc4ccccc34)C[C@@H]2CNc2ncncn2)c2cc(Cl)ccc2C1=O 0.5000000000000001\n",
      "59 (17, 'C(=O)-N(-c1:c:n:c:c2:c:c:c:c:c:1:2)-CCC-[#6]', 0) CNC(=O)CN1C[C@@]2(C(=O)N(c3cncc4ccccc34)C[C@@H]2Cc2ccccc2)c2cc(Cl)ccc2C1=O 0.5000000000000001\n",
      "60 (16, '[#6]-CC(=O)-N(-c1:c:n:c:c2:c:c:c:c:c:1:2)-C', 0) O=C1c2ccc(Cl)cc2[C@@]2(CN1Cc1nnco1)C(=O)N(c1cncc3ccccc13)C[C@@H]2CNc1ccncn1 0.5000000000000001\n",
      "61 (16, 'CN(-c1:c:n:c:c2:c:c:c:c:c:1:2)-C(=O)-C-[#6]', 0) C[C@H]1CN(c2cncc3ccccc23)C(=O)[C@@]12CN(CC[N@H+]1CCOC(C)(C)C1)C(=O)c1ccc(Cl)cc12 0.5000000000000001\n",
      "62 (25, 'N(-c1:c:n:c:c2:c:c:c:c:c:1:2)-C(=O)-C1CN(-Cc)-Cc2:c:c:c:c:c-1:2', 643) C[C@H]1CN(c2cncc3ccccc23)C(=O)[C@@]12CN(Cc1cn[nH]n1)C(=O)c1ccc(F)cc12 0.7000000000000001\n",
      "63 (10, 'c1:c:n:c:c2:c:c:c:c:c:1:2', 0) O=C(Cc1cncc2ccccc12)N1CCC[C@@H]1c1cccc(F)c1 0.6000000000000001\n"
     ]
    },
    {
     "name": "stderr",
     "output_type": "stream",
     "text": [
      " 35%|██████████████▋                           | 68/195 [00:04<00:07, 17.38it/s]"
     ]
    },
    {
     "name": "stdout",
     "output_type": "stream",
     "text": [
      "64 (28, 'C1CN(-c2:c:n:c:c3:c:c:c:c:c:2:3)-C(=O)-C12CN(-C-[#6])-C(=O)-c1:c:c:c:c:c-2:1', 640) C[C@H]1CN(c2cncc3ccccc23)C(=O)[C@@]12CN(Cc1cc(=O)[nH]cn1)C(=O)c1ccc(F)cc12 0.6000000000000001\n",
      "65 (32, 'CNC(=O)-CN1CC2(-C(=O)-N(-c3:c:n:c:c4:c:c:c:c:c:3:4)-CC2)-c2:c:c(-Cl):c:c:c:2-C1=O', 453) CNC(=O)CN1C[C@@]2(C(=O)N(c3cncc4ccccc34)C[C@@H]2CNc2ccncn2)c2cc(Cl)ccc2C1=O 0.7000000000000001\n",
      "66 (27, 'C1CN(-c2:c:n:c:c3:c:c:c:c:c:2:3)-C(=O)-C12CN(-C-[#6])-Cc1:c:c:c:c:c-2:1', 655) C[C@H]1CN(c2cncc3ccccc23)C(=O)[C@@]12CN(Cc1nnnn1C)C(=O)c1ccc(F)cc12 0.7000000000000001\n",
      "67 (16, 'CN(-c1:c:n:c:c2:c:c:c:c:c:1:2)-C(=O)-C-[#6]', 0) C[C@H]1CN(c2cncc3ccccc23)C(=O)[C@@]12CN(Cc1cnn(C)n1)C(=O)c1ccc(F)cc12 0.5000000000000001\n",
      "68 (10, 'c1:c:n:c:c2:c:c:c:c:c:1:2', 0) N#CCc1ccc(N(Cc2cccc(Cl)c2)C(=O)Cc2cncc3ccccc23)cc1 0.6000000000000001\n"
     ]
    },
    {
     "name": "stderr",
     "output_type": "stream",
     "text": [
      " 36%|███████████████▎                          | 71/195 [00:04<00:08, 14.32it/s]"
     ]
    },
    {
     "name": "stdout",
     "output_type": "stream",
     "text": [
      "69 (13, 'CC(-NC(=O)-C)-c1:c:c(-Cl):c:c:c:1', 481) C[C@H](NC(=O)COS(N)(=O)=O)c1cc(Cl)cc(-c2ccc(S(N)(=O)=O)cc2)c1 0.5000000000000001\n",
      "70 (32, 'CNC(=O)-CN1CC2(-C(=O)-N(-c3:c:n:c:c4:c:c:c:c:c:3:4)-CC2)-c2:c:c(-Cl):c:c:c:2-C1=O', 640) CNC(=O)CN1C[C@@]2(C(=O)N(c3cncc4ccccc34)C[C@@H]2COC(C)C)c2cc(Cl)ccc2C1=O 0.7000000000000001\n"
     ]
    },
    {
     "name": "stderr",
     "output_type": "stream",
     "text": [
      " 37%|███████████████▋                          | 73/195 [00:05<00:08, 13.78it/s]"
     ]
    },
    {
     "name": "stdout",
     "output_type": "stream",
     "text": [
      "71 (11, 'O=C(-Cc1:c:n:c:c:c:1)-N-[#6]', 404) O=C(Cc1cncc2ccccc12)N1CCC(C(F)(F)F)CC1 0.6000000000000001\n",
      "72 (10, 'c1:c:n:c:c2:c:c:c:c:c:1:2', 111) O=C(Cc1cncc2ccccc12)N1CCCC[C@H]1c1ccccc1 0.7000000000000001\n",
      "73 (16, 'CN(-c1:c:n:c:c2:c:c:c:c:c:1:2)-C(=O)-C-[#6]', 0) C[C@H]1CN(c2cncc3ccccc23)C(=O)[C@@]12CN(Cc1ccn(C)n1)C(=O)c1ccc(F)cc12 0.5000000000000001\n",
      "74 (10, 'c1:c:n:c:c2:c:c:c:c:c:1:2', 0) N#Cc1ccc(N(Cc2cccc(Cl)c2)C(=O)Cc2cncc3ccccc23)cc1 0.6000000000000001\n",
      "75 (16, 'C(-C(=O)-N(-c1:c:n:c:c2:c:c:c:c:c:1:2)-C)-[#6]', 0) C[NH2+]CCN1C[C@@]2(C(=O)N(c3cncc4ccccc34)C[C@@H]2COCC2CS(=O)(=O)C2)c2cc(Cl)ccc2C1=O 0.5000000000000001\n",
      "76 (31, 'CNC(=O)-CN1CC2(-C(=O)-N(-c3:c:n:c:c4:c:c:c:c:c:3:4)-CC2)-c2:c:c:c:c:c:2-C1=O', 640) CNC(=O)CN1C[C@@]2(C(=O)N(c3cncc4ccccc34)C[C@@H]2C)c2ccccc2C1=O 0.8\n"
     ]
    },
    {
     "name": "stderr",
     "output_type": "stream",
     "text": [
      " 40%|████████████████▊                         | 78/195 [00:05<00:06, 18.57it/s]"
     ]
    },
    {
     "name": "stdout",
     "output_type": "stream",
     "text": [
      "77 (10, 'c1:c:n:c:c2:c:c:c:c:c:1:2', 379) C[C@H]1C[C@@H](C)N(C(=O)Cc2cncc3ccccc23)[C@@H](C)C1 0.7000000000000001\n",
      "78 (15, 'CCc1:c(-O):n(-c2:c:n:c:c:c:2):c(=O):n:1', 440) CC(=O)N1C[C@@H]2C[C@H]1c1c([O-])n(-c3cncc4ccccc34)c(=O)n12 0.5000000000000001\n",
      "79 (18, 'CCCN(-C(=O)-Cc1:c:n:c:c2:c:c:c:c:c:1:2)-C', 414) CC1CCN(C(=O)Cc2cncc3ccccc23)CC1 0.6000000000000001\n"
     ]
    },
    {
     "name": "stderr",
     "output_type": "stream",
     "text": [
      " 43%|██████████████████                        | 84/195 [00:06<00:10, 10.36it/s]"
     ]
    },
    {
     "name": "stdout",
     "output_type": "stream",
     "text": [
      "80 (29, 'CNC(=O)-CN1CC(-C(=O)-Nc2:c:n:c:c3:c:c:c:c:c:2:3)-c2:c:c:c:c:c:2-C1=O', 649) CNC(=O)CN1C[C@@]2(C(=O)N(c3cncc4ccccc34)C[C@@H]2CS(=O)(=O)N(C)C)c2cc(F)ccc2C1=O 0.7000000000000001\n",
      "81 (21, 'Cn1:n:c:c2:c:n:c:c(-NC(=O)-Cc3:c:c:c:c(-Cl):c:3):c:1:2', 522) Cn1ncc2cncc(NC(=O)[C@@H]3CNS(=O)(=O)c4ccc(Cl)cc43)c21 0.7000000000000001\n",
      "82 (16, 'CN(-c1:c:n:c:c2:c:c:c:c:c:1:2)-C(=O)-C-[#6]', 0) CCO[C@H]1CN(c2cncc3ccccc23)C(=O)[C@@]12CN(CC(=O)NC)C(=O)c1ccc(Cl)cc12 0.6000000000000001\n",
      "83 (32, 'CNC(=O)-CN1CC2(-C(=O)-N(-c3:c:n:c:c4:c:c:c:c:c:3:4)-CC2)-c2:c:c(-Cl):c:c:c:2-C1=O', 640) CNC(=O)CN1C[C@@]2(C(=O)N(c3cncc4ccccc34)C[C@@H]2CNc2scnc2C)c2cc(Cl)ccc2C1=O 0.7000000000000001\n",
      "84 (16, 'C(-C(=O)-N(-c1:c:n:c:c2:c:c:c:c:c:1:2)-C)-[#6]', 0) CNC(=O)CN1C[C@@]2(C(=O)N(c3cncc4ccccc34)C[C@@H]2CC#N)c2cc(Cl)ccc2C1=O 0.6000000000000001\n",
      "85 (32, 'CNC(=O)-CN1CC2(-C(=O)-N(-c3:c:n:c:c4:c:c:c:c:c:3:4)-CC2)-c2:c:c(-Cl):c:c:c:2-C1=O', 640) CNC(=O)CN1C[C@@]2(C(=O)N(c3cncc4ccccc34)C[C@@H]2COC)c2cc(Cl)ccc2C1=O 0.8\n",
      "86 (16, 'CN(-c1:c:n:c:c2:c:c:c:c:c:1:2)-C(=O)-C-[#6]', 0) C[C@H]1CN(c2cncc3ccccc23)C(=O)[C@@]12CN(CCN1CCS(=O)(=O)CC1)C(=O)c1ccc(Cl)cc12 0.5000000000000001\n"
     ]
    },
    {
     "name": "stderr",
     "output_type": "stream",
     "text": [
      " 45%|██████████████████▉                       | 88/195 [00:06<00:08, 13.04it/s]"
     ]
    },
    {
     "name": "stdout",
     "output_type": "stream",
     "text": [
      "87 (32, 'CNC(=O)-CN1CC2(-C(=O)-N(-c3:c:n:c:c4:c:c:c:c:c:3:4)-CC2)-c2:c:c(-Cl):c:c:c:2-C1=O', 640) CNC(=O)CN1C[C@@]2(C(=O)N(c3cncc4ccccc34)C[C@@H]2Cc2ccccc2)c2cc(Cl)ccc2C1=O 0.7000000000000001\n",
      "88 (28, 'C1CN(-c2:c:n:c:c3:c:c:c:c:c:2:3)-C(=O)-C12CN(-CC)-C(=O)-c1:c:c:c:c:c-2:1', 640) C[C@H]1CN(c2cncc3ccccc23)C(=O)[C@@]12CN(CC#N)C(=O)c1ccc(F)cc12 0.7000000000000001\n"
     ]
    },
    {
     "name": "stderr",
     "output_type": "stream",
     "text": [
      " 47%|███████████████████▌                      | 91/195 [00:07<00:12,  8.19it/s]"
     ]
    },
    {
     "name": "stdout",
     "output_type": "stream",
     "text": [
      "89 (23, 'O=C(-Cc1:c:n:c:c2:c:c:c:c:c:1:2)-N(-Cc1:c:c:c:c(-Cl):c:1)-[#6]', 698) O=C(Cc1cncc2ccccc12)N(Cc1cccc(Cl)c1)[C@]12C[N@@H+](C3CC3)[C@H](C1)C2 0.6000000000000001\n",
      "90 (10, 'c1:c:n:c:c2:c:c:c:c:c:1:2', 379) CC(C)C1CCN(C(=O)Cc2cncc3ccccc23)CC1 0.7000000000000001\n",
      "91 (32, 'CNC(=O)-CN1CC2(-C(=O)-N(-c3:c:n:c:c4:c:c:c:c:c:3:4)-CC2)-c2:c:c(-Cl):c:c:c:2-C1=O', 640) CNC(=O)CN1C[C@@]2(C(=O)N(c3cncc4ccccc34)C[C@@H]2CNc2cnc(C)s2)c2cc(Cl)ccc2C1=O 0.7000000000000001\n",
      "92 (16, 'C(-C(=O)-N(-c1:c:n:c:c2:c:c:c:c:c:1:2)-C)-[#6]', 0) CNC(=O)CN1C[C@@]2(C(=O)N(c3cncc4ccccc34)C[C@@H]2Cc2nn[n-]n2)c2cc(Cl)ccc2C1=O 0.5000000000000001\n"
     ]
    },
    {
     "name": "stderr",
     "output_type": "stream",
     "text": [
      " 49%|████████████████████▋                     | 96/195 [00:07<00:10,  9.70it/s]"
     ]
    },
    {
     "name": "stdout",
     "output_type": "stream",
     "text": [
      "93 (31, 'CNC(=O)-CN1CC2(-C(=O)-N(-c3:c:n:c:c4:c:c:c:c:c:3:4)-CC2)-c2:c:c:c:c:c:2-C1=O', 640) CNC(=O)CN1C[C@@]2(C(=O)N(c3cncc4ccccc34)C[C@@H]2COC(C)C)c2cc(F)ccc2C1=O 0.7000000000000001\n",
      "94 (16, 'C(-C(=O)-N(-c1:c:n:c:c2:c:c:c:c:c:1:2)-C)-[#6]', 0) CCn1nccc1CN1C[C@@]2(C(=O)N(c3cncc4ccccc34)C[C@@H]2C)c2cc(F)ccc2C1=O 0.5000000000000001\n",
      "95 (13, 'C(=O)-Nc1:c:n:c:c2:c:c:c:c:c:1:2', 759) C=C(CN(C(=O)Nc1cncc2ccccc12)c1cccc(Cl)c1)C(=O)NCC 0.7000000000000001\n",
      "96 (16, 'C(-C(=O)-N(-c1:c:n:c:c2:c:c:c:c:c:1:2)-C)-[#6]', 0) CNC(=O)CN1C[C@@]2(C(=O)N(c3cncc4ccccc34)C[C@@H]2CCl)c2cc(Cl)ccc2C1=O 0.6000000000000001\n"
     ]
    },
    {
     "name": "stderr",
     "output_type": "stream",
     "text": [
      " 55%|██████████████████████▍                  | 107/195 [00:07<00:04, 21.52it/s]"
     ]
    },
    {
     "name": "stdout",
     "output_type": "stream",
     "text": [
      "97 (22, 'cN(-Cc1:c:c:c:c:c:1)-C(=O)-Cc1:c:n:c:c2:c:c:c:c:c:1:2', 698) CCC(=O)Nc1cccc(N(Cc2ccccc2)C(=O)Cc2cncc3ccccc23)c1 0.7000000000000001\n",
      "98 (16, 'C(-C(=O)-N(-c1:c:n:c:c2:c:c:c:c:c:1:2)-C)-[#6]', 0) CNC(=O)CN1C[C@@]2(C(=O)N(c3cncc4ccccc34)C[C@@H]2COC)c2cc(Cl)ccc2C1=O 0.6000000000000001\n",
      "99 (16, 'CN(-c1:c:n:c:c2:c:c:c:c:c:1:2)-C(=O)-C-[#6]', 0) CCS(=O)(=O)N[C@H]1CN(c2cncc3ccccc23)C(=O)[C@@]12CN(CC(=O)NC)C(=O)c1ccc(Cl)cc12 0.5000000000000001\n",
      "100 (16, 'C(-C(=O)-N(-c1:c:n:c:c2:c:c:c:c:c:1:2)-C)-[#6]', 0) CNC(=O)CN1C[C@@]2(C(=O)N(c3cncc4ccccc34)C[C@@H]2C)c2cc(F)ccc2C1=O 0.6000000000000001\n",
      "101 (10, 'c1:c:n:c:c2:c:c:c:c:c:1:2', 0) C[C@H]1CCN(C(=O)Cc2cncc3ccccc23)CCO1 0.5000000000000001\n",
      "102 (15, 'C(-C(=O)-Nc1:c:n:c:c2:c:c:c:c:c:1:2)-[#6]', 0) CN1C[C@@H](C(=O)Nc2cncc3ccccc23)c2cc(Cl)ccc2C1=O 0.6000000000000001\n",
      "103 (10, 'c1:c:n:c:c2:c:c:c:c:c:1:2', 0) O=C(Cc1cncc2ccccc12)N1CCc2sccc2C1 0.5000000000000001\n",
      "104 (16, 'C(-C(=O)-N(-c1:c:n:c:c2:c:c:c:c:c:1:2)-C)-[#6]', 0) Cc1nnc(CN2C[C@@]3(C(=O)N(c4cncc5ccccc45)C[C@@H]3CNc3ccncn3)c3cc(Cl)ccc3C2=O)o1 0.5000000000000001\n",
      "105 (32, 'CNC(=O)-CN1CC2(-C(=O)-N(-c3:c:n:c:c4:c:c:c:c:c:3:4)-CC2)-c2:c:c(-Cl):c:c:c:2-C1=O', 640) CCNC(=O)CN1C[C@@]2(C(=O)N(c3cncc4ccccc34)C[C@@H]2C)c2cc(Cl)ccc2C1=O 0.8\n",
      "106 (16, 'C(-C(=O)-N(-c1:c:n:c:c2:c:c:c:c:c:1:2)-C)-[#6]', 0) CNC(=O)CN1C[C@@]2(C(=O)N(c3cncc4ccccc34)C[C@@H]2CNc2ccncn2)c2cc(Cl)ccc2C1=O 0.5000000000000001\n",
      "107 (10, 'c1:c:n:c:c2:c:c:c:c:c:1:2', 13) O=C1c2ccc(Cl)cc2[C@@]2(CN1CC[NH+]1CC3(COC3)C1)C(=O)N(c1cncc3ccccc13)C[C@@H]2CNc1ncccn1 0.5000000000000001\n"
     ]
    },
    {
     "name": "stderr",
     "output_type": "stream",
     "text": [
      " 57%|███████████████████████▎                 | 111/195 [00:07<00:04, 18.46it/s]"
     ]
    },
    {
     "name": "stdout",
     "output_type": "stream",
     "text": [
      "108 (11, '[#7]-c1:c:n:c:c2:c:c:c:c:c:1:2', 759) Cn1c(Cc2ccccc2)nn(-c2cncc3ccccc23)c1=O 0.6000000000000001\n",
      "109 (16, 'C(-C(=O)-N(-c1:c:n:c:c2:c:c:c:c:c:1:2)-C)-[#6]', 0) CNC(=O)CN1C[C@@]2(C(=O)N(c3cncc4ccccc34)C[C@@H]2CNc2cnccn2)c2cc(Cl)ccc2C1=O 0.5000000000000001\n",
      "110 (16, 'C(-C(-N(-C)-c1:c:n:c:c2:c:c:c:c:c:1:2)=O)-[#6]', 0) Cn1ccc(CN2C[C@]3(CCN(c4cncc5ccccc45)C3=O)c3cc(Cl)ccc3C2=O)n1 0.6000000000000001\n",
      "111 (29, 'C1CN(-c2:c:n:c:c3:c:c:c:c:c:2:3)-C(=O)-C12CN(-C-[#6])-C(=O)-c1:c:c:c(-Cl):c:c-2:1', 640) COC[C@H]1CN(c2cncc3ccccc23)C(=O)[C@@]12CN(Cc1c[nH+]c[nH]1)C(=O)c1ccc(Cl)cc12 0.7000000000000001\n"
     ]
    },
    {
     "name": "stderr",
     "output_type": "stream",
     "text": [
      " 58%|███████████████████████▉                 | 114/195 [00:08<00:05, 16.17it/s]"
     ]
    },
    {
     "name": "stdout",
     "output_type": "stream",
     "text": [
      "112 (25, 'N(-c1:c:n:c:c2:c:c:c:c:c:1:2)-C(=O)-C1CN(-Cc)-Cc2:c:c:c:c:c-1:2', 643) C[C@H]1CN(c2cncc3ccccc23)C(=O)[C@@]12CN(Cc1ncccn1)C(=O)c1ccc(F)cc12 0.7000000000000001\n",
      "113 (32, 'CNC(=O)-CN1CC2(-C(=O)-N(-c3:c:n:c:c4:c:c:c:c:c:3:4)-CC2)-c2:c:c(-Cl):c:c:c:2-C1=O', 640) CNC(=O)CN1C[C@@]2(C(=O)N(c3cncc4ccccc34)CC2(C)C)c2cc(Cl)ccc2C1=O 0.8\n",
      "114 (25, 'CN1CC(-C(=O)-Nc2:c:n:c:c3:c:c:c:c:c:2:3)-c2:c:c(-Cl):c:c:c:2-C1', 745) CN1C[C@@H](C(=O)Nc2cncc3ccccc23)c2cc(Cl)ccc2C1=O 0.8\n"
     ]
    },
    {
     "name": "stderr",
     "output_type": "stream",
     "text": [
      " 62%|█████████████████████████▏               | 120/195 [00:08<00:04, 18.45it/s]"
     ]
    },
    {
     "name": "stdout",
     "output_type": "stream",
     "text": [
      "115 (32, 'CNC(=O)-CN1CC2(-C(=O)-N(-c3:c:n:c:c4:c:c:c:c:c:3:4)-CC2)-c2:c:c(-Cl):c:c:c:2-C1=O', 640) CNC(=O)CN1C[C@@]2(C(=O)N(c3cncc4ccccc34)C[C@@H]2Cc2nn[n-]n2)c2cc(Cl)ccc2C1=O 0.7000000000000001\n",
      "116 (10, 'c1:c:n:c:c2:c:c:c:c:c:1:2', 0) O=C(Cc1cncc2ccccc12)N1CCCSC[C@H]1C(F)(F)F 0.40000000000000013\n",
      "117 (16, 'C(-C(=O)-N(-c1:c:n:c:c2:c:c:c:c:c:1:2)-C)-[#6]', 0) CNC(=O)CN1C[C@@]2(C(=O)N(c3cncc4ccccc34)C[C@@H]2CNc2cnc(C)s2)c2cc(Cl)ccc2C1=O 0.5000000000000001\n",
      "118 (30, 'Cn1:n:c:c:c:1-CN1CC(-C(=O)-Nc2:c:n:c:c3:c:c:c:c:c:2:3)-c2:c:c:c:c:c:2-C1', 643) CCn1nccc1CN1C[C@@]2(C(=O)N(c3cncc4ccccc34)C[C@@H]2C)c2cc(F)ccc2C1=O 0.7000000000000001\n",
      "119 (16, 'CN(-c1:c:n:c:c2:c:c:c:c:c:1:2)-C(=O)-C-[#6]', 0) C[C@H]1CN(c2cncc3ccccc23)C(=O)[C@@]12CN(Cc1ccncn1)C(=O)c1ccc(F)cc12 0.5000000000000001\n",
      "120 (10, 'c1:c:n:c:c2:c:c:c:c:c:1:2', 379) O=C(Cc1cncc2ccccc12)N1CCC2(CCC2)CC1 0.7000000000000001\n"
     ]
    },
    {
     "name": "stderr",
     "output_type": "stream",
     "text": [
      " 63%|█████████████████████████▊               | 123/195 [00:08<00:04, 15.41it/s]"
     ]
    },
    {
     "name": "stdout",
     "output_type": "stream",
     "text": [
      "121 (20, 'O=C(-Cc1:c:n:c:c2:c:c:c:c:c:1:2)-NCCCCCC', 414) O=C(Cc1cncc2ccccc12)N1CCC(C2CC2)CC1 0.6000000000000001\n",
      "122 (32, 'CNC(=O)-CN1CC2(-C(=O)-N(-c3:c:n:c:c4:c:c:c:c:c:3:4)-CC2)-c2:c:c(-Cl):c:c:c:2-C1=O', 640) CNC(=O)CN1C[C@@]2(C(=O)N(c3cncc4ccccc34)C[C@@H]2CO)c2cc(Cl)ccc2C1=O 0.8\n",
      "123 (17, 'CN(-c1:c:n:c:c2:c:c:c:c:c:1:2)-C(=O)-C(-C)-[#6]', 0) COC[C@H]1CN(c2cncc3ccccc23)C(=O)[C@@]12CN(Cc1ncc[nH]1)C(=O)c1ccc(Cl)cc12 0.6000000000000001\n",
      "124 (10, 'c1:c:n:c:c2:c:c:c:c:c:1:2', 0) O=C(Cc1cncc2ccccc12)N1CCc2sccc2C1 0.5000000000000001\n"
     ]
    },
    {
     "name": "stderr",
     "output_type": "stream",
     "text": [
      " 66%|███████████████████████████              | 129/195 [00:09<00:04, 15.50it/s]"
     ]
    },
    {
     "name": "stdout",
     "output_type": "stream",
     "text": [
      "125 (28, 'C1CN(-c2:c:n:c:c3:c:c:c:c:c:2:3)-C(=O)-C12CN(-C-[#6])-C(=O)-c1:c:c:c:c:c-2:1', 640) C[C@H]1CN(c2cncc3ccccc23)C(=O)[C@@]12CN(Cc1nc[nH]n1)C(=O)c1ccc(F)cc12 0.6000000000000001\n",
      "126 (16, '[#6]-CC(=O)-N(-c1:c:n:c:c2:c:c:c:c:c:1:2)-C', 0) O=C1c2ccc(Cl)cc2[C@@]2(CN1Cc1ccnnc1)C(=O)N(c1cncc3ccccc13)C[C@@H]2CNc1nncs1 0.5000000000000001\n",
      "127 (28, 'C1CN(-c2:c:n:c:c3:c:c:c:c:c:2:3)-C(=O)-C12CN(-C-[#6])-C(=O)-c1:c:c:c:c:c-2:1', 640) C[C@H]1CN(c2cncc3ccccc23)C(=O)[C@@]12CN(Cc1cocn1)C(=O)c1ccc(F)cc12 0.7000000000000001\n",
      "128 (16, 'CN(-c1:c:n:c:c2:c:c:c:c:c:1:2)-C(=O)-C-[#6]', 0) C[C@H]1CN(c2cncc3ccccc23)C(=O)[C@@]12CN(CC[N@@H+]1CCC3(COC3)C1)C(=O)c1ccc(Cl)cc12 0.5000000000000001\n",
      "129 (19, 'C(-c:c:c)-N(-C)-C(=O)-Cc1:c:n:c:c2:c:c:c:c:c:1:2', 414) CC[C@H]1c2ccsc2CCN1C(=O)Cc1cncc2ccccc12 0.7000000000000001\n",
      "130 (16, 'C(-C(-N(-C)-c1:c:n:c:c2:c:c:c:c:c:1:2)=O)-[#6]', 0) Cn1ccc(CN2C[C@]3(CCN(c4cncc5ccccc45)C3=O)c3cc(Cl)ccc3C2=O)n1 0.6000000000000001\n",
      "131 (17, 'CN(-c1:c:n:c:c2:c:c:c:c:c:1:2)-C(=O)-C(-C)-[#6]', 0) C[C@H]1CN(c2cncc3ccccc23)C(=O)[C@@]12CN(CC[NH+]1CCOCC1)C(=O)c1ccc(Cl)cc12 0.6000000000000001\n"
     ]
    },
    {
     "name": "stderr",
     "output_type": "stream",
     "text": [
      " 70%|████████████████████████████▌            | 136/195 [00:09<00:02, 21.04it/s]"
     ]
    },
    {
     "name": "stdout",
     "output_type": "stream",
     "text": [
      "132 (18, 'CCCCC(=O)-N(-c1:c:n:c:c2:c:c:c:c:c:1:2)-C', 0) CNC(=O)CN1C(=O)C2=CC=C(Cl)C[C@@]23[C@@H]1[C@]31C(=O)N(c2cncc3ccccc23)C/C1=C\\F 0.5000000000000001\n",
      "133 (27, '[#6]-CN1CC2(-C(=O)-N(-c3:c:n:c:c4:c:c:c:c:c:3:4)-CC2)-c2:c:c:c:c:c:2-C1', 601) Cc1cc(CN2C[C@@]3(C(=O)N(c4cncc5ccccc45)C[C@@H]3C)c3cc(F)ccc3C2=O)on1 0.7000000000000001\n",
      "134 (10, 'c1:c:n:c:c2:c:c:c:c:c:1:2', 0) O=C(Cc1cncc2ccccc12)N1CC[C@H]2CCC(F)(F)C[C@H]2C1 0.5000000000000001\n",
      "135 (16, 'C(-C(=O)-N(-c1:c:n:c:c2:c:c:c:c:c:1:2)-C)-[#6]', 0) C[NH2+]CCN1C[C@@]2(C(=O)N(c3cncc4ccccc34)C[C@@H]2COCC2(F)CC2)c2cc(Cl)ccc2C1=O 0.5000000000000001\n"
     ]
    },
    {
     "name": "stderr",
     "output_type": "stream",
     "text": [
      " 71%|█████████████████████████████▏           | 139/195 [00:09<00:04, 12.24it/s]"
     ]
    },
    {
     "name": "stdout",
     "output_type": "stream",
     "text": [
      "136 (23, 'O=C(-Cc1:c:n:c:c2:c:c:c:c:c:1:2)-N(-Cc1:c:c:c:c(-Cl):c:1)-[#6]', 698) O=C(Cc1cncc2ccccc12)N(Cc1cccc(Cl)c1)[C@]12CC[C@H](C1)[N@H+](CC1COC1)C2 0.6000000000000001\n",
      "137 (4, 'N(-[#6])-CC', 13) Cc1nc(CN2C[C@@]3(C(=O)N(c4cncc5ccccc45)C[C@@H]3C)c3cc(F)ccc3C2=O)no1 0.6000000000000001\n",
      "138 (23, 'cN(-Cc1:c:c:c:c(-Cl):c:1)-C(=O)-Cc1:c:n:c:c2:c:c:c:c:c:1:2', 698) C=CC(=O)N1CCCc2c1cccc2[N@@H+](Cc1cccc(Cl)c1)C(=O)Cc1cncc2ccccc12 0.7000000000000001\n",
      "139 (21, 'C(-C)-CC(-C)-CCNC(=O)-Cc1:c:n:c:c2:c:c:c:c:c:1:2', 414) CC(C)CC1(C)CCN(C(=O)Cc2cncc3ccccc23)CC1 0.7000000000000001\n",
      "140 (13, 'CCc1:c:c:c(-N(-Cc)-C-[#6]):c:c:1', 6) CCC(=O)N1CCCc2ccc(N(Cc3cccc(Cl)c3)C(=O)Cc3cncc4c(F)cccc34)cc21 0.5000000000000001\n",
      "141 (16, 'CN(-c1:c:n:c:c2:c:c:c:c:c:1:2)-C(=O)-C-[#6]', 0) C[C@H]1CN(c2cncc3ccccc23)C(=O)[C@@]12CN(Cc1nnn(C)n1)C(=O)c1ccc(F)cc12 0.5000000000000001\n"
     ]
    },
    {
     "name": "stderr",
     "output_type": "stream",
     "text": [
      " 73%|██████████████████████████████           | 143/195 [00:10<00:03, 13.79it/s]"
     ]
    },
    {
     "name": "stdout",
     "output_type": "stream",
     "text": [
      "142 (28, 'C1CN(-c2:c:n:c:c3:c:c:c:c:c:2:3)-C(=O)-C12CN(-CC)-C(=O)-c1:c:c:c:c:c-2:1', 640) C[C@H]1CN(c2cncc3ccccc23)C(=O)[C@@]12CN(CC#N)C(=O)c1ccc(F)cc12 0.7000000000000001\n",
      "143 (16, 'CN(-c1:c:n:c:c2:c:c:c:c:c:1:2)-C(=O)-C-[#6]', 0) C[C@H]1CN(c2cncc3ccccc23)C(=O)[C@@]12CN(Cc1nccn1C)C(=O)c1ccc(F)cc12 0.5000000000000001\n",
      "144 (17, 'CC(-C(=O)-N(-c1:c:n:c:c2:c:c:c:c:c:1:2)-C)-[#6]', 0) CNC(=O)CN1C[C@@]2(C(=O)N(c3cncc4ccccc34)C[C@@H]2NC(C)=O)c2cc(Cl)ccc2C1=O 0.6000000000000001\n",
      "145 (21, 'O=C(-Cc1:c:n:c:c2:c:c:c:c:c:1:2)-N(-[#6])-Cc1:c:s:c:c:1', 106) O=C(Cc1cncc2ccccc12)N1CCCc2sccc2C1 0.6000000000000001\n"
     ]
    },
    {
     "name": "stderr",
     "output_type": "stream",
     "text": [
      " 79%|████████████████████████████████▍        | 154/195 [00:10<00:01, 20.97it/s]"
     ]
    },
    {
     "name": "stdout",
     "output_type": "stream",
     "text": [
      "146 (19, 'O=C(-Cc1:c:n:c:c2:c:c:c:c:c:1:2)-N(-C-[#6])-CC-[#6]', 414) O=C(Cc1cncc2ccccc12)N1CCCC[C@H]1Cc1ccccc1 0.7000000000000001\n",
      "147 (16, 'CN(-c1:c:n:c:c2:c:c:c:c:c:1:2)-C(=O)-C-[#6]', 0) C[C@H]1CN(c2cncc3ccccc23)C(=O)[C@@]12CN(C1C[NH2+]C1)C(=O)c1ccc(Cl)cc12 0.6000000000000001\n",
      "148 (16, 'CN(-c1:c:n:c:c2:c:c:c:c:c:1:2)-C(=O)-C-[#6]', 0) C[C@H]1CN(c2cncc3ccccc23)C(=O)[C@@]12CN(Cc1ccon1)C(=O)c1ccc(F)cc12 0.5000000000000001\n",
      "149 (16, 'C(-C(=O)-N(-c1:c:n:c:c2:c:c:c:c:c:1:2)-C)-[#6]', 0) COc1cccc(CNC(=O)CN2C[C@@]3(C(=O)N(c4cncc5ccccc45)C[C@@H]3C)c3cc(Cl)ccc3C2=O)c1 0.5000000000000001\n",
      "150 (26, 'O=C1NC2(-CC(-c3:c:c:c:c:c:3)-C2)-C(=O)-N1-c1:c:n:c:c2:c:c:c:c:c:1:2', 111) O=C1N[C@]2(C[C@H](c3ccccc3Cl)C2)C(=O)N1c1cncc2ccccc12 0.8\n",
      "151 (16, 'CN(-c1:c:n:c:c2:c:c:c:c:c:1:2)-C(=O)-C-[#6]', 0) C[C@H]1CN(c2cncc3ccccc23)C(=O)[C@@]12CN(CC[NH+](C)C)C(=O)c1ccc(Cl)cc12 0.6000000000000001\n",
      "152 (15, 'CC(-C)(-C)-c1:c:c:c(-N(-Cc)-C-[#6]):c:c:1', 6) CC(C)(C#N)c1ccc(N(Cc2cccc(Cl)c2)C(=O)Cc2cncc3ccccc23)cc1 0.5000000000000001\n",
      "153 (32, 'CNC(=O)-CN1CC2(-C(=O)-N(-c3:c:n:c:c4:c:c:c:c:c:3:4)-CC2)-c2:c:c(-Cl):c:c:c:2-C1=O', 453) CNC(=O)CN1C[C@@]2(C(=O)N(c3cncc4ccccc34)C[C@@H]2CNc2cnccn2)c2cc(Cl)ccc2C1=O 0.7000000000000001\n",
      "154 (33, 'COC(=O)-NC(-C(=O)-N1CC(-C(-F)(-F)-F)-CC1C(=O)-NC(-C)-CC1CCNC1=O)-C(-C)(-C)-C', 10) COC(=O)N[C@H](C(=O)N1C[C@H](C(F)(F)F)C[C@H]1C(=O)N[C@H](C[NH3+])C[C@@H]1CCNC1=O)C(C)(C)C 0.8\n"
     ]
    },
    {
     "name": "stderr",
     "output_type": "stream",
     "text": [
      " 83%|█████████████████████████████████▊       | 161/195 [00:10<00:01, 20.68it/s]"
     ]
    },
    {
     "name": "stdout",
     "output_type": "stream",
     "text": [
      "155 (31, 'N(-c1:c:n:c:c2:c:c:c:c:c:1:2)-C(=O)-C1CN(-CCNCCO)-C(=O)-c2:c:c:c(-Cl):c:c-1:2', 130) C[C@H]1CN(c2cncc3ccccc23)C(=O)[C@@]12CN(CC[NH+]1CCOCC1)C(=O)c1ccc(Cl)cc12 0.7000000000000001\n",
      "156 (28, 'C1CN(-c2:c:n:c:c3:c:c:c:c:c:2:3)-C(=O)-C12CN(-C-[#6])-C(=O)-c1:c:c:c:c:c-2:1', 640) C[C@H]1CN(c2cncc3ccccc23)C(=O)[C@@]12CN(Cc1cocn1)C(=O)c1ccc(F)cc12 0.7000000000000001\n",
      "157 (10, 'c1:c:n:c:c2:c:c:c:c:c:1:2', 0) CC1CCN(C(=O)Cc2cncc3ccccc23)CC1 0.5000000000000001\n",
      "158 (16, 'CN(-c1:c:n:c:c2:c:c:c:c:c:1:2)-C(=O)-C-[#6]', 0) C[C@H]1CN(c2cncc3ccccc23)C(=O)[C@@]12CN(Cc1ccnn1C)C(=O)c1ccc(F)cc12 0.5000000000000001\n",
      "159 (16, 'C(-C(=O)-N(-c1:c:n:c:c2:c:c:c:c:c:1:2)-C)-[#6]', 0) Cc1nc(CN2C[C@@]3(C(=O)N(c4cncc5ccccc45)C[C@@H]3C)c3cc(F)ccc3C2=O)co1 0.5000000000000001\n",
      "160 (32, 'CNC(=O)-CN1CC2(-C(=O)-N(-c3:c:n:c:c4:c:c:c:c:c:3:4)-CC2)-c2:c:c(-Cl):c:c:c:2-C1=O', 640) CNC(=O)CN1C[C@@]2(C(=O)N(c3cncc4ccccc34)C[C@@H]2C)c2cc(Cl)ccc2C1=O 0.8\n"
     ]
    },
    {
     "name": "stderr",
     "output_type": "stream",
     "text": [
      " 87%|███████████████████████████████████▌     | 169/195 [00:11<00:01, 25.59it/s]"
     ]
    },
    {
     "name": "stdout",
     "output_type": "stream",
     "text": [
      "161 (19, 'N1C(=O)-N(-c2:c:n:c:c3:c:c:c:c:c:2:3)-C(=O)-C1(-C)-C', 379) CN1C(=O)N(c2cncc3ccccc23)C(=O)C12CN(S(=O)(=O)C1CC1)C2 0.6000000000000001\n",
      "162 (16, 'CN(-c1:c:n:c:c2:c:c:c:c:c:1:2)-C(=O)-C-[#6]', 0) C[C@H]1CN(c2cncc3ccccc23)C(=O)[C@@]12CN(Cc1ncco1)C(=O)c1ccc(F)cc12 0.5000000000000001\n",
      "163 (16, 'C(-C(=O)-N(-c1:c:n:c:c2:c:c:c:c:c:1:2)-C)-[#6]', 0) C[C@@H]1COC[C@@H](C)[NH+]1CCN1C[C@@]2(C(=O)N(c3cncc4ccccc34)C[C@@H]2C)c2cc(Cl)ccc2C1=O 0.5000000000000001\n",
      "164 (17, 'CC(-C(=O)-N(-c1:c:n:c:c2:c:c:c:c:c:1:2)-C)-[#6]', 0) CNC(=O)C1(N2C[C@@]3(C(=O)N(c4cncc5ccccc45)C[C@@H]3C)c3cc(Cl)ccc3C2=O)CC1 0.6000000000000001\n",
      "165 (34, 'CNC(=O)-C1(-N2CC3(-C(=O)-N(-c4:c:n:c:c5:c:c:c:c:c:4:5)-CC3)-c3:c:c(-Cl):c:c:c:3-C2=O)-CC1', 640) CNC(=O)C1(N2C[C@@]3(C(=O)N(c4cncc5ccccc45)C[C@@H]3C)c3cc(Cl)ccc3C2=O)CC1 0.8\n",
      "166 (16, 'CN(-c1:c:n:c:c2:c:c:c:c:c:1:2)-C(=O)-C-[#6]', 0) C[C@H]1CN(c2cncc3ccccc23)C(=O)[C@@]12CN(Cc1cocn1)C(=O)c1ccc(F)cc12 0.5000000000000001\n",
      "167 (16, 'C(-C(=O)-N(-c1:c:n:c:c2:c:c:c:c:c:1:2)-C)-[#6]', 0) CNC(=O)CN1C[C@@]2(C(=O)N(c3cncc4ccccc34)C[C@@H]2CNc2ncncn2)c2cc(Cl)ccc2C1=O 0.5000000000000001\n",
      "168 (16, 'C(-C(=O)-N(-c1:c:n:c:c2:c:c:c:c:c:1:2)-C)-[#6]', 0) CNC(=O)CN1C[C@@]2(C(=O)N(c3cncc4ccccc34)C[C@@H]2Cn2cccn2)c2cc(Cl)ccc2C1=O 0.5000000000000001\n",
      "169 (10, 'Cc1:c:n:c:c(:c):c:1:c:c', 13) CCC(=O)N1CCCc2ccc(N(Cc3cccc(Br)c3)C(=O)Cc3cncc4ccccc34)cc21 0.6000000000000001\n",
      "170 (15, 'O=C(-Cc1:c:n:c:c2:c:c:c:c:c:1:2)-N-[#6]', 20) O=C(Cc1cncc2ccccc12)N1CC=CC=CC1 0.6000000000000001\n"
     ]
    },
    {
     "name": "stderr",
     "output_type": "stream",
     "text": [
      " 89%|████████████████████████████████████▎    | 173/195 [00:11<00:01, 12.06it/s]"
     ]
    },
    {
     "name": "stdout",
     "output_type": "stream",
     "text": [
      "171 (22, 'c1:c:c:c:c:c:1-CN(-[#6])-C(=O)-Cc1:c:n:c:c2:c:c:c:c:c:1:2', 698) COc1ccccc1[C@H]1C[C@@H](C)CCN1C(=O)Cc1cncc2ccccc12 0.6000000000000001\n",
      "172 (26, 'c1:c:c:c2:c(:c:1)-C1(-CCO2)-NC(=O)-N(-c2:c:n:c:c3:c:c:c:c:c:2:3)-C1=O', 717) NS(=O)(=O)c1ccc2c(c1)[C@@]1(CCO2)NC(=O)N(c2cncc3ccccc23)C1=O 0.7000000000000001\n",
      "173 (33, 'C1CN(-c2:c:n:c:c3:c:c:c:c:c:2:3)-C(=O)-C12CN(-CC(=O)-NCC1CC1)-Cc1:c:c:c:c:c-2:1', 601) C[C@H]1CN(c2cncc3ccccc23)C(=O)[C@@]12CN(CC(=O)NCC1(F)CC1)C(=O)c1ccc(F)cc12 0.7000000000000001\n"
     ]
    },
    {
     "name": "stderr",
     "output_type": "stream",
     "text": [
      " 90%|█████████████████████████████████████    | 176/195 [00:12<00:01, 12.64it/s]"
     ]
    },
    {
     "name": "stdout",
     "output_type": "stream",
     "text": [
      "174 (32, 'CNC(=O)-CN1CC2(-C(=O)-N(-c3:c:n:c:c4:c:c:c:c:c:3:4)-CC2)-c2:c:c(-Cl):c:c:c:2-C1=O', 640) CNC(=O)CN1C[C@@]2(C(=O)N(c3cncc4ccccc34)CC23CC3)c2cc(Cl)ccc2C1=O 0.8\n",
      "175 (10, 'c1:c:n:c:c2:c:c:c:c:c:1:2', 379) C[C@H]1CCN(C(=O)Cc2cncc3ccccc23)[C@@H](C)C1 0.7000000000000001\n",
      "176 (30, 'N(-c1:c:n:c:c2:c:c:c:c:c:1:2)-C(=O)-C1CN(-Cc2:c:c:n:n:2-C)-Cc2:c:c:c:c:c-1:2', 643) C[C@H]1CN(c2cncc3ccccc23)C(=O)[C@@]12CN(Cc1ccnn1C)C(=O)c1ccc(F)cc12 0.7000000000000001\n"
     ]
    },
    {
     "name": "stderr",
     "output_type": "stream",
     "text": [
      " 93%|██████████████████████████████████████   | 181/195 [00:12<00:01, 12.57it/s]"
     ]
    },
    {
     "name": "stdout",
     "output_type": "stream",
     "text": [
      "177 (11, 'O=C(-Cc1:c:n:c:c:c:1)-N-[#6]', 404) O=C(Cc1cncc2ccccc12)N1CCC(C(F)F)CC1 0.6000000000000001\n",
      "178 (10, 'c1:c:n:c:c2:c:c:c:c:c:1:2', 0) O=C(Cc1cncc2ccccc12)N1CC=CCCC1 0.5000000000000001\n",
      "179 (16, 'CN(-c1:c:n:c:c2:c:c:c:c:c:1:2)-C(=O)-C-[#6]', 0) C[C@H]1CN(c2cncc3ccccc23)C(=O)[C@@]12CN(CC[NH+]1CCC1)C(=O)c1ccc(Cl)cc12 0.6000000000000001\n",
      "180 (19, 'CC(-C)-CCNC(=O)-Cc1:c:n:c:c2:c:c:c:c:c:1:2', 414) CC1(C)CCN(C(=O)Cc2cncc3ccccc23)CC1 0.6000000000000001\n"
     ]
    },
    {
     "name": "stderr",
     "output_type": "stream",
     "text": [
      " 94%|██████████████████████████████████████▍  | 183/195 [00:12<00:00, 12.74it/s]"
     ]
    },
    {
     "name": "stdout",
     "output_type": "stream",
     "text": [
      "181 (31, 'CNC(=O)-CN1CC2(-C(=O)-N(-c3:c:n:c:c4:c:c:c:c:c:3:4)-CC2)-c2:c:c:c:c:c:2-C1=O', 453) CNC(=O)CN1C[C@@]2(C(=O)N(c3cncc4ccccc34)C[C@@H]2CS(=O)(=O)NC)c2cc(F)ccc2C1=O 0.7000000000000001\n",
      "182 (32, 'CNC(=O)-CN1CC2(-C(=O)-N(-c3:c:n:c:c4:c:c:c:c:c:3:4)-CC2)-c2:c:c(-Cl):c:c:c:2-C1=O', 453) CNC(=O)CN1C[C@@]2(C(=O)N(c3cncc4ccccc34)C[C@@H]2CNc2cnccn2)c2cc(Cl)ccc2C1=O 0.7000000000000001\n",
      "183 (16, 'CN(-c1:c:n:c:c2:c:c:c:c:c:1:2)-C(=O)-C-[#6]', 0) C[C@H]1CN(c2cncc3ccccc23)C(=O)[C@@]12CN(Cc1cn[nH]c1)C(=O)c1ccc(F)cc12 0.5000000000000001\n"
     ]
    },
    {
     "name": "stderr",
     "output_type": "stream",
     "text": [
      " 97%|███████████████████████████████████████▋ | 189/195 [00:12<00:00, 17.33it/s]"
     ]
    },
    {
     "name": "stdout",
     "output_type": "stream",
     "text": [
      "184 (29, 'C1CN(-c2:c:n:c:c3:c:c:c:c:c:2:3)-C(=O)-C12CN(-C-[#6])-C(=O)-c1:c:c:c(-Cl):c:c-2:1', 640) COC[C@H]1CN(c2cncc3ccccc23)C(=O)[C@@]12CN(Cc1cn[nH]c1)C(=O)c1ccc(Cl)cc12 0.7000000000000001\n",
      "185 (10, 'c1:c:n:c:c2:c:c:c:c:c:1:2', 0) O=C(Cc1cncc2ccccc12)N1C=CC=CC=C[C@H]1c1ccccc1 0.6000000000000001\n",
      "186 (16, 'C(-C(=O)-N(-c1:c:n:c:c2:c:c:c:c:c:1:2)-C)-[#6]', 0) C[NH2+]CCN1C[C@@]2(C(=O)N(c3cncc4ccccc34)C[C@@H]2C)c2cc(F)ccc2C1=O 0.6000000000000001\n",
      "187 (30, 'Cn1:n:c:c:c:1-CN1CC(-C(=O)-Nc2:c:n:c:c3:c:c:c:c:c:2:3)-c2:c:c:c:c:c:2-C1', 643) CCn1nccc1CN1C[C@@]2(C(=O)N(c3cncc4ccccc34)C[C@@H]2C)c2cc(F)ccc2C1=O 0.7000000000000001\n",
      "188 (12, 'c1:c(-N(-Cc)-C(=O)-C):c:c:c:c:1', 4) CCC(=O)[N@@H+]1CCCc2c(N(Cc3cccc(Cl)c3)C(=O)Cc3cncc4ccccc34)cccc21 0.5000000000000001\n",
      "189 (16, 'C(-C(=O)-N(-c1:c:n:c:c2:c:c:c:c:c:1:2)-C)-[#6]', 0) CNC(=O)CN1C[C@@]2(C(=O)N(c3cncc4ccccc34)C[C@@H]2CS(=O)(=O)N(C)C)c2cc(F)ccc2C1=O 0.5000000000000001\n"
     ]
    },
    {
     "name": "stderr",
     "output_type": "stream",
     "text": [
      " 98%|████████████████████████████████████████▎| 192/195 [00:13<00:00, 14.70it/s]"
     ]
    },
    {
     "name": "stdout",
     "output_type": "stream",
     "text": [
      "190 (13, 'CC(=O)-NCc1:c:c(-Cl):c:c(-[#6]):c:1', 242) CNS(=O)(=O)OCC(=O)N[C@@H](C)c1cc(Cl)cc(-c2ccc(S(N)(=O)=O)cc2)c1 0.5000000000000001\n",
      "191 (32, 'CNC(=O)-CN1CC2(-C(=O)-N(-c3:c:n:c:c4:c:c:c:c:c:3:4)-CC2)-c2:c:c(-Cl):c:c:c:2-C1=O', 453) CNC(=O)CN1C[C@@]2(C(=O)N(c3cncc4ccccc34)C[C@@H]2CNc2ccncn2)c2cc(Cl)ccc2C1=O 0.7000000000000001\n",
      "192 (10, 'c1:c:n:c:c2:c:c:c:c:c:1:2', 0) O=C(Cc1cncc2ccccc12)NCc1cccc(Cl)c1 0.6000000000000001\n"
     ]
    },
    {
     "name": "stderr",
     "output_type": "stream",
     "text": [
      "100%|█████████████████████████████████████████| 195/195 [00:13<00:00, 14.48it/s]"
     ]
    },
    {
     "name": "stdout",
     "output_type": "stream",
     "text": [
      "193 (32, 'CNC(=O)-CN1CC2(-C(=O)-N(-c3:c:n:c:c4:c:c:c:c:c:3:4)-CC2)-c2:c:c(-Cl):c:c:c:2-C1=O', 640) CNC(=O)CN1C[C@@]2(C(=O)N(c3cncc4ccccc34)C[C@@H]2COC(C)C)c2cc(Cl)ccc2C1=O 0.7000000000000001\n",
      "194 (20, 'CCC1(-C)-NC(=O)-N(-c2:c:n:c:c3:c:c:c:c:c:2:3)-C1=O', 379) C[C@@H]1COC[C@@]2(C1)NC(=O)N(c1cncc3ccccc13)C2=O 0.7000000000000001\n"
     ]
    },
    {
     "name": "stderr",
     "output_type": "stream",
     "text": [
      "\n"
     ]
    }
   ],
   "source": [
    "from rdkit.Chem import rdRascalMCES\n",
    "import tqdm\n",
    "MCSs = []\n",
    "opts = rdRascalMCES.RascalOptions()\n",
    "opts.singleLargestFrag = True\n",
    "\n",
    "mols_for_pred = test_mols\n",
    "\n",
    "#find MCS\n",
    "for i,m in enumerate(tqdm.tqdm(mols_for_pred)):\n",
    "    curr_MCS = []\n",
    "    curr_t = targets[i]\n",
    "    opts.similarityThreshold = 0.9\n",
    "    if curr_t == \"MERS-CoV Mpro\":\n",
    "        mols_for_ref = mersmols\n",
    "    else:\n",
    "        mols_for_ref = sarsmols\n",
    "    while len(curr_MCS)==0:\n",
    "        for j,m2 in enumerate(mols_for_ref):\n",
    "            mcr =  rdRascalMCES.FindMCES(m,m2,opts)\n",
    "            if len(mcr)>0:\n",
    "                curr_MCS.append((len(mcr[0].atomMatches()),mcr[0].smartsString,j))\n",
    "        if len(curr_MCS) > 0: #to prevent artefacts\n",
    "            if len(sorted(curr_MCS)[-1][1]) < 10 and opts.similarityThreshold>0.2:\n",
    "                curr_MCS = []\n",
    "        opts.similarityThreshold += -0.1\n",
    "    MCSs.append(sorted(curr_MCS)[-1])\n",
    "    print(i,sorted(curr_MCS)[-1],Chem.MolToSmiles(m),opts.similarityThreshold)"
   ]
  },
  {
   "cell_type": "code",
   "execution_count": 4,
   "id": "c12839c0-f444-4ff9-a6c8-076cd272ae78",
   "metadata": {},
   "outputs": [
    {
     "name": "stderr",
     "output_type": "stream",
     "text": [
      "100%|█████████████████████████████████████████| 195/195 [04:55<00:00,  1.51s/it]\n"
     ]
    }
   ],
   "source": [
    "from rdkit.Chem import rdDistGeom,rdMolAlign,rdShapeAlign\n",
    "import copy\n",
    "\n",
    "def shape_compare(ref,prb,prbId=0):\n",
    "    \"\"\"\n",
    "    crude volume compare to pick out most overlapping pose without translation or rotation\n",
    "    round coords to 3d grid and count common occupied points in grid\n",
    "    \"\"\"\n",
    "    ref_atoms = []\n",
    "    for a in ref.GetAtoms():\n",
    "        coords = list(ref.GetConformer(0).GetAtomPosition(a.GetIdx()))\n",
    "        ref_atoms.append(tuple([round(c,0)//1 for c in coords]))\n",
    "    ref_grid = set(ref_atoms)\n",
    "    prb_atoms = []\n",
    "    for a in prb.GetAtoms():\n",
    "        coords = list(prb.GetConformer(prbId).GetAtomPosition(a.GetIdx()))\n",
    "        prb_atoms.append(tuple([round(c,0)//1 for c in coords]))\n",
    "    prb_grid = set(prb_atoms)\n",
    "    return len(list(prb_grid.intersection(ref_grid)))/len(list(ref_grid))\n",
    "\n",
    "ps = rdDistGeom.ETKDGv3()\n",
    "ps.randomSeed = 0xc0ffee\n",
    "ps.numThreads = 12\n",
    "ps.enforceChirality = False\n",
    "\n",
    "n_conformers = 50\n",
    "\n",
    "def get_pose(mol,ref,smarts):\n",
    "    p = Chem.MolFromSmarts(smarts)\n",
    "    tm = mol.GetSubstructMatch(p)\n",
    "    rm = ref.GetSubstructMatch(p)\n",
    "    r = -1\n",
    "    lrm = 0\n",
    "    while r==-1:\n",
    "        cmap = {}\n",
    "        for i,t in enumerate(tm[lrm:]):\n",
    "            cmap[t] = ref.GetConformer(0).GetAtomPosition(rm[i])\n",
    "        newm = Chem.AddHs(mol)\n",
    "        ps.coordMap = cmap\n",
    "        r = rdDistGeom.EmbedMultipleConfs(newm,n_conformers,ps)\n",
    "        lrm += 1\n",
    "    for i in range(n_conformers):\n",
    "        rdMolAlign.AlignMol(newm,ref,atomMap = list(zip(tm,rm)),prbCid=i)\n",
    "    newmc = copy.deepcopy(newm)\n",
    "    bestidx = 0\n",
    "    bestoverlap = 0\n",
    "    overlaps = []\n",
    "    for i in range(n_conformers):\n",
    "        overlap = shape_compare(ref, newmc, prbId=i)\n",
    "        if overlap > bestoverlap:\n",
    "            bestoverlap = overlap\n",
    "            bestidx = i\n",
    "        overlaps.append(overlap)\n",
    "    newm_best = Chem.Mol(newm,confId=bestidx)\n",
    "    return newm_best\n",
    "\n",
    "final_poses = []\n",
    "for i,MCS in enumerate(tqdm.tqdm(MCSs)):\n",
    "    if targets[i] == \"SARS-CoV-2 Mpro\":\n",
    "        final_poses.append(get_pose(mols_for_pred[i],sarsmols[MCS[2]],MCS[1]))\n",
    "    else:\n",
    "        final_poses.append(get_pose(mols_for_pred[i],mersmols[MCS[2]],MCS[1]))\n",
    "     "
   ]
  },
  {
   "cell_type": "code",
   "execution_count": 8,
   "id": "923533b6-6e1c-4af8-8362-20e5c62cda4d",
   "metadata": {},
   "outputs": [],
   "source": [
    "import base64\n",
    "from rdkit import Chem\n",
    "\n",
    "\n",
    "def serialize_rdkit_mol(mol: Chem.Mol): \n",
    "    props = Chem.PropertyPickleOptions.AllProps\n",
    "    mol_bytes = mol.ToBinary(props)\n",
    "    return base64.b64encode(mol_bytes).decode('ascii')  \n",
    "\n",
    "\n",
    "y_pred_serialized = [serialize_rdkit_mol(mol) for mol in final_poses]\n"
   ]
  },
  {
   "cell_type": "code",
   "execution_count": 9,
   "id": "74b9045b-d812-4eb0-bbaf-f1e4a7abf782",
   "metadata": {},
   "outputs": [],
   "source": [
    "wri = Chem.SDWriter(\"final_preds.sdf\")\n",
    "for m in final_poses:\n",
    "    wri.write(m)\n",
    "wri.close()"
   ]
  },
  {
   "cell_type": "code",
   "execution_count": 10,
   "id": "e88d1de1-3b1f-4bf1-8ffc-e33ea48248ee",
   "metadata": {},
   "outputs": [
    {
     "data": {
      "application/vnd.jupyter.widget-view+json": {
       "model_id": "5fac5b9e0d5043e4a6a2934b7dd2c381",
       "version_major": 2,
       "version_minor": 0
      },
      "text/plain": [
       "Output()"
      ]
     },
     "metadata": {},
     "output_type": "display_data"
    },
    {
     "data": {
      "text/html": [
       "<pre style=\"white-space:pre;overflow-x:auto;line-height:normal;font-family:Menlo,'DejaVu Sans Mono',consolas,'Courier New',monospace\"><span style=\"color: #7fbfbf; text-decoration-color: #7fbfbf\">[18:12:31] </span><span style=\"color: #008000; text-decoration-color: #008000\"> Success: Submitting competition predictions</span>                                               <a href=\"file:///home/wim/anaconda3/envs/my-rdkit-env/lib/python3.12/site-packages/polaris/utils/context.py\" target=\"_blank\"><span style=\"color: #7f7f7f; text-decoration-color: #7f7f7f\">context.py</span></a><span style=\"color: #7f7f7f; text-decoration-color: #7f7f7f\">:</span><a href=\"file:///home/wim/anaconda3/envs/my-rdkit-env/lib/python3.12/site-packages/polaris/utils/context.py#53\" target=\"_blank\"><span style=\"color: #7f7f7f; text-decoration-color: #7f7f7f\">53</span></a>\n",
       "</pre>\n"
      ],
      "text/plain": [
       "\u001b[2;36m[18:12:31]\u001b[0m\u001b[2;36m \u001b[0m\u001b[32m Success: Submitting competition predictions\u001b[0m                                               \u001b]8;id=806688;file:///home/wim/anaconda3/envs/my-rdkit-env/lib/python3.12/site-packages/polaris/utils/context.py\u001b\\\u001b[2mcontext.py\u001b[0m\u001b]8;;\u001b\\\u001b[2m:\u001b[0m\u001b]8;id=474784;file:///home/wim/anaconda3/envs/my-rdkit-env/lib/python3.12/site-packages/polaris/utils/context.py#53\u001b\\\u001b[2m53\u001b[0m\u001b]8;;\u001b\\\n"
      ]
     },
     "metadata": {},
     "output_type": "display_data"
    },
    {
     "data": {
      "text/html": [
       "<pre style=\"white-space:pre;overflow-x:auto;line-height:normal;font-family:Menlo,'DejaVu Sans Mono',consolas,'Courier New',monospace\"></pre>\n"
      ],
      "text/plain": []
     },
     "metadata": {},
     "output_type": "display_data"
    }
   ],
   "source": [
    "competition.submit_predictions(\n",
    "    predictions=y_pred_serialized,\n",
    "    prediction_name=\"MCES_alignment3\",\n",
    "    prediction_owner=\"wim0\",\n",
    "    report_url=\"https://molecular.beauty/blog/2025/03/14/polaris.html\", \n",
    "    # The below metadata is optional, but recommended.\n",
    "    github_url=\"https://github.com/dehaenw/polaris-baseline\",\n",
    "    description=\"Source code and report will be made public once challenge is finished\",\n",
    "    user_attributes={\"Framework\": \"RDKit\", \"Method\": \"MCES constained embedding. pose selection by volume overlap\"}\n",
    ")\n",
    "\n"
   ]
  },
  {
   "cell_type": "code",
   "execution_count": null,
   "id": "70671661-bc5b-42ea-a181-590b72e5ae0a",
   "metadata": {},
   "outputs": [],
   "source": []
  }
 ],
 "metadata": {
  "kernelspec": {
   "display_name": "Python 3 (ipykernel)",
   "language": "python",
   "name": "python3"
  },
  "language_info": {
   "codemirror_mode": {
    "name": "ipython",
    "version": 3
   },
   "file_extension": ".py",
   "mimetype": "text/x-python",
   "name": "python",
   "nbconvert_exporter": "python",
   "pygments_lexer": "ipython3",
   "version": "3.12.2"
  }
 },
 "nbformat": 4,
 "nbformat_minor": 5
}
