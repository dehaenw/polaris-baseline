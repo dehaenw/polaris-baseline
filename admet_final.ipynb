{
 "cells": [
  {
   "cell_type": "code",
   "execution_count": 1,
   "id": "7eda40de-41d4-42fb-95c7-d2e78759f747",
   "metadata": {},
   "outputs": [
    {
     "data": {
      "text/html": [
       "<pre style=\"white-space:pre;overflow-x:auto;line-height:normal;font-family:Menlo,'DejaVu Sans Mono',consolas,'Courier New',monospace\"><span style=\"color: #7fbfbf; text-decoration-color: #7fbfbf\">[2025-03-12 12:08:04] </span><span style=\"color: #000080; text-decoration-color: #000080\">INFO    </span> The version of Polaris that was used to create the artifact <span style=\"font-weight: bold\">(</span><span style=\"color: #008080; text-decoration-color: #008080; font-weight: bold\">0.11</span>.<span style=\"color: #008080; text-decoration-color: #008080; font-weight: bold\">0</span><span style=\"font-weight: bold\">)</span> <a href=\"file:///home/wim/anaconda3/envs/my-rdkit-env/lib/python3.12/site-packages/polaris/_artifact.py\" target=\"_blank\"><span style=\"color: #7f7f7f; text-decoration-color: #7f7f7f\">_artifact.py</span></a><span style=\"color: #7f7f7f; text-decoration-color: #7f7f7f\">:</span><a href=\"file:///home/wim/anaconda3/envs/my-rdkit-env/lib/python3.12/site-packages/polaris/_artifact.py#92\" target=\"_blank\"><span style=\"color: #7f7f7f; text-decoration-color: #7f7f7f\">92</span></a>\n",
       "<span style=\"color: #7fbfbf; text-decoration-color: #7fbfbf\">                      </span>         is different from the currently installed version of Polaris         <span style=\"color: #7f7f7f; text-decoration-color: #7f7f7f\">               </span>\n",
       "<span style=\"color: #7fbfbf; text-decoration-color: #7fbfbf\">                      </span>         <span style=\"font-weight: bold\">(</span><span style=\"color: #008080; text-decoration-color: #008080; font-weight: bold\">0.11</span>.<span style=\"color: #008080; text-decoration-color: #008080; font-weight: bold\">9</span><span style=\"font-weight: bold\">)</span>.                                                            <span style=\"color: #7f7f7f; text-decoration-color: #7f7f7f\">               </span>\n",
       "</pre>\n"
      ],
      "text/plain": [
       "\u001b[2;36m[2025-03-12 12:08:04]\u001b[0m\u001b[2;36m \u001b[0m\u001b[34mINFO    \u001b[0m The version of Polaris that was used to create the artifact \u001b[1m(\u001b[0m\u001b[1;36m0.11\u001b[0m.\u001b[1;36m0\u001b[0m\u001b[1m)\u001b[0m \u001b]8;id=94076;file:///home/wim/anaconda3/envs/my-rdkit-env/lib/python3.12/site-packages/polaris/_artifact.py\u001b\\\u001b[2m_artifact.py\u001b[0m\u001b]8;;\u001b\\\u001b[2m:\u001b[0m\u001b]8;id=640288;file:///home/wim/anaconda3/envs/my-rdkit-env/lib/python3.12/site-packages/polaris/_artifact.py#92\u001b\\\u001b[2m92\u001b[0m\u001b]8;;\u001b\\\n",
       "\u001b[2;36m                      \u001b[0m         is different from the currently installed version of Polaris         \u001b[2m               \u001b[0m\n",
       "\u001b[2;36m                      \u001b[0m         \u001b[1m(\u001b[0m\u001b[1;36m0.11\u001b[0m.\u001b[1;36m9\u001b[0m\u001b[1m)\u001b[0m.                                                            \u001b[2m               \u001b[0m\n"
      ]
     },
     "metadata": {},
     "output_type": "display_data"
    },
    {
     "data": {
      "text/html": [
       "<pre style=\"white-space:pre;overflow-x:auto;line-height:normal;font-family:Menlo,'DejaVu Sans Mono',consolas,'Courier New',monospace\"><span style=\"color: #7fbfbf; text-decoration-color: #7fbfbf\">                      </span><span style=\"color: #808000; text-decoration-color: #808000\">WARNING </span> You're loading data from a remote location. If the dataset is small     <a href=\"file:///home/wim/anaconda3/envs/my-rdkit-env/lib/python3.12/site-packages/polaris/dataset/_base.py\" target=\"_blank\"><span style=\"color: #7f7f7f; text-decoration-color: #7f7f7f\">_base.py</span></a><span style=\"color: #7f7f7f; text-decoration-color: #7f7f7f\">:</span><a href=\"file:///home/wim/anaconda3/envs/my-rdkit-env/lib/python3.12/site-packages/polaris/dataset/_base.py#181\" target=\"_blank\"><span style=\"color: #7f7f7f; text-decoration-color: #7f7f7f\">181</span></a>\n",
       "<span style=\"color: #7fbfbf; text-decoration-color: #7fbfbf\">                      </span>         enough, consider caching the dataset first using                        <span style=\"color: #7f7f7f; text-decoration-color: #7f7f7f\">            </span>\n",
       "<span style=\"color: #7fbfbf; text-decoration-color: #7fbfbf\">                      </span>         <span style=\"color: #800080; text-decoration-color: #800080; font-weight: bold\">CompetitionSpecification.cache</span><span style=\"font-weight: bold\">()</span> for more performant data access.       <span style=\"color: #7f7f7f; text-decoration-color: #7f7f7f\">            </span>\n",
       "</pre>\n"
      ],
      "text/plain": [
       "\u001b[2;36m                     \u001b[0m\u001b[2;36m \u001b[0m\u001b[33mWARNING \u001b[0m You're loading data from a remote location. If the dataset is small     \u001b]8;id=261281;file:///home/wim/anaconda3/envs/my-rdkit-env/lib/python3.12/site-packages/polaris/dataset/_base.py\u001b\\\u001b[2m_base.py\u001b[0m\u001b]8;;\u001b\\\u001b[2m:\u001b[0m\u001b]8;id=735881;file:///home/wim/anaconda3/envs/my-rdkit-env/lib/python3.12/site-packages/polaris/dataset/_base.py#181\u001b\\\u001b[2m181\u001b[0m\u001b]8;;\u001b\\\n",
       "\u001b[2;36m                      \u001b[0m         enough, consider caching the dataset first using                        \u001b[2m            \u001b[0m\n",
       "\u001b[2;36m                      \u001b[0m         \u001b[1;35mCompetitionSpecification.cache\u001b[0m\u001b[1m(\u001b[0m\u001b[1m)\u001b[0m for more performant data access.       \u001b[2m            \u001b[0m\n"
      ]
     },
     "metadata": {},
     "output_type": "display_data"
    }
   ],
   "source": [
    "import polaris as po\n",
    "import numpy as np\n",
    "\n",
    "# Load the competition from the Hub\n",
    "competition = po.load_competition(\"asap-discovery/antiviral-admet-2025\")\n",
    "\n",
    "# Get the train and test data-loaders\n",
    "train, test = competition.get_train_test_split()"
   ]
  },
  {
   "cell_type": "code",
   "execution_count": 25,
   "id": "21cfdda6-01f1-4d61-a73c-b4d2c233b1e2",
   "metadata": {},
   "outputs": [],
   "source": [
    "smis = [t[0] for t in train]\n",
    "y1 = [t[1]['HLM'] for t in train]\n",
    "y2 = [t[1]['MLM'] for t in train]\n",
    "y3 = [t[1]['LogD'] for t in train]\n",
    "y4 = [t[1]['MDR1-MDCKII'] for t in train]\n",
    "y5 = [t[1]['KSOL'] for t in train]"
   ]
  },
  {
   "cell_type": "code",
   "execution_count": 27,
   "id": "adb6ae65-9234-468d-ae1a-5ac9d1448de3",
   "metadata": {},
   "outputs": [],
   "source": [
    "test_smis = [t for t in test]"
   ]
  },
  {
   "cell_type": "code",
   "execution_count": 28,
   "id": "2b162bfd-81c8-4a55-82f2-aa76a2cc5447",
   "metadata": {},
   "outputs": [],
   "source": [
    "#NO logtransforn mdone because the metrics were worse\n",
    "\n",
    "y1 = [y for y in y1 if not np.isnan(y)]\n",
    "y2 = [y for y in y2 if not np.isnan(y)]\n",
    "y3 = [y for y in y3 if not np.isnan(y)]\n",
    "y4 = [y for y in y4 if not np.isnan(y)]\n",
    "y5 = [y for y in y5 if not np.isnan(y)]\n",
    "smis1 = [smis[i] for i,y in enumerate(y1) if not np.isnan(y)]\n",
    "smis2 = [smis[i] for i,y in enumerate(y2) if not np.isnan(y)]\n",
    "smis3 = [smis[i] for i,y in enumerate(y3) if not np.isnan(y)]\n",
    "smis4 = [smis[i] for i,y in enumerate(y4) if not np.isnan(y)]\n",
    "smis5 = [smis[i] for i,y in enumerate(y5) if not np.isnan(y)]\n"
   ]
  },
  {
   "cell_type": "code",
   "execution_count": 29,
   "id": "034323a7-3946-4a0d-a897-ffeffa64febb",
   "metadata": {},
   "outputs": [],
   "source": [
    "\n",
    "from rdkit import Chem\n",
    "from rdkit.Chem import Descriptors,rdFingerprintGenerator\n",
    "MFPGEN = rdFingerprintGenerator.GetMorganGenerator(3,fpSize=2048)\n",
    "def calculateDescriptors(mol: Chem.Mol, missingVal: float | None = 0.0) -> dict:\n",
    "    \"\"\"Calculate the full list of descriptors for a molecule.\n",
    "    adapted from\n",
    "    https://github.com/jonswain/tabpfn-tdc/blob/main/submission.py#L12\n",
    "    \"\"\"\n",
    "    \n",
    "    res = []\n",
    "    for nm, fn in Descriptors._descList:\n",
    "        try:\n",
    "            val = fn(mol)\n",
    "        except:\n",
    "            val = missingVal\n",
    "        res.append(val)\n",
    "    return res + list(MFPGEN.GetFingerprint(mol))\n",
    "\n",
    "X1 = [calculateDescriptors(Chem.MolFromSmiles(smi)) for smi in smis1]\n",
    "X2 = [calculateDescriptors(Chem.MolFromSmiles(smi)) for smi in smis2]\n",
    "X3 = [calculateDescriptors(Chem.MolFromSmiles(smi)) for smi in smis3]\n",
    "X4 = [calculateDescriptors(Chem.MolFromSmiles(smi)) for smi in smis4]\n",
    "X5 = [calculateDescriptors(Chem.MolFromSmiles(smi)) for smi in smis5]\n"
   ]
  },
  {
   "cell_type": "code",
   "execution_count": null,
   "id": "57140196-2347-4aba-b3f7-93e363be06af",
   "metadata": {},
   "outputs": [],
   "source": [
    "from tabpfn import TabPFNRegressor\n",
    "\n",
    "#train on entire set\n",
    "X_test = [calculateDescriptors(Chem.MolFromSmiles(smi)) for smi in test_smis]\n",
    "y_pred = {}\n",
    "\n",
    "regressor = TabPFNRegressor(ignore_pretraining_limits=True)  \n",
    "regressor.fit(X1, y1)\n",
    "preds1 = regressor.predict(X_test)\n",
    "regressor = TabPFNRegressor(ignore_pretraining_limits=True)  \n",
    "regressor.fit(X2, y2)\n",
    "preds2 = regressor.predict(X_test)\n",
    "regressor = TabPFNRegressor(ignore_pretraining_limits=True)  \n",
    "regressor.fit(X3, y3)\n",
    "preds3 = regressor.predict(X_test)\n",
    "regressor = TabPFNRegressor(ignore_pretraining_limits=True)  \n",
    "regressor.fit(X4, y4)\n",
    "preds4 = regressor.predict(X_test)\n",
    "regressor = TabPFNRegressor(ignore_pretraining_limits=True)  \n",
    "regressor.fit(X5, y5)\n",
    "preds5 = regressor.predict(X_test)\n",
    "\n",
    "y_pred['HLM'] = preds1\n",
    "y_pred['MLM'] = preds2\n",
    "y_pred['LogD'] = preds3\n",
    "y_pred['MDR1-MDCKII'] = preds4\n",
    "y_pred['KSOL'] = preds5"
   ]
  },
  {
   "cell_type": "code",
   "execution_count": 33,
   "id": "5ccf2a6a-b70a-4b8c-9db5-4c8dd20591e1",
   "metadata": {},
   "outputs": [
    {
     "data": {
      "application/vnd.jupyter.widget-view+json": {
       "model_id": "c16fbcfb726c4bb18d3eea566cf6c48d",
       "version_major": 2,
       "version_minor": 0
      },
      "text/plain": [
       "Output()"
      ]
     },
     "metadata": {},
     "output_type": "display_data"
    },
    {
     "data": {
      "text/html": [
       "<pre style=\"white-space:pre;overflow-x:auto;line-height:normal;font-family:Menlo,'DejaVu Sans Mono',consolas,'Courier New',monospace\"><span style=\"color: #7fbfbf; text-decoration-color: #7fbfbf\">[12:29:57] </span><span style=\"color: #008000; text-decoration-color: #008000\"> Success: Submitting competition predictions</span>                                               <a href=\"file:///home/wim/anaconda3/envs/my-rdkit-env/lib/python3.12/site-packages/polaris/utils/context.py\" target=\"_blank\"><span style=\"color: #7f7f7f; text-decoration-color: #7f7f7f\">context.py</span></a><span style=\"color: #7f7f7f; text-decoration-color: #7f7f7f\">:</span><a href=\"file:///home/wim/anaconda3/envs/my-rdkit-env/lib/python3.12/site-packages/polaris/utils/context.py#53\" target=\"_blank\"><span style=\"color: #7f7f7f; text-decoration-color: #7f7f7f\">53</span></a>\n",
       "</pre>\n"
      ],
      "text/plain": [
       "\u001b[2;36m[12:29:57]\u001b[0m\u001b[2;36m \u001b[0m\u001b[32m Success: Submitting competition predictions\u001b[0m                                               \u001b]8;id=934210;file:///home/wim/anaconda3/envs/my-rdkit-env/lib/python3.12/site-packages/polaris/utils/context.py\u001b\\\u001b[2mcontext.py\u001b[0m\u001b]8;;\u001b\\\u001b[2m:\u001b[0m\u001b]8;id=602340;file:///home/wim/anaconda3/envs/my-rdkit-env/lib/python3.12/site-packages/polaris/utils/context.py#53\u001b\\\u001b[2m53\u001b[0m\u001b]8;;\u001b\\\n"
      ]
     },
     "metadata": {},
     "output_type": "display_data"
    },
    {
     "data": {
      "text/html": [
       "<pre style=\"white-space:pre;overflow-x:auto;line-height:normal;font-family:Menlo,'DejaVu Sans Mono',consolas,'Courier New',monospace\"></pre>\n"
      ],
      "text/plain": []
     },
     "metadata": {},
     "output_type": "display_data"
    }
   ],
   "source": [
    "\n",
    "competition.submit_predictions(\n",
    "    predictions=y_pred,\n",
    "    prediction_name=\"admet-tabPFN\",\n",
    "    prediction_owner=\"wim0\",\n",
    "    report_url=\"https://molecular.beauty/blog/2025/03/14/polaris.html\", \n",
    "    # The below metadata is optional, but recommended.\n",
    "    github_url=\"https://github.com/dehaenw/polaris-baseline\",\n",
    "    description=\"Source code and report will be made public once challenge is finished\",\n",
    "    user_attributes={\"Framework\": \"RDKit + TabPFN\", \"Method\": \"TabPFN on logtransformed data with ECFP and rdkit descriptors\"}\n",
    ")\n"
   ]
  }
 ],
 "metadata": {
  "kernelspec": {
   "display_name": "Python 3 (ipykernel)",
   "language": "python",
   "name": "python3"
  },
  "language_info": {
   "codemirror_mode": {
    "name": "ipython",
    "version": 3
   },
   "file_extension": ".py",
   "mimetype": "text/x-python",
   "name": "python",
   "nbconvert_exporter": "python",
   "pygments_lexer": "ipython3",
   "version": "3.12.2"
  }
 },
 "nbformat": 4,
 "nbformat_minor": 5
}
