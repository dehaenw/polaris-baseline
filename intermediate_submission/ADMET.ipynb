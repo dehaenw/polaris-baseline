{
 "cells": [
  {
   "cell_type": "code",
   "execution_count": 1,
   "id": "e6fe807b-6a34-410a-8b6a-802606fffe66",
   "metadata": {},
   "outputs": [
    {
     "data": {
      "text/html": [
       "<pre style=\"white-space:pre;overflow-x:auto;line-height:normal;font-family:Menlo,'DejaVu Sans Mono',consolas,'Courier New',monospace\"><span style=\"color: #7fbfbf; text-decoration-color: #7fbfbf\">[2025-03-12 11:36:57] </span><span style=\"color: #000080; text-decoration-color: #000080\">INFO    </span> The version of Polaris that was used to create the artifact <span style=\"font-weight: bold\">(</span><span style=\"color: #008080; text-decoration-color: #008080; font-weight: bold\">0.11</span>.<span style=\"color: #008080; text-decoration-color: #008080; font-weight: bold\">0</span><span style=\"font-weight: bold\">)</span> <a href=\"file:///home/wim/anaconda3/envs/my-rdkit-env/lib/python3.12/site-packages/polaris/_artifact.py\" target=\"_blank\"><span style=\"color: #7f7f7f; text-decoration-color: #7f7f7f\">_artifact.py</span></a><span style=\"color: #7f7f7f; text-decoration-color: #7f7f7f\">:</span><a href=\"file:///home/wim/anaconda3/envs/my-rdkit-env/lib/python3.12/site-packages/polaris/_artifact.py#92\" target=\"_blank\"><span style=\"color: #7f7f7f; text-decoration-color: #7f7f7f\">92</span></a>\n",
       "<span style=\"color: #7fbfbf; text-decoration-color: #7fbfbf\">                      </span>         is different from the currently installed version of Polaris         <span style=\"color: #7f7f7f; text-decoration-color: #7f7f7f\">               </span>\n",
       "<span style=\"color: #7fbfbf; text-decoration-color: #7fbfbf\">                      </span>         <span style=\"font-weight: bold\">(</span><span style=\"color: #008080; text-decoration-color: #008080; font-weight: bold\">0.11</span>.<span style=\"color: #008080; text-decoration-color: #008080; font-weight: bold\">9</span><span style=\"font-weight: bold\">)</span>.                                                            <span style=\"color: #7f7f7f; text-decoration-color: #7f7f7f\">               </span>\n",
       "</pre>\n"
      ],
      "text/plain": [
       "\u001b[2;36m[2025-03-12 11:36:57]\u001b[0m\u001b[2;36m \u001b[0m\u001b[34mINFO    \u001b[0m The version of Polaris that was used to create the artifact \u001b[1m(\u001b[0m\u001b[1;36m0.11\u001b[0m.\u001b[1;36m0\u001b[0m\u001b[1m)\u001b[0m \u001b]8;id=726668;file:///home/wim/anaconda3/envs/my-rdkit-env/lib/python3.12/site-packages/polaris/_artifact.py\u001b\\\u001b[2m_artifact.py\u001b[0m\u001b]8;;\u001b\\\u001b[2m:\u001b[0m\u001b]8;id=329406;file:///home/wim/anaconda3/envs/my-rdkit-env/lib/python3.12/site-packages/polaris/_artifact.py#92\u001b\\\u001b[2m92\u001b[0m\u001b]8;;\u001b\\\n",
       "\u001b[2;36m                      \u001b[0m         is different from the currently installed version of Polaris         \u001b[2m               \u001b[0m\n",
       "\u001b[2;36m                      \u001b[0m         \u001b[1m(\u001b[0m\u001b[1;36m0.11\u001b[0m.\u001b[1;36m9\u001b[0m\u001b[1m)\u001b[0m.                                                            \u001b[2m               \u001b[0m\n"
      ]
     },
     "metadata": {},
     "output_type": "display_data"
    },
    {
     "data": {
      "text/html": [
       "<pre style=\"white-space:pre;overflow-x:auto;line-height:normal;font-family:Menlo,'DejaVu Sans Mono',consolas,'Courier New',monospace\"><span style=\"color: #7fbfbf; text-decoration-color: #7fbfbf\">                      </span><span style=\"color: #808000; text-decoration-color: #808000\">WARNING </span> You're loading data from a remote location. If the dataset is small     <a href=\"file:///home/wim/anaconda3/envs/my-rdkit-env/lib/python3.12/site-packages/polaris/dataset/_base.py\" target=\"_blank\"><span style=\"color: #7f7f7f; text-decoration-color: #7f7f7f\">_base.py</span></a><span style=\"color: #7f7f7f; text-decoration-color: #7f7f7f\">:</span><a href=\"file:///home/wim/anaconda3/envs/my-rdkit-env/lib/python3.12/site-packages/polaris/dataset/_base.py#181\" target=\"_blank\"><span style=\"color: #7f7f7f; text-decoration-color: #7f7f7f\">181</span></a>\n",
       "<span style=\"color: #7fbfbf; text-decoration-color: #7fbfbf\">                      </span>         enough, consider caching the dataset first using                        <span style=\"color: #7f7f7f; text-decoration-color: #7f7f7f\">            </span>\n",
       "<span style=\"color: #7fbfbf; text-decoration-color: #7fbfbf\">                      </span>         <span style=\"color: #800080; text-decoration-color: #800080; font-weight: bold\">CompetitionSpecification.cache</span><span style=\"font-weight: bold\">()</span> for more performant data access.       <span style=\"color: #7f7f7f; text-decoration-color: #7f7f7f\">            </span>\n",
       "</pre>\n"
      ],
      "text/plain": [
       "\u001b[2;36m                     \u001b[0m\u001b[2;36m \u001b[0m\u001b[33mWARNING \u001b[0m You're loading data from a remote location. If the dataset is small     \u001b]8;id=464452;file:///home/wim/anaconda3/envs/my-rdkit-env/lib/python3.12/site-packages/polaris/dataset/_base.py\u001b\\\u001b[2m_base.py\u001b[0m\u001b]8;;\u001b\\\u001b[2m:\u001b[0m\u001b]8;id=324773;file:///home/wim/anaconda3/envs/my-rdkit-env/lib/python3.12/site-packages/polaris/dataset/_base.py#181\u001b\\\u001b[2m181\u001b[0m\u001b]8;;\u001b\\\n",
       "\u001b[2;36m                      \u001b[0m         enough, consider caching the dataset first using                        \u001b[2m            \u001b[0m\n",
       "\u001b[2;36m                      \u001b[0m         \u001b[1;35mCompetitionSpecification.cache\u001b[0m\u001b[1m(\u001b[0m\u001b[1m)\u001b[0m for more performant data access.       \u001b[2m            \u001b[0m\n"
      ]
     },
     "metadata": {},
     "output_type": "display_data"
    }
   ],
   "source": [
    "import polaris as po\n",
    "import numpy as np\n",
    "\n",
    "# Load the competition from the Hub\n",
    "competition = po.load_competition(\"asap-discovery/antiviral-admet-2025\")\n",
    "\n",
    "# Get the train and test data-loaders\n",
    "train, test = competition.get_train_test_split()"
   ]
  },
  {
   "cell_type": "code",
   "execution_count": 2,
   "id": "558a6b40-9d68-424f-bb93-60792f78b542",
   "metadata": {},
   "outputs": [],
   "source": [
    "smis = [t[0] for t in train]\n",
    "y1 = [t[1]['HLM'] for t in train]\n",
    "y2 = [t[1]['MLM'] for t in train]\n",
    "y3 = [t[1]['LogD'] for t in train]\n",
    "y4 = [t[1]['MDR1-MDCKII'] for t in train]\n",
    "y5 = [t[1]['KSOL'] for t in train]"
   ]
  },
  {
   "cell_type": "code",
   "execution_count": 3,
   "id": "da024d88-c24c-4260-9ff8-e0e84e64763a",
   "metadata": {},
   "outputs": [],
   "source": [
    "test_smis = [t for t in test]"
   ]
  },
  {
   "cell_type": "code",
   "execution_count": 4,
   "id": "4671a6e4-003a-4ccb-a924-d5f8c7168566",
   "metadata": {},
   "outputs": [],
   "source": [
    "y1 = [y for y in y1 if not np.isnan(y)]\n",
    "y2 = [y for y in y2 if not np.isnan(y)]\n",
    "y3 = [y for y in y3 if not np.isnan(y)]\n",
    "y4 = [y for y in y4 if not np.isnan(y)]\n",
    "y5 = [y for y in y5 if not np.isnan(y)]\n",
    "smis1 = [smis[i] for i,y in enumerate(y1) if not np.isnan(y)]\n",
    "smis2 = [smis[i] for i,y in enumerate(y2) if not np.isnan(y)]\n",
    "smis3 = [smis[i] for i,y in enumerate(y3) if not np.isnan(y)]\n",
    "smis4 = [smis[i] for i,y in enumerate(y4) if not np.isnan(y)]\n",
    "smis5 = [smis[i] for i,y in enumerate(y5) if not np.isnan(y)]\n"
   ]
  },
  {
   "cell_type": "code",
   "execution_count": 5,
   "id": "bb31fd25-e304-4166-8f1d-7c7e41480699",
   "metadata": {},
   "outputs": [],
   "source": [
    "#tNN thresholded nearest neighbor\n",
    "from rdkit import Chem\n",
    "from rdkit.Chem import rdFingerprintGenerator\n",
    "\n",
    "MFPGEN = rdFingerprintGenerator.GetMorganGenerator(3,fpSize=4096)\n",
    "\n",
    "def get_rep(smi):\n",
    "    m = Chem.MolFromSmiles(smi)\n",
    "    fp = MFPGEN.GetCountFingerprint(m)\n",
    "    return fp\n",
    "\n",
    "X1 = [get_rep(smi) for smi in smis1]\n",
    "X2 = [get_rep(smi) for smi in smis2]\n",
    "X3 = [get_rep(smi) for smi in smis3]\n",
    "X4 = [get_rep(smi) for smi in smis4]\n",
    "X5 = [get_rep(smi) for smi in smis5]"
   ]
  },
  {
   "cell_type": "code",
   "execution_count": 8,
   "id": "42472d44-d47d-40da-b9bb-dffb0708cd61",
   "metadata": {},
   "outputs": [],
   "source": [
    "from rdkit import DataStructs\n",
    "from sklearn.metrics import mean_absolute_error\n",
    "\n",
    "\n",
    "t = 0.64 #0.64\n",
    "probe_fps = [get_rep(smi) for smi in test_smis]\n",
    "ref_fps1 = X1\n",
    "ref_fps2 = X2\n",
    "ref_fps3 = X3\n",
    "ref_fps4 = X4\n",
    "ref_fps5 = X5\n",
    "ref_y1 = y1\n",
    "ref_y2 = y2\n",
    "ref_y3 = y3\n",
    "ref_y4 = y4\n",
    "ref_y5 = y5\n",
    "\n",
    "preds1 = []\n",
    "preds2 = []\n",
    "preds3 = []\n",
    "preds4 = []\n",
    "preds5 = []\n",
    "y_pred = {}\n",
    "for j,fp in enumerate(probe_fps):\n",
    "    for ref_fps,preds,ref_y in [(X1,preds1,ref_y1),(X2,preds2,ref_y2),(X3,preds3,ref_y3),(X4,preds4,ref_y4),(X5,preds5,ref_y5)]:\n",
    "        TSs = DataStructs.BulkTanimotoSimilarity(fp,ref_fps)\n",
    "        idx = [i for i,TS in enumerate(TSs) if TS>t]\n",
    "        if len(idx) == 0:\n",
    "            idx = [np.argsort(TSs)[-1]]\n",
    "        pred = np.average([ref_y[v] for v in idx])\n",
    "        preds.append(pred)\n",
    "\n",
    "\n",
    "y_pred['HLM'] = preds1\n",
    "y_pred['MLM'] = preds2\n",
    "y_pred['LogD'] = preds3\n",
    "y_pred['MDR1-MDCKII'] = preds4\n",
    "y_pred['KSOL'] = preds5\n"
   ]
  },
  {
   "cell_type": "code",
   "execution_count": 24,
   "id": "1d798c3c-9931-4b4b-a0a0-adbb57039ad5",
   "metadata": {},
   "outputs": [
    {
     "data": {
      "application/vnd.jupyter.widget-view+json": {
       "model_id": "c246271bc92c405ea7bcf937dd583d9a",
       "version_major": 2,
       "version_minor": 0
      },
      "text/plain": [
       "Output()"
      ]
     },
     "metadata": {},
     "output_type": "display_data"
    },
    {
     "data": {
      "text/html": [
       "<pre style=\"white-space:pre;overflow-x:auto;line-height:normal;font-family:Menlo,'DejaVu Sans Mono',consolas,'Courier New',monospace\"><span style=\"color: #7fbfbf; text-decoration-color: #7fbfbf\">[21:57:02] </span><span style=\"color: #008000; text-decoration-color: #008000\"> Success: Submitting competition predictions</span>                                               <a href=\"file:///home/wim/anaconda3/envs/my-rdkit-env/lib/python3.12/site-packages/polaris/utils/context.py\" target=\"_blank\"><span style=\"color: #7f7f7f; text-decoration-color: #7f7f7f\">context.py</span></a><span style=\"color: #7f7f7f; text-decoration-color: #7f7f7f\">:</span><a href=\"file:///home/wim/anaconda3/envs/my-rdkit-env/lib/python3.12/site-packages/polaris/utils/context.py#53\" target=\"_blank\"><span style=\"color: #7f7f7f; text-decoration-color: #7f7f7f\">53</span></a>\n",
       "</pre>\n"
      ],
      "text/plain": [
       "\u001b[2;36m[21:57:02]\u001b[0m\u001b[2;36m \u001b[0m\u001b[32m Success: Submitting competition predictions\u001b[0m                                               \u001b]8;id=508530;file:///home/wim/anaconda3/envs/my-rdkit-env/lib/python3.12/site-packages/polaris/utils/context.py\u001b\\\u001b[2mcontext.py\u001b[0m\u001b]8;;\u001b\\\u001b[2m:\u001b[0m\u001b]8;id=358592;file:///home/wim/anaconda3/envs/my-rdkit-env/lib/python3.12/site-packages/polaris/utils/context.py#53\u001b\\\u001b[2m53\u001b[0m\u001b]8;;\u001b\\\n"
      ]
     },
     "metadata": {},
     "output_type": "display_data"
    },
    {
     "data": {
      "text/html": [
       "<pre style=\"white-space:pre;overflow-x:auto;line-height:normal;font-family:Menlo,'DejaVu Sans Mono',consolas,'Courier New',monospace\"></pre>\n"
      ],
      "text/plain": []
     },
     "metadata": {},
     "output_type": "display_data"
    }
   ],
   "source": [
    "competition.submit_predictions(\n",
    "    predictions=y_pred,\n",
    "    prediction_name=\"ADMET-thresholded-NN\",\n",
    "    prediction_owner=\"wim0\",\n",
    "    report_url=\"https://github.com/dehaenw\", \n",
    "    # The below metadata is optional, but recommended.\n",
    "    description=\"Source code will be made public once challenge is finished\",\n",
    "    user_attributes={\"Framework\": \"RDKit\", \"Method\": \"thresholded nearest neighbor\"}\n",
    ")"
   ]
  },
  {
   "cell_type": "code",
   "execution_count": null,
   "id": "0381249a-0396-4b50-a814-c544b296dfc6",
   "metadata": {},
   "outputs": [],
   "source": []
  }
 ],
 "metadata": {
  "kernelspec": {
   "display_name": "Python 3 (ipykernel)",
   "language": "python",
   "name": "python3"
  },
  "language_info": {
   "codemirror_mode": {
    "name": "ipython",
    "version": 3
   },
   "file_extension": ".py",
   "mimetype": "text/x-python",
   "name": "python",
   "nbconvert_exporter": "python",
   "pygments_lexer": "ipython3",
   "version": "3.12.2"
  }
 },
 "nbformat": 4,
 "nbformat_minor": 5
}
